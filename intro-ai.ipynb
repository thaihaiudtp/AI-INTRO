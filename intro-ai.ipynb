{
 "cells": [
  {
   "cell_type": "markdown",
   "id": "f4156a95",
   "metadata": {
    "papermill": {
     "duration": 0.014079,
     "end_time": "2025-06-20T12:47:30.822455",
     "exception": false,
     "start_time": "2025-06-20T12:47:30.808376",
     "status": "completed"
    },
    "tags": []
   },
   "source": [
    " **TIỀN XỬ LÝ DATA**"
   ]
  },
  {
   "cell_type": "code",
   "execution_count": 1,
   "id": "e3257879",
   "metadata": {
    "execution": {
     "iopub.execute_input": "2025-06-20T12:47:30.848633Z",
     "iopub.status.busy": "2025-06-20T12:47:30.848427Z",
     "iopub.status.idle": "2025-06-20T12:47:34.044976Z",
     "shell.execute_reply": "2025-06-20T12:47:34.043903Z"
    },
    "papermill": {
     "duration": 3.210486,
     "end_time": "2025-06-20T12:47:34.046290",
     "exception": false,
     "start_time": "2025-06-20T12:47:30.835804",
     "status": "completed"
    },
    "tags": []
   },
   "outputs": [
    {
     "name": "stdout",
     "output_type": "stream",
     "text": [
      "Found existing installation: scikit-learn 1.2.2\r\n",
      "Uninstalling scikit-learn-1.2.2:\r\n",
      "  Successfully uninstalled scikit-learn-1.2.2\r\n",
      "Found existing installation: imbalanced-learn 0.13.0\r\n",
      "Uninstalling imbalanced-learn-0.13.0:\r\n",
      "  Successfully uninstalled imbalanced-learn-0.13.0\r\n",
      "Note: you may need to restart the kernel to use updated packages.\n"
     ]
    }
   ],
   "source": [
    "pip uninstall scikit-learn imbalanced-learn -y\n"
   ]
  },
  {
   "cell_type": "code",
   "execution_count": 2,
   "id": "d2293153",
   "metadata": {
    "execution": {
     "iopub.execute_input": "2025-06-20T12:47:34.072697Z",
     "iopub.status.busy": "2025-06-20T12:47:34.072455Z",
     "iopub.status.idle": "2025-06-20T12:47:39.548083Z",
     "shell.execute_reply": "2025-06-20T12:47:39.547207Z"
    },
    "papermill": {
     "duration": 5.490145,
     "end_time": "2025-06-20T12:47:39.549298",
     "exception": false,
     "start_time": "2025-06-20T12:47:34.059153",
     "status": "completed"
    },
    "tags": []
   },
   "outputs": [
    {
     "name": "stdout",
     "output_type": "stream",
     "text": [
      "Collecting scikit-learn==1.2.2\r\n",
      "  Downloading scikit_learn-1.2.2-cp311-cp311-manylinux_2_17_x86_64.manylinux2014_x86_64.whl.metadata (11 kB)\r\n",
      "Collecting imbalanced-learn==0.10.1\r\n",
      "  Downloading imbalanced_learn-0.10.1-py3-none-any.whl.metadata (8.2 kB)\r\n",
      "Requirement already satisfied: numpy>=1.17.3 in /usr/local/lib/python3.11/dist-packages (from scikit-learn==1.2.2) (1.26.4)\r\n",
      "Requirement already satisfied: scipy>=1.3.2 in /usr/local/lib/python3.11/dist-packages (from scikit-learn==1.2.2) (1.15.2)\r\n",
      "Requirement already satisfied: joblib>=1.1.1 in /usr/local/lib/python3.11/dist-packages (from scikit-learn==1.2.2) (1.5.0)\r\n",
      "Requirement already satisfied: threadpoolctl>=2.0.0 in /usr/local/lib/python3.11/dist-packages (from scikit-learn==1.2.2) (3.6.0)\r\n",
      "Requirement already satisfied: mkl_fft in /usr/local/lib/python3.11/dist-packages (from numpy>=1.17.3->scikit-learn==1.2.2) (1.3.8)\r\n",
      "Requirement already satisfied: mkl_random in /usr/local/lib/python3.11/dist-packages (from numpy>=1.17.3->scikit-learn==1.2.2) (1.2.4)\r\n",
      "Requirement already satisfied: mkl_umath in /usr/local/lib/python3.11/dist-packages (from numpy>=1.17.3->scikit-learn==1.2.2) (0.1.1)\r\n",
      "Requirement already satisfied: mkl in /usr/local/lib/python3.11/dist-packages (from numpy>=1.17.3->scikit-learn==1.2.2) (2025.1.0)\r\n",
      "Requirement already satisfied: tbb4py in /usr/local/lib/python3.11/dist-packages (from numpy>=1.17.3->scikit-learn==1.2.2) (2022.1.0)\r\n",
      "Requirement already satisfied: mkl-service in /usr/local/lib/python3.11/dist-packages (from numpy>=1.17.3->scikit-learn==1.2.2) (2.4.1)\r\n",
      "Requirement already satisfied: intel-openmp<2026,>=2024 in /usr/local/lib/python3.11/dist-packages (from mkl->numpy>=1.17.3->scikit-learn==1.2.2) (2024.2.0)\r\n",
      "Requirement already satisfied: tbb==2022.* in /usr/local/lib/python3.11/dist-packages (from mkl->numpy>=1.17.3->scikit-learn==1.2.2) (2022.1.0)\r\n",
      "Requirement already satisfied: tcmlib==1.* in /usr/local/lib/python3.11/dist-packages (from tbb==2022.*->mkl->numpy>=1.17.3->scikit-learn==1.2.2) (1.3.0)\r\n",
      "Requirement already satisfied: intel-cmplr-lib-rt in /usr/local/lib/python3.11/dist-packages (from mkl_umath->numpy>=1.17.3->scikit-learn==1.2.2) (2024.2.0)\r\n",
      "Requirement already satisfied: intel-cmplr-lib-ur==2024.2.0 in /usr/local/lib/python3.11/dist-packages (from intel-openmp<2026,>=2024->mkl->numpy>=1.17.3->scikit-learn==1.2.2) (2024.2.0)\r\n",
      "Downloading scikit_learn-1.2.2-cp311-cp311-manylinux_2_17_x86_64.manylinux2014_x86_64.whl (9.6 MB)\r\n",
      "\u001b[2K   \u001b[90m━━━━━━━━━━━━━━━━━━━━━━━━━━━━━━━━━━━━━━━━\u001b[0m \u001b[32m9.6/9.6 MB\u001b[0m \u001b[31m84.7 MB/s\u001b[0m eta \u001b[36m0:00:00\u001b[0m\r\n",
      "\u001b[?25hDownloading imbalanced_learn-0.10.1-py3-none-any.whl (226 kB)\r\n",
      "\u001b[2K   \u001b[90m━━━━━━━━━━━━━━━━━━━━━━━━━━━━━━━━━━━━━━━━\u001b[0m \u001b[32m226.0/226.0 kB\u001b[0m \u001b[31m16.6 MB/s\u001b[0m eta \u001b[36m0:00:00\u001b[0m\r\n",
      "\u001b[?25hInstalling collected packages: scikit-learn, imbalanced-learn\r\n",
      "\u001b[31mERROR: pip's dependency resolver does not currently take into account all the packages that are installed. This behaviour is the source of the following dependency conflicts.\r\n",
      "cesium 0.12.4 requires numpy<3.0,>=2.0, but you have numpy 1.26.4 which is incompatible.\r\n",
      "mlxtend 0.23.4 requires scikit-learn>=1.3.1, but you have scikit-learn 1.2.2 which is incompatible.\u001b[0m\u001b[31m\r\n",
      "\u001b[0mSuccessfully installed imbalanced-learn-0.10.1 scikit-learn-1.2.2\r\n",
      "Note: you may need to restart the kernel to use updated packages.\n"
     ]
    }
   ],
   "source": [
    "pip install scikit-learn==1.2.2 imbalanced-learn==0.10.1\n"
   ]
  },
  {
   "cell_type": "code",
   "execution_count": 3,
   "id": "49b191ce",
   "metadata": {
    "execution": {
     "iopub.execute_input": "2025-06-20T12:47:39.578237Z",
     "iopub.status.busy": "2025-06-20T12:47:39.577607Z",
     "iopub.status.idle": "2025-06-20T12:47:42.939540Z",
     "shell.execute_reply": "2025-06-20T12:47:42.938987Z"
    },
    "papermill": {
     "duration": 3.377725,
     "end_time": "2025-06-20T12:47:42.940764",
     "exception": false,
     "start_time": "2025-06-20T12:47:39.563039",
     "status": "completed"
    },
    "tags": []
   },
   "outputs": [],
   "source": [
    "import pandas as pd\n",
    "import numpy as np\n",
    "import matplotlib.pyplot as plt\n",
    "import seaborn as sns\n",
    "\n",
    "import pickle\n",
    "from sklearn.linear_model import LogisticRegression\n",
    "from sklearn.tree import DecisionTreeClassifier\n",
    "from sklearn import neighbors\n",
    "from sklearn.neural_network import MLPClassifier\n",
    "from sklearn.preprocessing import OneHotEncoder\n",
    "from sklearn.preprocessing import MinMaxScaler\n",
    "from sklearn.model_selection import train_test_split\n",
    "from sklearn.metrics import classification_report, f1_score, precision_score, confusion_matrix, recall_score\n",
    "from sklearn.utils import resample\n",
    "from imblearn.over_sampling import SMOTE\n",
    "import xgboost as xgb"
   ]
  },
  {
   "cell_type": "markdown",
   "id": "26b2db95",
   "metadata": {
    "papermill": {
     "duration": 0.012897,
     "end_time": "2025-06-20T12:47:42.967022",
     "exception": false,
     "start_time": "2025-06-20T12:47:42.954125",
     "status": "completed"
    },
    "tags": []
   },
   "source": [
    "**Reading .csv file**"
   ]
  },
  {
   "cell_type": "code",
   "execution_count": 4,
   "id": "b61f5bc8",
   "metadata": {
    "execution": {
     "iopub.execute_input": "2025-06-20T12:47:42.997701Z",
     "iopub.status.busy": "2025-06-20T12:47:42.997141Z",
     "iopub.status.idle": "2025-06-20T12:47:43.159455Z",
     "shell.execute_reply": "2025-06-20T12:47:43.158745Z"
    },
    "papermill": {
     "duration": 0.180946,
     "end_time": "2025-06-20T12:47:43.160700",
     "exception": false,
     "start_time": "2025-06-20T12:47:42.979754",
     "status": "completed"
    },
    "tags": []
   },
   "outputs": [
    {
     "data": {
      "text/html": [
       "<div>\n",
       "<style scoped>\n",
       "    .dataframe tbody tr th:only-of-type {\n",
       "        vertical-align: middle;\n",
       "    }\n",
       "\n",
       "    .dataframe tbody tr th {\n",
       "        vertical-align: top;\n",
       "    }\n",
       "\n",
       "    .dataframe thead th {\n",
       "        text-align: right;\n",
       "    }\n",
       "</style>\n",
       "<table border=\"1\" class=\"dataframe\">\n",
       "  <thead>\n",
       "    <tr style=\"text-align: right;\">\n",
       "      <th></th>\n",
       "      <th>gender</th>\n",
       "      <th>age</th>\n",
       "      <th>hypertension</th>\n",
       "      <th>heart_disease</th>\n",
       "      <th>smoking_history</th>\n",
       "      <th>bmi</th>\n",
       "      <th>HbA1c_level</th>\n",
       "      <th>blood_glucose_level</th>\n",
       "      <th>diabetes</th>\n",
       "    </tr>\n",
       "  </thead>\n",
       "  <tbody>\n",
       "    <tr>\n",
       "      <th>0</th>\n",
       "      <td>Female</td>\n",
       "      <td>80.0</td>\n",
       "      <td>0</td>\n",
       "      <td>1</td>\n",
       "      <td>never</td>\n",
       "      <td>25.19</td>\n",
       "      <td>6.6</td>\n",
       "      <td>140</td>\n",
       "      <td>0</td>\n",
       "    </tr>\n",
       "    <tr>\n",
       "      <th>1</th>\n",
       "      <td>Female</td>\n",
       "      <td>54.0</td>\n",
       "      <td>0</td>\n",
       "      <td>0</td>\n",
       "      <td>No Info</td>\n",
       "      <td>27.32</td>\n",
       "      <td>6.6</td>\n",
       "      <td>80</td>\n",
       "      <td>0</td>\n",
       "    </tr>\n",
       "    <tr>\n",
       "      <th>2</th>\n",
       "      <td>Male</td>\n",
       "      <td>28.0</td>\n",
       "      <td>0</td>\n",
       "      <td>0</td>\n",
       "      <td>never</td>\n",
       "      <td>27.32</td>\n",
       "      <td>5.7</td>\n",
       "      <td>158</td>\n",
       "      <td>0</td>\n",
       "    </tr>\n",
       "    <tr>\n",
       "      <th>3</th>\n",
       "      <td>Female</td>\n",
       "      <td>36.0</td>\n",
       "      <td>0</td>\n",
       "      <td>0</td>\n",
       "      <td>current</td>\n",
       "      <td>23.45</td>\n",
       "      <td>5.0</td>\n",
       "      <td>155</td>\n",
       "      <td>0</td>\n",
       "    </tr>\n",
       "    <tr>\n",
       "      <th>4</th>\n",
       "      <td>Male</td>\n",
       "      <td>76.0</td>\n",
       "      <td>1</td>\n",
       "      <td>1</td>\n",
       "      <td>current</td>\n",
       "      <td>20.14</td>\n",
       "      <td>4.8</td>\n",
       "      <td>155</td>\n",
       "      <td>0</td>\n",
       "    </tr>\n",
       "    <tr>\n",
       "      <th>...</th>\n",
       "      <td>...</td>\n",
       "      <td>...</td>\n",
       "      <td>...</td>\n",
       "      <td>...</td>\n",
       "      <td>...</td>\n",
       "      <td>...</td>\n",
       "      <td>...</td>\n",
       "      <td>...</td>\n",
       "      <td>...</td>\n",
       "    </tr>\n",
       "    <tr>\n",
       "      <th>99995</th>\n",
       "      <td>Female</td>\n",
       "      <td>80.0</td>\n",
       "      <td>0</td>\n",
       "      <td>0</td>\n",
       "      <td>No Info</td>\n",
       "      <td>27.32</td>\n",
       "      <td>6.2</td>\n",
       "      <td>90</td>\n",
       "      <td>0</td>\n",
       "    </tr>\n",
       "    <tr>\n",
       "      <th>99996</th>\n",
       "      <td>Female</td>\n",
       "      <td>2.0</td>\n",
       "      <td>0</td>\n",
       "      <td>0</td>\n",
       "      <td>No Info</td>\n",
       "      <td>17.37</td>\n",
       "      <td>6.5</td>\n",
       "      <td>100</td>\n",
       "      <td>0</td>\n",
       "    </tr>\n",
       "    <tr>\n",
       "      <th>99997</th>\n",
       "      <td>Male</td>\n",
       "      <td>66.0</td>\n",
       "      <td>0</td>\n",
       "      <td>0</td>\n",
       "      <td>former</td>\n",
       "      <td>27.83</td>\n",
       "      <td>5.7</td>\n",
       "      <td>155</td>\n",
       "      <td>0</td>\n",
       "    </tr>\n",
       "    <tr>\n",
       "      <th>99998</th>\n",
       "      <td>Female</td>\n",
       "      <td>24.0</td>\n",
       "      <td>0</td>\n",
       "      <td>0</td>\n",
       "      <td>never</td>\n",
       "      <td>35.42</td>\n",
       "      <td>4.0</td>\n",
       "      <td>100</td>\n",
       "      <td>0</td>\n",
       "    </tr>\n",
       "    <tr>\n",
       "      <th>99999</th>\n",
       "      <td>Female</td>\n",
       "      <td>57.0</td>\n",
       "      <td>0</td>\n",
       "      <td>0</td>\n",
       "      <td>current</td>\n",
       "      <td>22.43</td>\n",
       "      <td>6.6</td>\n",
       "      <td>90</td>\n",
       "      <td>0</td>\n",
       "    </tr>\n",
       "  </tbody>\n",
       "</table>\n",
       "<p>100000 rows × 9 columns</p>\n",
       "</div>"
      ],
      "text/plain": [
       "       gender   age  hypertension  heart_disease smoking_history    bmi  \\\n",
       "0      Female  80.0             0              1           never  25.19   \n",
       "1      Female  54.0             0              0         No Info  27.32   \n",
       "2        Male  28.0             0              0           never  27.32   \n",
       "3      Female  36.0             0              0         current  23.45   \n",
       "4        Male  76.0             1              1         current  20.14   \n",
       "...       ...   ...           ...            ...             ...    ...   \n",
       "99995  Female  80.0             0              0         No Info  27.32   \n",
       "99996  Female   2.0             0              0         No Info  17.37   \n",
       "99997    Male  66.0             0              0          former  27.83   \n",
       "99998  Female  24.0             0              0           never  35.42   \n",
       "99999  Female  57.0             0              0         current  22.43   \n",
       "\n",
       "       HbA1c_level  blood_glucose_level  diabetes  \n",
       "0              6.6                  140         0  \n",
       "1              6.6                   80         0  \n",
       "2              5.7                  158         0  \n",
       "3              5.0                  155         0  \n",
       "4              4.8                  155         0  \n",
       "...            ...                  ...       ...  \n",
       "99995          6.2                   90         0  \n",
       "99996          6.5                  100         0  \n",
       "99997          5.7                  155         0  \n",
       "99998          4.0                  100         0  \n",
       "99999          6.6                   90         0  \n",
       "\n",
       "[100000 rows x 9 columns]"
      ]
     },
     "execution_count": 4,
     "metadata": {},
     "output_type": "execute_result"
    }
   ],
   "source": [
    "data = pd.read_csv(\"/kaggle/input/diabetes-dataset/diabetes_prediction_dataset.csv\")\n",
    "data"
   ]
  },
  {
   "cell_type": "code",
   "execution_count": 5,
   "id": "bfebcc74",
   "metadata": {
    "execution": {
     "iopub.execute_input": "2025-06-20T12:47:43.190632Z",
     "iopub.status.busy": "2025-06-20T12:47:43.190177Z",
     "iopub.status.idle": "2025-06-20T12:47:43.199398Z",
     "shell.execute_reply": "2025-06-20T12:47:43.198747Z"
    },
    "papermill": {
     "duration": 0.024238,
     "end_time": "2025-06-20T12:47:43.200418",
     "exception": false,
     "start_time": "2025-06-20T12:47:43.176180",
     "status": "completed"
    },
    "tags": []
   },
   "outputs": [
    {
     "name": "stdout",
     "output_type": "stream",
     "text": [
      "diabetes\n",
      "0    91500\n",
      "1     8500\n",
      "Name: count, dtype: int64\n"
     ]
    }
   ],
   "source": [
    "count = data['diabetes'].value_counts()\n",
    "print(count)"
   ]
  },
  {
   "cell_type": "markdown",
   "id": "f548a683",
   "metadata": {
    "papermill": {
     "duration": 0.013069,
     "end_time": "2025-06-20T12:47:43.270916",
     "exception": false,
     "start_time": "2025-06-20T12:47:43.257847",
     "status": "completed"
    },
    "tags": []
   },
   "source": [
    "**Exploring Data**"
   ]
  },
  {
   "cell_type": "code",
   "execution_count": 6,
   "id": "60740173",
   "metadata": {
    "execution": {
     "iopub.execute_input": "2025-06-20T12:47:43.299067Z",
     "iopub.status.busy": "2025-06-20T12:47:43.298796Z",
     "iopub.status.idle": "2025-06-20T12:47:43.303414Z",
     "shell.execute_reply": "2025-06-20T12:47:43.302902Z"
    },
    "papermill": {
     "duration": 0.019813,
     "end_time": "2025-06-20T12:47:43.304440",
     "exception": false,
     "start_time": "2025-06-20T12:47:43.284627",
     "status": "completed"
    },
    "tags": []
   },
   "outputs": [
    {
     "data": {
      "text/plain": [
       "(100000, 9)"
      ]
     },
     "execution_count": 6,
     "metadata": {},
     "output_type": "execute_result"
    }
   ],
   "source": [
    "data.shape"
   ]
  },
  {
   "cell_type": "code",
   "execution_count": 7,
   "id": "fb99c000",
   "metadata": {
    "execution": {
     "iopub.execute_input": "2025-06-20T12:47:43.332317Z",
     "iopub.status.busy": "2025-06-20T12:47:43.332125Z",
     "iopub.status.idle": "2025-06-20T12:47:43.347134Z",
     "shell.execute_reply": "2025-06-20T12:47:43.346591Z"
    },
    "papermill": {
     "duration": 0.02999,
     "end_time": "2025-06-20T12:47:43.348173",
     "exception": false,
     "start_time": "2025-06-20T12:47:43.318183",
     "status": "completed"
    },
    "tags": []
   },
   "outputs": [
    {
     "data": {
      "text/plain": [
       "gender                 0\n",
       "age                    0\n",
       "hypertension           0\n",
       "heart_disease          0\n",
       "smoking_history        0\n",
       "bmi                    0\n",
       "HbA1c_level            0\n",
       "blood_glucose_level    0\n",
       "diabetes               0\n",
       "dtype: int64"
      ]
     },
     "execution_count": 7,
     "metadata": {},
     "output_type": "execute_result"
    }
   ],
   "source": [
    "data.isna().sum()\n",
    "#Không có cột nào bị thiếu giá trị"
   ]
  },
  {
   "cell_type": "code",
   "execution_count": 8,
   "id": "95173ce3",
   "metadata": {
    "execution": {
     "iopub.execute_input": "2025-06-20T12:47:43.375903Z",
     "iopub.status.busy": "2025-06-20T12:47:43.375660Z",
     "iopub.status.idle": "2025-06-20T12:47:43.380564Z",
     "shell.execute_reply": "2025-06-20T12:47:43.379912Z"
    },
    "papermill": {
     "duration": 0.019807,
     "end_time": "2025-06-20T12:47:43.381643",
     "exception": false,
     "start_time": "2025-06-20T12:47:43.361836",
     "status": "completed"
    },
    "tags": []
   },
   "outputs": [
    {
     "data": {
      "text/plain": [
       "gender                  object\n",
       "age                    float64\n",
       "hypertension             int64\n",
       "heart_disease            int64\n",
       "smoking_history         object\n",
       "bmi                    float64\n",
       "HbA1c_level            float64\n",
       "blood_glucose_level      int64\n",
       "diabetes                 int64\n",
       "dtype: object"
      ]
     },
     "execution_count": 8,
     "metadata": {},
     "output_type": "execute_result"
    }
   ],
   "source": [
    "#Check kiểu dữ liệu\n",
    "data.dtypes"
   ]
  },
  {
   "cell_type": "code",
   "execution_count": 9,
   "id": "3f149a66",
   "metadata": {
    "execution": {
     "iopub.execute_input": "2025-06-20T12:47:43.409680Z",
     "iopub.status.busy": "2025-06-20T12:47:43.409293Z",
     "iopub.status.idle": "2025-06-20T12:47:43.432587Z",
     "shell.execute_reply": "2025-06-20T12:47:43.431878Z"
    },
    "papermill": {
     "duration": 0.03851,
     "end_time": "2025-06-20T12:47:43.433634",
     "exception": false,
     "start_time": "2025-06-20T12:47:43.395124",
     "status": "completed"
    },
    "tags": []
   },
   "outputs": [
    {
     "name": "stdout",
     "output_type": "stream",
     "text": [
      "<class 'pandas.core.frame.DataFrame'>\n",
      "RangeIndex: 100000 entries, 0 to 99999\n",
      "Data columns (total 9 columns):\n",
      " #   Column               Non-Null Count   Dtype  \n",
      "---  ------               --------------   -----  \n",
      " 0   gender               100000 non-null  object \n",
      " 1   age                  100000 non-null  float64\n",
      " 2   hypertension         100000 non-null  int64  \n",
      " 3   heart_disease        100000 non-null  int64  \n",
      " 4   smoking_history      100000 non-null  object \n",
      " 5   bmi                  100000 non-null  float64\n",
      " 6   HbA1c_level          100000 non-null  float64\n",
      " 7   blood_glucose_level  100000 non-null  int64  \n",
      " 8   diabetes             100000 non-null  int64  \n",
      "dtypes: float64(3), int64(4), object(2)\n",
      "memory usage: 6.9+ MB\n"
     ]
    }
   ],
   "source": [
    "data.info()"
   ]
  },
  {
   "cell_type": "code",
   "execution_count": 10,
   "id": "872a2ac3",
   "metadata": {
    "execution": {
     "iopub.execute_input": "2025-06-20T12:47:43.461442Z",
     "iopub.status.busy": "2025-06-20T12:47:43.461030Z",
     "iopub.status.idle": "2025-06-20T12:47:43.465372Z",
     "shell.execute_reply": "2025-06-20T12:47:43.464565Z"
    },
    "papermill": {
     "duration": 0.019279,
     "end_time": "2025-06-20T12:47:43.466525",
     "exception": false,
     "start_time": "2025-06-20T12:47:43.447246",
     "status": "completed"
    },
    "tags": []
   },
   "outputs": [
    {
     "data": {
      "text/plain": [
       "Index(['gender', 'age', 'hypertension', 'heart_disease', 'smoking_history',\n",
       "       'bmi', 'HbA1c_level', 'blood_glucose_level', 'diabetes'],\n",
       "      dtype='object')"
      ]
     },
     "execution_count": 10,
     "metadata": {},
     "output_type": "execute_result"
    }
   ],
   "source": [
    "data.columns"
   ]
  },
  {
   "cell_type": "code",
   "execution_count": 11,
   "id": "e7dd0164",
   "metadata": {
    "execution": {
     "iopub.execute_input": "2025-06-20T12:47:43.494338Z",
     "iopub.status.busy": "2025-06-20T12:47:43.494151Z",
     "iopub.status.idle": "2025-06-20T12:47:43.497729Z",
     "shell.execute_reply": "2025-06-20T12:47:43.497084Z"
    },
    "papermill": {
     "duration": 0.018888,
     "end_time": "2025-06-20T12:47:43.498900",
     "exception": false,
     "start_time": "2025-06-20T12:47:43.480012",
     "status": "completed"
    },
    "tags": []
   },
   "outputs": [],
   "source": [
    "# Đặt lại tên cho các cột\n",
    "\n",
    "data.columns = ['gender', 'age', 'hypertension', \n",
    "                'heart_disease', 'smoking_history','bmi_score', \n",
    "                'haemoglobin_level', 'blood_glucose_level', 'is_diabetic']"
   ]
  },
  {
   "cell_type": "code",
   "execution_count": 12,
   "id": "27700e2b",
   "metadata": {
    "execution": {
     "iopub.execute_input": "2025-06-20T12:47:43.527213Z",
     "iopub.status.busy": "2025-06-20T12:47:43.527024Z",
     "iopub.status.idle": "2025-06-20T12:47:43.535888Z",
     "shell.execute_reply": "2025-06-20T12:47:43.535138Z"
    },
    "papermill": {
     "duration": 0.024505,
     "end_time": "2025-06-20T12:47:43.537018",
     "exception": false,
     "start_time": "2025-06-20T12:47:43.512513",
     "status": "completed"
    },
    "tags": []
   },
   "outputs": [
    {
     "data": {
      "text/html": [
       "<div>\n",
       "<style scoped>\n",
       "    .dataframe tbody tr th:only-of-type {\n",
       "        vertical-align: middle;\n",
       "    }\n",
       "\n",
       "    .dataframe tbody tr th {\n",
       "        vertical-align: top;\n",
       "    }\n",
       "\n",
       "    .dataframe thead th {\n",
       "        text-align: right;\n",
       "    }\n",
       "</style>\n",
       "<table border=\"1\" class=\"dataframe\">\n",
       "  <thead>\n",
       "    <tr style=\"text-align: right;\">\n",
       "      <th></th>\n",
       "      <th>gender</th>\n",
       "      <th>age</th>\n",
       "      <th>hypertension</th>\n",
       "      <th>heart_disease</th>\n",
       "      <th>smoking_history</th>\n",
       "      <th>bmi_score</th>\n",
       "      <th>haemoglobin_level</th>\n",
       "      <th>blood_glucose_level</th>\n",
       "      <th>is_diabetic</th>\n",
       "    </tr>\n",
       "  </thead>\n",
       "  <tbody>\n",
       "    <tr>\n",
       "      <th>0</th>\n",
       "      <td>Female</td>\n",
       "      <td>80.0</td>\n",
       "      <td>0</td>\n",
       "      <td>1</td>\n",
       "      <td>never</td>\n",
       "      <td>25.19</td>\n",
       "      <td>6.6</td>\n",
       "      <td>140</td>\n",
       "      <td>0</td>\n",
       "    </tr>\n",
       "    <tr>\n",
       "      <th>1</th>\n",
       "      <td>Female</td>\n",
       "      <td>54.0</td>\n",
       "      <td>0</td>\n",
       "      <td>0</td>\n",
       "      <td>No Info</td>\n",
       "      <td>27.32</td>\n",
       "      <td>6.6</td>\n",
       "      <td>80</td>\n",
       "      <td>0</td>\n",
       "    </tr>\n",
       "    <tr>\n",
       "      <th>2</th>\n",
       "      <td>Male</td>\n",
       "      <td>28.0</td>\n",
       "      <td>0</td>\n",
       "      <td>0</td>\n",
       "      <td>never</td>\n",
       "      <td>27.32</td>\n",
       "      <td>5.7</td>\n",
       "      <td>158</td>\n",
       "      <td>0</td>\n",
       "    </tr>\n",
       "    <tr>\n",
       "      <th>3</th>\n",
       "      <td>Female</td>\n",
       "      <td>36.0</td>\n",
       "      <td>0</td>\n",
       "      <td>0</td>\n",
       "      <td>current</td>\n",
       "      <td>23.45</td>\n",
       "      <td>5.0</td>\n",
       "      <td>155</td>\n",
       "      <td>0</td>\n",
       "    </tr>\n",
       "    <tr>\n",
       "      <th>4</th>\n",
       "      <td>Male</td>\n",
       "      <td>76.0</td>\n",
       "      <td>1</td>\n",
       "      <td>1</td>\n",
       "      <td>current</td>\n",
       "      <td>20.14</td>\n",
       "      <td>4.8</td>\n",
       "      <td>155</td>\n",
       "      <td>0</td>\n",
       "    </tr>\n",
       "  </tbody>\n",
       "</table>\n",
       "</div>"
      ],
      "text/plain": [
       "   gender   age  hypertension  heart_disease smoking_history  bmi_score  \\\n",
       "0  Female  80.0             0              1           never      25.19   \n",
       "1  Female  54.0             0              0         No Info      27.32   \n",
       "2    Male  28.0             0              0           never      27.32   \n",
       "3  Female  36.0             0              0         current      23.45   \n",
       "4    Male  76.0             1              1         current      20.14   \n",
       "\n",
       "   haemoglobin_level  blood_glucose_level  is_diabetic  \n",
       "0                6.6                  140            0  \n",
       "1                6.6                   80            0  \n",
       "2                5.7                  158            0  \n",
       "3                5.0                  155            0  \n",
       "4                4.8                  155            0  "
      ]
     },
     "execution_count": 12,
     "metadata": {},
     "output_type": "execute_result"
    }
   ],
   "source": [
    "data.head()"
   ]
  },
  {
   "cell_type": "code",
   "execution_count": 13,
   "id": "327aa8b0",
   "metadata": {
    "execution": {
     "iopub.execute_input": "2025-06-20T12:47:43.565106Z",
     "iopub.status.busy": "2025-06-20T12:47:43.564911Z",
     "iopub.status.idle": "2025-06-20T12:47:43.574818Z",
     "shell.execute_reply": "2025-06-20T12:47:43.574313Z"
    },
    "papermill": {
     "duration": 0.025208,
     "end_time": "2025-06-20T12:47:43.575924",
     "exception": false,
     "start_time": "2025-06-20T12:47:43.550716",
     "status": "completed"
    },
    "tags": []
   },
   "outputs": [
    {
     "data": {
      "text/plain": [
       "gender\n",
       "Female    58552\n",
       "Male      41430\n",
       "Other        18\n",
       "Name: count, dtype: int64"
      ]
     },
     "execution_count": 13,
     "metadata": {},
     "output_type": "execute_result"
    }
   ],
   "source": [
    "#Kiểm tra về giới tính\n",
    "data.gender.value_counts()"
   ]
  },
  {
   "cell_type": "code",
   "execution_count": 14,
   "id": "af43da4c",
   "metadata": {
    "execution": {
     "iopub.execute_input": "2025-06-20T12:47:43.604249Z",
     "iopub.status.busy": "2025-06-20T12:47:43.604056Z",
     "iopub.status.idle": "2025-06-20T12:47:43.611860Z",
     "shell.execute_reply": "2025-06-20T12:47:43.611225Z"
    },
    "papermill": {
     "duration": 0.023019,
     "end_time": "2025-06-20T12:47:43.612869",
     "exception": false,
     "start_time": "2025-06-20T12:47:43.589850",
     "status": "completed"
    },
    "tags": []
   },
   "outputs": [
    {
     "data": {
      "text/plain": [
       "age\n",
       "80.00    5621\n",
       "51.00    1619\n",
       "47.00    1574\n",
       "48.00    1568\n",
       "53.00    1542\n",
       "         ... \n",
       "1.00       83\n",
       "0.48       83\n",
       "0.40       66\n",
       "0.16       59\n",
       "0.08       36\n",
       "Name: count, Length: 102, dtype: int64"
      ]
     },
     "execution_count": 14,
     "metadata": {},
     "output_type": "execute_result"
    }
   ],
   "source": [
    "data.age.value_counts()"
   ]
  },
  {
   "cell_type": "markdown",
   "id": "66e6dff1",
   "metadata": {
    "papermill": {
     "duration": 0.013599,
     "end_time": "2025-06-20T12:47:43.640417",
     "exception": false,
     "start_time": "2025-06-20T12:47:43.626818",
     "status": "completed"
    },
    "tags": []
   },
   "source": [
    "**Chuyển age từ float sang int**"
   ]
  },
  {
   "cell_type": "code",
   "execution_count": 15,
   "id": "44ff42b8",
   "metadata": {
    "execution": {
     "iopub.execute_input": "2025-06-20T12:47:43.669164Z",
     "iopub.status.busy": "2025-06-20T12:47:43.668708Z",
     "iopub.status.idle": "2025-06-20T12:47:43.673443Z",
     "shell.execute_reply": "2025-06-20T12:47:43.672944Z"
    },
    "papermill": {
     "duration": 0.020177,
     "end_time": "2025-06-20T12:47:43.674419",
     "exception": false,
     "start_time": "2025-06-20T12:47:43.654242",
     "status": "completed"
    },
    "tags": []
   },
   "outputs": [
    {
     "data": {
      "text/plain": [
       "dtype('int64')"
      ]
     },
     "execution_count": 15,
     "metadata": {},
     "output_type": "execute_result"
    }
   ],
   "source": [
    "data.age = data.age.astype(int)\n",
    "data.age.dtype"
   ]
  },
  {
   "cell_type": "code",
   "execution_count": 16,
   "id": "64ea381c",
   "metadata": {
    "execution": {
     "iopub.execute_input": "2025-06-20T12:47:43.702999Z",
     "iopub.status.busy": "2025-06-20T12:47:43.702796Z",
     "iopub.status.idle": "2025-06-20T12:47:43.708527Z",
     "shell.execute_reply": "2025-06-20T12:47:43.708063Z"
    },
    "papermill": {
     "duration": 0.021004,
     "end_time": "2025-06-20T12:47:43.709412",
     "exception": false,
     "start_time": "2025-06-20T12:47:43.688408",
     "status": "completed"
    },
    "tags": []
   },
   "outputs": [
    {
     "data": {
      "text/plain": [
       "age\n",
       "80    5621\n",
       "51    1619\n",
       "47    1574\n",
       "48    1568\n",
       "53    1542\n",
       "      ... \n",
       "76     733\n",
       "77     730\n",
       "75     721\n",
       "78     682\n",
       "79     621\n",
       "Name: count, Length: 81, dtype: int64"
      ]
     },
     "execution_count": 16,
     "metadata": {},
     "output_type": "execute_result"
    }
   ],
   "source": [
    "data.age.value_counts()"
   ]
  },
  {
   "cell_type": "code",
   "execution_count": 17,
   "id": "2cdeb68a",
   "metadata": {
    "execution": {
     "iopub.execute_input": "2025-06-20T12:47:43.738536Z",
     "iopub.status.busy": "2025-06-20T12:47:43.738057Z",
     "iopub.status.idle": "2025-06-20T12:47:43.741809Z",
     "shell.execute_reply": "2025-06-20T12:47:43.741214Z"
    },
    "papermill": {
     "duration": 0.019256,
     "end_time": "2025-06-20T12:47:43.742872",
     "exception": false,
     "start_time": "2025-06-20T12:47:43.723616",
     "status": "completed"
    },
    "tags": []
   },
   "outputs": [
    {
     "name": "stdout",
     "output_type": "stream",
     "text": [
      "80\n",
      "0\n"
     ]
    }
   ],
   "source": [
    "print(data.age.max())\n",
    "print(data.age.min())"
   ]
  },
  {
   "cell_type": "code",
   "execution_count": 18,
   "id": "a7b0a4cb",
   "metadata": {
    "execution": {
     "iopub.execute_input": "2025-06-20T12:47:43.771549Z",
     "iopub.status.busy": "2025-06-20T12:47:43.771368Z",
     "iopub.status.idle": "2025-06-20T12:47:43.776538Z",
     "shell.execute_reply": "2025-06-20T12:47:43.775779Z"
    },
    "papermill": {
     "duration": 0.02069,
     "end_time": "2025-06-20T12:47:43.777619",
     "exception": false,
     "start_time": "2025-06-20T12:47:43.756929",
     "status": "completed"
    },
    "tags": []
   },
   "outputs": [
    {
     "data": {
      "text/plain": [
       "hypertension\n",
       "0    92515\n",
       "1     7485\n",
       "Name: count, dtype: int64"
      ]
     },
     "execution_count": 18,
     "metadata": {},
     "output_type": "execute_result"
    }
   ],
   "source": [
    "#Tiền sử huyết áp\n",
    "data.hypertension.value_counts()"
   ]
  },
  {
   "cell_type": "code",
   "execution_count": 19,
   "id": "a48f9682",
   "metadata": {
    "execution": {
     "iopub.execute_input": "2025-06-20T12:47:43.806477Z",
     "iopub.status.busy": "2025-06-20T12:47:43.805983Z",
     "iopub.status.idle": "2025-06-20T12:47:43.811134Z",
     "shell.execute_reply": "2025-06-20T12:47:43.810639Z"
    },
    "papermill": {
     "duration": 0.020609,
     "end_time": "2025-06-20T12:47:43.812159",
     "exception": false,
     "start_time": "2025-06-20T12:47:43.791550",
     "status": "completed"
    },
    "tags": []
   },
   "outputs": [
    {
     "data": {
      "text/plain": [
       "heart_disease\n",
       "0    96058\n",
       "1     3942\n",
       "Name: count, dtype: int64"
      ]
     },
     "execution_count": 19,
     "metadata": {},
     "output_type": "execute_result"
    }
   ],
   "source": [
    "#Tim mạch\n",
    "data.heart_disease.value_counts()"
   ]
  },
  {
   "cell_type": "code",
   "execution_count": 20,
   "id": "d7324a6c",
   "metadata": {
    "execution": {
     "iopub.execute_input": "2025-06-20T12:47:43.841295Z",
     "iopub.status.busy": "2025-06-20T12:47:43.840615Z",
     "iopub.status.idle": "2025-06-20T12:47:43.850688Z",
     "shell.execute_reply": "2025-06-20T12:47:43.850250Z"
    },
    "papermill": {
     "duration": 0.025479,
     "end_time": "2025-06-20T12:47:43.851805",
     "exception": false,
     "start_time": "2025-06-20T12:47:43.826326",
     "status": "completed"
    },
    "tags": []
   },
   "outputs": [
    {
     "data": {
      "text/plain": [
       "smoking_history\n",
       "No Info        35816\n",
       "never          35095\n",
       "former          9352\n",
       "current         9286\n",
       "not current     6447\n",
       "ever            4004\n",
       "Name: count, dtype: int64"
      ]
     },
     "execution_count": 20,
     "metadata": {},
     "output_type": "execute_result"
    }
   ],
   "source": [
    "# Hút thuốc\n",
    "\n",
    "data.smoking_history.value_counts()"
   ]
  },
  {
   "cell_type": "code",
   "execution_count": 21,
   "id": "b01df3ac",
   "metadata": {
    "execution": {
     "iopub.execute_input": "2025-06-20T12:47:43.881035Z",
     "iopub.status.busy": "2025-06-20T12:47:43.880863Z",
     "iopub.status.idle": "2025-06-20T12:47:43.899861Z",
     "shell.execute_reply": "2025-06-20T12:47:43.899372Z"
    },
    "papermill": {
     "duration": 0.034434,
     "end_time": "2025-06-20T12:47:43.900788",
     "exception": false,
     "start_time": "2025-06-20T12:47:43.866354",
     "status": "completed"
    },
    "tags": []
   },
   "outputs": [],
   "source": [
    "#Xử lý dữ liệu hút thuốc\n",
    "def clean_smoking_history(value):\n",
    "    \n",
    "    if value == \"No Info\":\n",
    "        return \"no info\"\n",
    "    elif value == \"ever\":\n",
    "        return \"current\"\n",
    "    elif value == \"not current\":\n",
    "        return \"former\"\n",
    "    else:\n",
    "        return value\n",
    "    \n",
    "data.smoking_history = data.smoking_history.apply(clean_smoking_history)"
   ]
  },
  {
   "cell_type": "code",
   "execution_count": 22,
   "id": "18df854c",
   "metadata": {
    "execution": {
     "iopub.execute_input": "2025-06-20T12:47:43.930230Z",
     "iopub.status.busy": "2025-06-20T12:47:43.930041Z",
     "iopub.status.idle": "2025-06-20T12:47:43.939952Z",
     "shell.execute_reply": "2025-06-20T12:47:43.939422Z"
    },
    "papermill": {
     "duration": 0.026177,
     "end_time": "2025-06-20T12:47:43.940880",
     "exception": false,
     "start_time": "2025-06-20T12:47:43.914703",
     "status": "completed"
    },
    "tags": []
   },
   "outputs": [
    {
     "data": {
      "text/plain": [
       "smoking_history\n",
       "no info    35816\n",
       "never      35095\n",
       "former     15799\n",
       "current    13290\n",
       "Name: count, dtype: int64"
      ]
     },
     "execution_count": 22,
     "metadata": {},
     "output_type": "execute_result"
    }
   ],
   "source": [
    "data.smoking_history.value_counts()"
   ]
  },
  {
   "cell_type": "code",
   "execution_count": 23,
   "id": "ecb5f6f5",
   "metadata": {
    "execution": {
     "iopub.execute_input": "2025-06-20T12:47:43.969916Z",
     "iopub.status.busy": "2025-06-20T12:47:43.969679Z",
     "iopub.status.idle": "2025-06-20T12:47:43.976889Z",
     "shell.execute_reply": "2025-06-20T12:47:43.976117Z"
    },
    "papermill": {
     "duration": 0.023123,
     "end_time": "2025-06-20T12:47:43.978077",
     "exception": false,
     "start_time": "2025-06-20T12:47:43.954954",
     "status": "completed"
    },
    "tags": []
   },
   "outputs": [
    {
     "data": {
      "text/plain": [
       "bmi_score\n",
       "27.32    25495\n",
       "23.00      103\n",
       "27.12      101\n",
       "27.80      100\n",
       "24.96      100\n",
       "         ...  \n",
       "54.29        1\n",
       "55.18        1\n",
       "53.41        1\n",
       "11.75        1\n",
       "12.77        1\n",
       "Name: count, Length: 4247, dtype: int64"
      ]
     },
     "execution_count": 23,
     "metadata": {},
     "output_type": "execute_result"
    }
   ],
   "source": [
    "#Chỉ số BMI\n",
    "data.bmi_score.value_counts()"
   ]
  },
  {
   "cell_type": "code",
   "execution_count": 24,
   "id": "bb0b186e",
   "metadata": {
    "execution": {
     "iopub.execute_input": "2025-06-20T12:47:44.008703Z",
     "iopub.status.busy": "2025-06-20T12:47:44.008511Z",
     "iopub.status.idle": "2025-06-20T12:47:44.013019Z",
     "shell.execute_reply": "2025-06-20T12:47:44.012421Z"
    },
    "papermill": {
     "duration": 0.021935,
     "end_time": "2025-06-20T12:47:44.014204",
     "exception": false,
     "start_time": "2025-06-20T12:47:43.992269",
     "status": "completed"
    },
    "tags": []
   },
   "outputs": [
    {
     "name": "stdout",
     "output_type": "stream",
     "text": [
      "95.69\n",
      "10.01\n"
     ]
    }
   ],
   "source": [
    "print(data.bmi_score.max())\n",
    "print(data.bmi_score.min())"
   ]
  },
  {
   "cell_type": "code",
   "execution_count": 25,
   "id": "f7664771",
   "metadata": {
    "execution": {
     "iopub.execute_input": "2025-06-20T12:47:44.049318Z",
     "iopub.status.busy": "2025-06-20T12:47:44.049095Z",
     "iopub.status.idle": "2025-06-20T12:47:44.059039Z",
     "shell.execute_reply": "2025-06-20T12:47:44.058331Z"
    },
    "papermill": {
     "duration": 0.028593,
     "end_time": "2025-06-20T12:47:44.060261",
     "exception": false,
     "start_time": "2025-06-20T12:47:44.031668",
     "status": "completed"
    },
    "tags": []
   },
   "outputs": [
    {
     "data": {
      "text/html": [
       "<div>\n",
       "<style scoped>\n",
       "    .dataframe tbody tr th:only-of-type {\n",
       "        vertical-align: middle;\n",
       "    }\n",
       "\n",
       "    .dataframe tbody tr th {\n",
       "        vertical-align: top;\n",
       "    }\n",
       "\n",
       "    .dataframe thead th {\n",
       "        text-align: right;\n",
       "    }\n",
       "</style>\n",
       "<table border=\"1\" class=\"dataframe\">\n",
       "  <thead>\n",
       "    <tr style=\"text-align: right;\">\n",
       "      <th></th>\n",
       "      <th>gender</th>\n",
       "      <th>age</th>\n",
       "      <th>hypertension</th>\n",
       "      <th>heart_disease</th>\n",
       "      <th>smoking_history</th>\n",
       "      <th>bmi_score</th>\n",
       "      <th>haemoglobin_level</th>\n",
       "      <th>blood_glucose_level</th>\n",
       "      <th>is_diabetic</th>\n",
       "    </tr>\n",
       "  </thead>\n",
       "  <tbody>\n",
       "    <tr>\n",
       "      <th>0</th>\n",
       "      <td>Female</td>\n",
       "      <td>80</td>\n",
       "      <td>0</td>\n",
       "      <td>1</td>\n",
       "      <td>never</td>\n",
       "      <td>25.19</td>\n",
       "      <td>6.6</td>\n",
       "      <td>140</td>\n",
       "      <td>0</td>\n",
       "    </tr>\n",
       "    <tr>\n",
       "      <th>1</th>\n",
       "      <td>Female</td>\n",
       "      <td>54</td>\n",
       "      <td>0</td>\n",
       "      <td>0</td>\n",
       "      <td>no info</td>\n",
       "      <td>27.32</td>\n",
       "      <td>6.6</td>\n",
       "      <td>80</td>\n",
       "      <td>0</td>\n",
       "    </tr>\n",
       "    <tr>\n",
       "      <th>2</th>\n",
       "      <td>Male</td>\n",
       "      <td>28</td>\n",
       "      <td>0</td>\n",
       "      <td>0</td>\n",
       "      <td>never</td>\n",
       "      <td>27.32</td>\n",
       "      <td>5.7</td>\n",
       "      <td>158</td>\n",
       "      <td>0</td>\n",
       "    </tr>\n",
       "    <tr>\n",
       "      <th>3</th>\n",
       "      <td>Female</td>\n",
       "      <td>36</td>\n",
       "      <td>0</td>\n",
       "      <td>0</td>\n",
       "      <td>current</td>\n",
       "      <td>23.45</td>\n",
       "      <td>5.0</td>\n",
       "      <td>155</td>\n",
       "      <td>0</td>\n",
       "    </tr>\n",
       "    <tr>\n",
       "      <th>4</th>\n",
       "      <td>Male</td>\n",
       "      <td>76</td>\n",
       "      <td>1</td>\n",
       "      <td>1</td>\n",
       "      <td>current</td>\n",
       "      <td>20.14</td>\n",
       "      <td>4.8</td>\n",
       "      <td>155</td>\n",
       "      <td>0</td>\n",
       "    </tr>\n",
       "  </tbody>\n",
       "</table>\n",
       "</div>"
      ],
      "text/plain": [
       "   gender  age  hypertension  heart_disease smoking_history  bmi_score  \\\n",
       "0  Female   80             0              1           never      25.19   \n",
       "1  Female   54             0              0         no info      27.32   \n",
       "2    Male   28             0              0           never      27.32   \n",
       "3  Female   36             0              0         current      23.45   \n",
       "4    Male   76             1              1         current      20.14   \n",
       "\n",
       "   haemoglobin_level  blood_glucose_level  is_diabetic  \n",
       "0                6.6                  140            0  \n",
       "1                6.6                   80            0  \n",
       "2                5.7                  158            0  \n",
       "3                5.0                  155            0  \n",
       "4                4.8                  155            0  "
      ]
     },
     "execution_count": 25,
     "metadata": {},
     "output_type": "execute_result"
    }
   ],
   "source": [
    "data.head()"
   ]
  },
  {
   "cell_type": "code",
   "execution_count": 26,
   "id": "bf9ac663",
   "metadata": {
    "execution": {
     "iopub.execute_input": "2025-06-20T12:47:44.095110Z",
     "iopub.status.busy": "2025-06-20T12:47:44.094652Z",
     "iopub.status.idle": "2025-06-20T12:47:44.101423Z",
     "shell.execute_reply": "2025-06-20T12:47:44.100763Z"
    },
    "papermill": {
     "duration": 0.025196,
     "end_time": "2025-06-20T12:47:44.102447",
     "exception": false,
     "start_time": "2025-06-20T12:47:44.077251",
     "status": "completed"
    },
    "tags": []
   },
   "outputs": [
    {
     "data": {
      "text/plain": [
       "haemoglobin_level\n",
       "6.6    8540\n",
       "5.7    8413\n",
       "6.5    8362\n",
       "5.8    8321\n",
       "6.0    8295\n",
       "6.2    8269\n",
       "6.1    8048\n",
       "3.5    7662\n",
       "4.8    7597\n",
       "4.5    7585\n",
       "4.0    7542\n",
       "5.0    7471\n",
       "8.2     661\n",
       "8.8     661\n",
       "9.0     654\n",
       "7.5     643\n",
       "6.8     642\n",
       "7.0     634\n",
       "Name: count, dtype: int64"
      ]
     },
     "execution_count": 26,
     "metadata": {},
     "output_type": "execute_result"
    }
   ],
   "source": [
    "#Nồng độ huyết sắc tố\n",
    "data.haemoglobin_level.value_counts()"
   ]
  },
  {
   "cell_type": "code",
   "execution_count": 27,
   "id": "d3233fd8",
   "metadata": {
    "execution": {
     "iopub.execute_input": "2025-06-20T12:47:44.133252Z",
     "iopub.status.busy": "2025-06-20T12:47:44.133050Z",
     "iopub.status.idle": "2025-06-20T12:47:44.137106Z",
     "shell.execute_reply": "2025-06-20T12:47:44.136533Z"
    },
    "papermill": {
     "duration": 0.02091,
     "end_time": "2025-06-20T12:47:44.138206",
     "exception": false,
     "start_time": "2025-06-20T12:47:44.117296",
     "status": "completed"
    },
    "tags": []
   },
   "outputs": [
    {
     "name": "stdout",
     "output_type": "stream",
     "text": [
      "9.0\n",
      "3.5\n"
     ]
    }
   ],
   "source": [
    "print(data.haemoglobin_level.max())\n",
    "print(data.haemoglobin_level.min())"
   ]
  },
  {
   "cell_type": "code",
   "execution_count": 28,
   "id": "ed4dffc2",
   "metadata": {
    "execution": {
     "iopub.execute_input": "2025-06-20T12:47:44.168600Z",
     "iopub.status.busy": "2025-06-20T12:47:44.168326Z",
     "iopub.status.idle": "2025-06-20T12:47:44.174641Z",
     "shell.execute_reply": "2025-06-20T12:47:44.173984Z"
    },
    "papermill": {
     "duration": 0.022773,
     "end_time": "2025-06-20T12:47:44.175737",
     "exception": false,
     "start_time": "2025-06-20T12:47:44.152964",
     "status": "completed"
    },
    "tags": []
   },
   "outputs": [
    {
     "data": {
      "text/plain": [
       "blood_glucose_level\n",
       "130    7794\n",
       "159    7759\n",
       "140    7732\n",
       "160    7712\n",
       "126    7702\n",
       "145    7679\n",
       "200    7600\n",
       "155    7575\n",
       "90     7112\n",
       "80     7106\n",
       "158    7026\n",
       "100    7025\n",
       "85     6901\n",
       "280     729\n",
       "300     674\n",
       "240     636\n",
       "260     635\n",
       "220     603\n",
       "Name: count, dtype: int64"
      ]
     },
     "execution_count": 28,
     "metadata": {},
     "output_type": "execute_result"
    }
   ],
   "source": [
    "#Nồng độ glucose trong máu\n",
    "data.blood_glucose_level.value_counts()"
   ]
  },
  {
   "cell_type": "code",
   "execution_count": 29,
   "id": "7ae91f0a",
   "metadata": {
    "execution": {
     "iopub.execute_input": "2025-06-20T12:47:44.206210Z",
     "iopub.status.busy": "2025-06-20T12:47:44.205986Z",
     "iopub.status.idle": "2025-06-20T12:47:44.210014Z",
     "shell.execute_reply": "2025-06-20T12:47:44.209348Z"
    },
    "papermill": {
     "duration": 0.020377,
     "end_time": "2025-06-20T12:47:44.211079",
     "exception": false,
     "start_time": "2025-06-20T12:47:44.190702",
     "status": "completed"
    },
    "tags": []
   },
   "outputs": [
    {
     "name": "stdout",
     "output_type": "stream",
     "text": [
      "300\n",
      "80\n"
     ]
    }
   ],
   "source": [
    "print(data.blood_glucose_level.max())\n",
    "print(data.blood_glucose_level.min())"
   ]
  },
  {
   "cell_type": "markdown",
   "id": "90a15916",
   "metadata": {
    "papermill": {
     "duration": 0.014819,
     "end_time": "2025-06-20T12:47:44.241168",
     "exception": false,
     "start_time": "2025-06-20T12:47:44.226349",
     "status": "completed"
    },
    "tags": []
   },
   "source": [
    "**Bộ dữ liệu hiện tại đang bị mất cân bằng giữa 0 và 1 ở trường is_diabetes vì thế cần dùng các ký thuật xử lý như Over sampling/Undersampling/SMOTE**"
   ]
  },
  {
   "cell_type": "code",
   "execution_count": 30,
   "id": "98130884",
   "metadata": {
    "execution": {
     "iopub.execute_input": "2025-06-20T12:47:44.271726Z",
     "iopub.status.busy": "2025-06-20T12:47:44.271527Z",
     "iopub.status.idle": "2025-06-20T12:47:44.302879Z",
     "shell.execute_reply": "2025-06-20T12:47:44.302117Z"
    },
    "papermill": {
     "duration": 0.047911,
     "end_time": "2025-06-20T12:47:44.303987",
     "exception": false,
     "start_time": "2025-06-20T12:47:44.256076",
     "status": "completed"
    },
    "tags": []
   },
   "outputs": [
    {
     "data": {
      "text/html": [
       "<div>\n",
       "<style scoped>\n",
       "    .dataframe tbody tr th:only-of-type {\n",
       "        vertical-align: middle;\n",
       "    }\n",
       "\n",
       "    .dataframe tbody tr th {\n",
       "        vertical-align: top;\n",
       "    }\n",
       "\n",
       "    .dataframe thead th {\n",
       "        text-align: right;\n",
       "    }\n",
       "</style>\n",
       "<table border=\"1\" class=\"dataframe\">\n",
       "  <thead>\n",
       "    <tr style=\"text-align: right;\">\n",
       "      <th></th>\n",
       "      <th>age</th>\n",
       "      <th>hypertension</th>\n",
       "      <th>heart_disease</th>\n",
       "      <th>bmi_score</th>\n",
       "      <th>haemoglobin_level</th>\n",
       "      <th>blood_glucose_level</th>\n",
       "      <th>is_diabetic</th>\n",
       "    </tr>\n",
       "  </thead>\n",
       "  <tbody>\n",
       "    <tr>\n",
       "      <th>age</th>\n",
       "      <td>1.000000</td>\n",
       "      <td>0.251093</td>\n",
       "      <td>0.233254</td>\n",
       "      <td>0.337747</td>\n",
       "      <td>0.101328</td>\n",
       "      <td>0.110631</td>\n",
       "      <td>0.257933</td>\n",
       "    </tr>\n",
       "    <tr>\n",
       "      <th>hypertension</th>\n",
       "      <td>0.251093</td>\n",
       "      <td>1.000000</td>\n",
       "      <td>0.121262</td>\n",
       "      <td>0.147666</td>\n",
       "      <td>0.080939</td>\n",
       "      <td>0.084429</td>\n",
       "      <td>0.197823</td>\n",
       "    </tr>\n",
       "    <tr>\n",
       "      <th>heart_disease</th>\n",
       "      <td>0.233254</td>\n",
       "      <td>0.121262</td>\n",
       "      <td>1.000000</td>\n",
       "      <td>0.061198</td>\n",
       "      <td>0.067589</td>\n",
       "      <td>0.070066</td>\n",
       "      <td>0.171727</td>\n",
       "    </tr>\n",
       "    <tr>\n",
       "      <th>bmi_score</th>\n",
       "      <td>0.337747</td>\n",
       "      <td>0.147666</td>\n",
       "      <td>0.061198</td>\n",
       "      <td>1.000000</td>\n",
       "      <td>0.082997</td>\n",
       "      <td>0.091261</td>\n",
       "      <td>0.214357</td>\n",
       "    </tr>\n",
       "    <tr>\n",
       "      <th>haemoglobin_level</th>\n",
       "      <td>0.101328</td>\n",
       "      <td>0.080939</td>\n",
       "      <td>0.067589</td>\n",
       "      <td>0.082997</td>\n",
       "      <td>1.000000</td>\n",
       "      <td>0.166733</td>\n",
       "      <td>0.400660</td>\n",
       "    </tr>\n",
       "    <tr>\n",
       "      <th>blood_glucose_level</th>\n",
       "      <td>0.110631</td>\n",
       "      <td>0.084429</td>\n",
       "      <td>0.070066</td>\n",
       "      <td>0.091261</td>\n",
       "      <td>0.166733</td>\n",
       "      <td>1.000000</td>\n",
       "      <td>0.419558</td>\n",
       "    </tr>\n",
       "    <tr>\n",
       "      <th>is_diabetic</th>\n",
       "      <td>0.257933</td>\n",
       "      <td>0.197823</td>\n",
       "      <td>0.171727</td>\n",
       "      <td>0.214357</td>\n",
       "      <td>0.400660</td>\n",
       "      <td>0.419558</td>\n",
       "      <td>1.000000</td>\n",
       "    </tr>\n",
       "  </tbody>\n",
       "</table>\n",
       "</div>"
      ],
      "text/plain": [
       "                          age  hypertension  heart_disease  bmi_score  \\\n",
       "age                  1.000000      0.251093       0.233254   0.337747   \n",
       "hypertension         0.251093      1.000000       0.121262   0.147666   \n",
       "heart_disease        0.233254      0.121262       1.000000   0.061198   \n",
       "bmi_score            0.337747      0.147666       0.061198   1.000000   \n",
       "haemoglobin_level    0.101328      0.080939       0.067589   0.082997   \n",
       "blood_glucose_level  0.110631      0.084429       0.070066   0.091261   \n",
       "is_diabetic          0.257933      0.197823       0.171727   0.214357   \n",
       "\n",
       "                     haemoglobin_level  blood_glucose_level  is_diabetic  \n",
       "age                           0.101328             0.110631     0.257933  \n",
       "hypertension                  0.080939             0.084429     0.197823  \n",
       "heart_disease                 0.067589             0.070066     0.171727  \n",
       "bmi_score                     0.082997             0.091261     0.214357  \n",
       "haemoglobin_level             1.000000             0.166733     0.400660  \n",
       "blood_glucose_level           0.166733             1.000000     0.419558  \n",
       "is_diabetic                   0.400660             0.419558     1.000000  "
      ]
     },
     "execution_count": 30,
     "metadata": {},
     "output_type": "execute_result"
    }
   ],
   "source": [
    "#tính toán ma trận hệ số tương quan giữa các cột số\n",
    "data_numeric = data.select_dtypes(include=['int64', 'float64'])\n",
    "data_numeric.corr()\n"
   ]
  },
  {
   "cell_type": "markdown",
   "id": "8ecbe20b",
   "metadata": {
    "papermill": {
     "duration": 0.014866,
     "end_time": "2025-06-20T12:47:44.334196",
     "exception": false,
     "start_time": "2025-06-20T12:47:44.319330",
     "status": "completed"
    },
    "tags": []
   },
   "source": [
    "**Các biến có ý nghĩa quan trọng nhất để dự đoán tiểu đường (is_diabetic) là:**\n",
    "* blood_glucose_level ( 0.419558 )\n",
    "* haemoglobin_level ( 0.400660 )\n",
    "\n",
    "\n",
    "*Ưu tiên các biến này trong quá trình huấn luyện mô hình.*\n",
    "\n"
   ]
  },
  {
   "cell_type": "code",
   "execution_count": 31,
   "id": "0e7c5ed6",
   "metadata": {
    "execution": {
     "iopub.execute_input": "2025-06-20T12:47:44.364916Z",
     "iopub.status.busy": "2025-06-20T12:47:44.364685Z",
     "iopub.status.idle": "2025-06-20T12:47:44.751892Z",
     "shell.execute_reply": "2025-06-20T12:47:44.751225Z"
    },
    "papermill": {
     "duration": 0.404012,
     "end_time": "2025-06-20T12:47:44.753305",
     "exception": false,
     "start_time": "2025-06-20T12:47:44.349293",
     "status": "completed"
    },
    "tags": []
   },
   "outputs": [
    {
     "data": {
      "text/plain": [
       "<Axes: >"
      ]
     },
     "execution_count": 31,
     "metadata": {},
     "output_type": "execute_result"
    },
    {
     "data": {
      "image/png": "[encoded data removed]",
      "text/plain": [
       "<Figure size 640x480 with 2 Axes>"
      ]
     },
     "metadata": {},
     "output_type": "display_data"
    }
   ],
   "source": [
    "#Vẽ heatmap\n",
    "corr_matrix = data_numeric.corr()\n",
    "sns.heatmap(corr_matrix, annot = True)"
   ]
  },
  {
   "cell_type": "code",
   "execution_count": 32,
   "id": "c7ef7aa4",
   "metadata": {
    "execution": {
     "iopub.execute_input": "2025-06-20T12:47:44.788383Z",
     "iopub.status.busy": "2025-06-20T12:47:44.788171Z",
     "iopub.status.idle": "2025-06-20T12:47:44.813291Z",
     "shell.execute_reply": "2025-06-20T12:47:44.812835Z"
    },
    "papermill": {
     "duration": 0.043698,
     "end_time": "2025-06-20T12:47:44.814239",
     "exception": false,
     "start_time": "2025-06-20T12:47:44.770541",
     "status": "completed"
    },
    "tags": []
   },
   "outputs": [],
   "source": [
    "# Chuyển hypertension và heart_disease sang object datatype. \n",
    "# Sử dụng cho phân loại nhị phân, giúp mô hình không bị hiểu là biến số học\n",
    "data.hypertension = np.where((data.hypertension == 1), \"Yes\", \"No\")\n",
    "data.heart_disease = np.where((data.heart_disease == 1), \"Yes\", \"No\")"
   ]
  },
  {
   "cell_type": "code",
   "execution_count": 33,
   "id": "8728dcc3",
   "metadata": {
    "execution": {
     "iopub.execute_input": "2025-06-20T12:47:44.847320Z",
     "iopub.status.busy": "2025-06-20T12:47:44.847142Z",
     "iopub.status.idle": "2025-06-20T12:47:44.872180Z",
     "shell.execute_reply": "2025-06-20T12:47:44.871382Z"
    },
    "papermill": {
     "duration": 0.042742,
     "end_time": "2025-06-20T12:47:44.873235",
     "exception": false,
     "start_time": "2025-06-20T12:47:44.830493",
     "status": "completed"
    },
    "tags": []
   },
   "outputs": [
    {
     "name": "stdout",
     "output_type": "stream",
     "text": [
      "<class 'pandas.core.frame.DataFrame'>\n",
      "RangeIndex: 100000 entries, 0 to 99999\n",
      "Data columns (total 9 columns):\n",
      " #   Column               Non-Null Count   Dtype  \n",
      "---  ------               --------------   -----  \n",
      " 0   gender               100000 non-null  object \n",
      " 1   age                  100000 non-null  int64  \n",
      " 2   hypertension         100000 non-null  object \n",
      " 3   heart_disease        100000 non-null  object \n",
      " 4   smoking_history      100000 non-null  object \n",
      " 5   bmi_score            100000 non-null  float64\n",
      " 6   haemoglobin_level    100000 non-null  float64\n",
      " 7   blood_glucose_level  100000 non-null  int64  \n",
      " 8   is_diabetic          100000 non-null  int64  \n",
      "dtypes: float64(2), int64(3), object(4)\n",
      "memory usage: 6.9+ MB\n"
     ]
    }
   ],
   "source": [
    "data.info()"
   ]
  },
  {
   "cell_type": "code",
   "execution_count": 34,
   "id": "589d1f74",
   "metadata": {
    "execution": {
     "iopub.execute_input": "2025-06-20T12:47:44.907029Z",
     "iopub.status.busy": "2025-06-20T12:47:44.906627Z",
     "iopub.status.idle": "2025-06-20T12:47:45.195009Z",
     "shell.execute_reply": "2025-06-20T12:47:45.194203Z"
    },
    "papermill": {
     "duration": 0.306704,
     "end_time": "2025-06-20T12:47:45.196498",
     "exception": false,
     "start_time": "2025-06-20T12:47:44.889794",
     "status": "completed"
    },
    "tags": []
   },
   "outputs": [],
   "source": [
    "data.to_csv(\"/kaggle/working/diabetes_clean.csv\", index = False)"
   ]
  },
  {
   "cell_type": "code",
   "execution_count": 35,
   "id": "0725ad29",
   "metadata": {
    "execution": {
     "iopub.execute_input": "2025-06-20T12:47:45.230955Z",
     "iopub.status.busy": "2025-06-20T12:47:45.230709Z",
     "iopub.status.idle": "2025-06-20T12:47:45.324265Z",
     "shell.execute_reply": "2025-06-20T12:47:45.323637Z"
    },
    "papermill": {
     "duration": 0.112303,
     "end_time": "2025-06-20T12:47:45.325539",
     "exception": false,
     "start_time": "2025-06-20T12:47:45.213236",
     "status": "completed"
    },
    "tags": []
   },
   "outputs": [
    {
     "data": {
      "text/html": [
       "<div>\n",
       "<style scoped>\n",
       "    .dataframe tbody tr th:only-of-type {\n",
       "        vertical-align: middle;\n",
       "    }\n",
       "\n",
       "    .dataframe tbody tr th {\n",
       "        vertical-align: top;\n",
       "    }\n",
       "\n",
       "    .dataframe thead th {\n",
       "        text-align: right;\n",
       "    }\n",
       "</style>\n",
       "<table border=\"1\" class=\"dataframe\">\n",
       "  <thead>\n",
       "    <tr style=\"text-align: right;\">\n",
       "      <th></th>\n",
       "      <th>gender</th>\n",
       "      <th>age</th>\n",
       "      <th>hypertension</th>\n",
       "      <th>heart_disease</th>\n",
       "      <th>smoking_history</th>\n",
       "      <th>bmi_score</th>\n",
       "      <th>haemoglobin_level</th>\n",
       "      <th>blood_glucose_level</th>\n",
       "      <th>is_diabetic</th>\n",
       "    </tr>\n",
       "  </thead>\n",
       "  <tbody>\n",
       "    <tr>\n",
       "      <th>0</th>\n",
       "      <td>Female</td>\n",
       "      <td>80</td>\n",
       "      <td>No</td>\n",
       "      <td>Yes</td>\n",
       "      <td>never</td>\n",
       "      <td>25.19</td>\n",
       "      <td>6.6</td>\n",
       "      <td>140</td>\n",
       "      <td>0</td>\n",
       "    </tr>\n",
       "    <tr>\n",
       "      <th>1</th>\n",
       "      <td>Female</td>\n",
       "      <td>54</td>\n",
       "      <td>No</td>\n",
       "      <td>No</td>\n",
       "      <td>no info</td>\n",
       "      <td>27.32</td>\n",
       "      <td>6.6</td>\n",
       "      <td>80</td>\n",
       "      <td>0</td>\n",
       "    </tr>\n",
       "    <tr>\n",
       "      <th>2</th>\n",
       "      <td>Male</td>\n",
       "      <td>28</td>\n",
       "      <td>No</td>\n",
       "      <td>No</td>\n",
       "      <td>never</td>\n",
       "      <td>27.32</td>\n",
       "      <td>5.7</td>\n",
       "      <td>158</td>\n",
       "      <td>0</td>\n",
       "    </tr>\n",
       "    <tr>\n",
       "      <th>3</th>\n",
       "      <td>Female</td>\n",
       "      <td>36</td>\n",
       "      <td>No</td>\n",
       "      <td>No</td>\n",
       "      <td>current</td>\n",
       "      <td>23.45</td>\n",
       "      <td>5.0</td>\n",
       "      <td>155</td>\n",
       "      <td>0</td>\n",
       "    </tr>\n",
       "    <tr>\n",
       "      <th>4</th>\n",
       "      <td>Male</td>\n",
       "      <td>76</td>\n",
       "      <td>Yes</td>\n",
       "      <td>Yes</td>\n",
       "      <td>current</td>\n",
       "      <td>20.14</td>\n",
       "      <td>4.8</td>\n",
       "      <td>155</td>\n",
       "      <td>0</td>\n",
       "    </tr>\n",
       "    <tr>\n",
       "      <th>...</th>\n",
       "      <td>...</td>\n",
       "      <td>...</td>\n",
       "      <td>...</td>\n",
       "      <td>...</td>\n",
       "      <td>...</td>\n",
       "      <td>...</td>\n",
       "      <td>...</td>\n",
       "      <td>...</td>\n",
       "      <td>...</td>\n",
       "    </tr>\n",
       "    <tr>\n",
       "      <th>99995</th>\n",
       "      <td>Female</td>\n",
       "      <td>80</td>\n",
       "      <td>No</td>\n",
       "      <td>No</td>\n",
       "      <td>no info</td>\n",
       "      <td>27.32</td>\n",
       "      <td>6.2</td>\n",
       "      <td>90</td>\n",
       "      <td>0</td>\n",
       "    </tr>\n",
       "    <tr>\n",
       "      <th>99996</th>\n",
       "      <td>Female</td>\n",
       "      <td>2</td>\n",
       "      <td>No</td>\n",
       "      <td>No</td>\n",
       "      <td>no info</td>\n",
       "      <td>17.37</td>\n",
       "      <td>6.5</td>\n",
       "      <td>100</td>\n",
       "      <td>0</td>\n",
       "    </tr>\n",
       "    <tr>\n",
       "      <th>99997</th>\n",
       "      <td>Male</td>\n",
       "      <td>66</td>\n",
       "      <td>No</td>\n",
       "      <td>No</td>\n",
       "      <td>former</td>\n",
       "      <td>27.83</td>\n",
       "      <td>5.7</td>\n",
       "      <td>155</td>\n",
       "      <td>0</td>\n",
       "    </tr>\n",
       "    <tr>\n",
       "      <th>99998</th>\n",
       "      <td>Female</td>\n",
       "      <td>24</td>\n",
       "      <td>No</td>\n",
       "      <td>No</td>\n",
       "      <td>never</td>\n",
       "      <td>35.42</td>\n",
       "      <td>4.0</td>\n",
       "      <td>100</td>\n",
       "      <td>0</td>\n",
       "    </tr>\n",
       "    <tr>\n",
       "      <th>99999</th>\n",
       "      <td>Female</td>\n",
       "      <td>57</td>\n",
       "      <td>No</td>\n",
       "      <td>No</td>\n",
       "      <td>current</td>\n",
       "      <td>22.43</td>\n",
       "      <td>6.6</td>\n",
       "      <td>90</td>\n",
       "      <td>0</td>\n",
       "    </tr>\n",
       "  </tbody>\n",
       "</table>\n",
       "<p>100000 rows × 9 columns</p>\n",
       "</div>"
      ],
      "text/plain": [
       "       gender  age hypertension heart_disease smoking_history  bmi_score  \\\n",
       "0      Female   80           No           Yes           never      25.19   \n",
       "1      Female   54           No            No         no info      27.32   \n",
       "2        Male   28           No            No           never      27.32   \n",
       "3      Female   36           No            No         current      23.45   \n",
       "4        Male   76          Yes           Yes         current      20.14   \n",
       "...       ...  ...          ...           ...             ...        ...   \n",
       "99995  Female   80           No            No         no info      27.32   \n",
       "99996  Female    2           No            No         no info      17.37   \n",
       "99997    Male   66           No            No          former      27.83   \n",
       "99998  Female   24           No            No           never      35.42   \n",
       "99999  Female   57           No            No         current      22.43   \n",
       "\n",
       "       haemoglobin_level  blood_glucose_level  is_diabetic  \n",
       "0                    6.6                  140            0  \n",
       "1                    6.6                   80            0  \n",
       "2                    5.7                  158            0  \n",
       "3                    5.0                  155            0  \n",
       "4                    4.8                  155            0  \n",
       "...                  ...                  ...          ...  \n",
       "99995                6.2                   90            0  \n",
       "99996                6.5                  100            0  \n",
       "99997                5.7                  155            0  \n",
       "99998                4.0                  100            0  \n",
       "99999                6.6                   90            0  \n",
       "\n",
       "[100000 rows x 9 columns]"
      ]
     },
     "execution_count": 35,
     "metadata": {},
     "output_type": "execute_result"
    }
   ],
   "source": [
    "data = pd.read_csv(\"/kaggle/working/diabetes_clean.csv\")\n",
    "data"
   ]
  },
  {
   "cell_type": "markdown",
   "id": "d2aa85dd",
   "metadata": {
    "papermill": {
     "duration": 0.016633,
     "end_time": "2025-06-20T12:47:45.360460",
     "exception": false,
     "start_time": "2025-06-20T12:47:45.343827",
     "status": "completed"
    },
    "tags": []
   },
   "source": [
    "**Phân tích data**"
   ]
  },
  {
   "cell_type": "code",
   "execution_count": 36,
   "id": "5ca4b9ab",
   "metadata": {
    "execution": {
     "iopub.execute_input": "2025-06-20T12:47:45.394871Z",
     "iopub.status.busy": "2025-06-20T12:47:45.394616Z",
     "iopub.status.idle": "2025-06-20T12:47:45.550672Z",
     "shell.execute_reply": "2025-06-20T12:47:45.549941Z"
    },
    "papermill": {
     "duration": 0.174376,
     "end_time": "2025-06-20T12:47:45.551814",
     "exception": false,
     "start_time": "2025-06-20T12:47:45.377438",
     "status": "completed"
    },
    "tags": []
   },
   "outputs": [
    {
     "data": {
      "text/plain": [
       "<Axes: xlabel='gender', ylabel='count'>"
      ]
     },
     "execution_count": 36,
     "metadata": {},
     "output_type": "execute_result"
    },
    {
     "data": {
      "image/png": "[encoded data removed]",
      "text/plain": [
       "<Figure size 640x480 with 1 Axes>"
      ]
     },
     "metadata": {},
     "output_type": "display_data"
    }
   ],
   "source": [
    "sns.countplot(data = data, x = \"gender\")"
   ]
  },
  {
   "cell_type": "code",
   "execution_count": 37,
   "id": "e5216658",
   "metadata": {
    "execution": {
     "iopub.execute_input": "2025-06-20T12:47:45.588021Z",
     "iopub.status.busy": "2025-06-20T12:47:45.587379Z",
     "iopub.status.idle": "2025-06-20T12:47:45.759575Z",
     "shell.execute_reply": "2025-06-20T12:47:45.758994Z"
    },
    "papermill": {
     "duration": 0.190981,
     "end_time": "2025-06-20T12:47:45.760641",
     "exception": false,
     "start_time": "2025-06-20T12:47:45.569660",
     "status": "completed"
    },
    "tags": []
   },
   "outputs": [
    {
     "data": {
      "text/plain": [
       "<Axes: xlabel='hypertension', ylabel='count'>"
      ]
     },
     "execution_count": 37,
     "metadata": {},
     "output_type": "execute_result"
    },
    {
     "data": {
      "image/png": "[encoded data removed]",
      "text/plain": [
       "<Figure size 640x480 with 1 Axes>"
      ]
     },
     "metadata": {},
     "output_type": "display_data"
    }
   ],
   "source": [
    "sns.countplot(data = data, x = \"hypertension\", hue = \"is_diabetic\")"
   ]
  },
  {
   "cell_type": "code",
   "execution_count": 38,
   "id": "c42a6b4e",
   "metadata": {
    "execution": {
     "iopub.execute_input": "2025-06-20T12:47:45.798452Z",
     "iopub.status.busy": "2025-06-20T12:47:45.797834Z",
     "iopub.status.idle": "2025-06-20T12:47:45.968177Z",
     "shell.execute_reply": "2025-06-20T12:47:45.967499Z"
    },
    "papermill": {
     "duration": 0.189735,
     "end_time": "2025-06-20T12:47:45.969252",
     "exception": false,
     "start_time": "2025-06-20T12:47:45.779517",
     "status": "completed"
    },
    "tags": []
   },
   "outputs": [
    {
     "data": {
      "text/plain": [
       "<Axes: xlabel='heart_disease', ylabel='count'>"
      ]
     },
     "execution_count": 38,
     "metadata": {},
     "output_type": "execute_result"
    },
    {
     "data": {
      "image/png": "[encoded data removed]",
      "text/plain": [
       "<Figure size 640x480 with 1 Axes>"
      ]
     },
     "metadata": {},
     "output_type": "display_data"
    }
   ],
   "source": [
    "sns.countplot(data = data, x = \"heart_disease\", hue = \"is_diabetic\")"
   ]
  },
  {
   "cell_type": "code",
   "execution_count": 39,
   "id": "6c59fa5c",
   "metadata": {
    "execution": {
     "iopub.execute_input": "2025-06-20T12:47:46.007237Z",
     "iopub.status.busy": "2025-06-20T12:47:46.007030Z",
     "iopub.status.idle": "2025-06-20T12:47:46.217157Z",
     "shell.execute_reply": "2025-06-20T12:47:46.216492Z"
    },
    "papermill": {
     "duration": 0.230045,
     "end_time": "2025-06-20T12:47:46.218286",
     "exception": false,
     "start_time": "2025-06-20T12:47:45.988241",
     "status": "completed"
    },
    "tags": []
   },
   "outputs": [
    {
     "data": {
      "text/plain": [
       "<Axes: xlabel='smoking_history', ylabel='count'>"
      ]
     },
     "execution_count": 39,
     "metadata": {},
     "output_type": "execute_result"
    },
    {
     "data": {
      "image/png": "[encoded data removed]",
      "text/plain": [
       "<Figure size 640x480 with 1 Axes>"
      ]
     },
     "metadata": {},
     "output_type": "display_data"
    }
   ],
   "source": [
    "sns.countplot(data = data, x = \"smoking_history\", hue = \"is_diabetic\")"
   ]
  },
  {
   "cell_type": "code",
   "execution_count": 40,
   "id": "eaf20536",
   "metadata": {
    "execution": {
     "iopub.execute_input": "2025-06-20T12:47:46.258129Z",
     "iopub.status.busy": "2025-06-20T12:47:46.257913Z",
     "iopub.status.idle": "2025-06-20T12:47:46.351714Z",
     "shell.execute_reply": "2025-06-20T12:47:46.351180Z"
    },
    "papermill": {
     "duration": 0.114289,
     "end_time": "2025-06-20T12:47:46.352764",
     "exception": false,
     "start_time": "2025-06-20T12:47:46.238475",
     "status": "completed"
    },
    "tags": []
   },
   "outputs": [
    {
     "data": {
      "text/plain": [
       "<Axes: xlabel='is_diabetic', ylabel='count'>"
      ]
     },
     "execution_count": 40,
     "metadata": {},
     "output_type": "execute_result"
    },
    {
     "data": {
      "image/png": "[encoded data removed]",
      "text/plain": [
       "<Figure size 640x480 with 1 Axes>"
      ]
     },
     "metadata": {},
     "output_type": "display_data"
    }
   ],
   "source": [
    "sns.countplot(data = data, x = \"is_diabetic\")"
   ]
  },
  {
   "cell_type": "code",
   "execution_count": 41,
   "id": "0c4f1bf4",
   "metadata": {
    "execution": {
     "iopub.execute_input": "2025-06-20T12:47:46.392123Z",
     "iopub.status.busy": "2025-06-20T12:47:46.391914Z",
     "iopub.status.idle": "2025-06-20T12:47:46.494358Z",
     "shell.execute_reply": "2025-06-20T12:47:46.493591Z"
    },
    "papermill": {
     "duration": 0.123292,
     "end_time": "2025-06-20T12:47:46.495483",
     "exception": false,
     "start_time": "2025-06-20T12:47:46.372191",
     "status": "completed"
    },
    "tags": []
   },
   "outputs": [
    {
     "data": {
      "text/plain": [
       "<Axes: xlabel='age'>"
      ]
     },
     "execution_count": 41,
     "metadata": {},
     "output_type": "execute_result"
    },
    {
     "data": {
      "image/png": "[encoded data removed]",
      "text/plain": [
       "<Figure size 640x480 with 1 Axes>"
      ]
     },
     "metadata": {},
     "output_type": "display_data"
    }
   ],
   "source": [
    "#Xem phân bố tuổi (age) trong dữ liệu\n",
    "sns.boxplot(data = data, x = \"age\")"
   ]
  },
  {
   "cell_type": "markdown",
   "id": "c1bcca2d",
   "metadata": {
    "papermill": {
     "duration": 0.019236,
     "end_time": "2025-06-20T12:47:46.534582",
     "exception": false,
     "start_time": "2025-06-20T12:47:46.515346",
     "status": "completed"
    },
    "tags": []
   },
   "source": [
    "**Không bị outliers**"
   ]
  },
  {
   "cell_type": "code",
   "execution_count": 42,
   "id": "67cb928c",
   "metadata": {
    "execution": {
     "iopub.execute_input": "2025-06-20T12:47:46.574029Z",
     "iopub.status.busy": "2025-06-20T12:47:46.573813Z",
     "iopub.status.idle": "2025-06-20T12:47:46.935552Z",
     "shell.execute_reply": "2025-06-20T12:47:46.934775Z"
    },
    "papermill": {
     "duration": 0.382872,
     "end_time": "2025-06-20T12:47:46.936903",
     "exception": false,
     "start_time": "2025-06-20T12:47:46.554031",
     "status": "completed"
    },
    "tags": []
   },
   "outputs": [
    {
     "name": "stderr",
     "output_type": "stream",
     "text": [
      "/usr/local/lib/python3.11/dist-packages/seaborn/_oldcore.py:1119: FutureWarning: use_inf_as_na option is deprecated and will be removed in a future version. Convert inf values to NaN before operating instead.\n",
      "  with pd.option_context('mode.use_inf_as_na', True):\n",
      "/usr/local/lib/python3.11/dist-packages/seaborn/_oldcore.py:1075: FutureWarning: When grouping with a length-1 list-like, you will need to pass a length-1 tuple to get_group in a future version of pandas. Pass `(name,)` instead of `name` to silence this warning.\n",
      "  data_subset = grouped_data.get_group(pd_key)\n",
      "/usr/local/lib/python3.11/dist-packages/seaborn/_oldcore.py:1075: FutureWarning: When grouping with a length-1 list-like, you will need to pass a length-1 tuple to get_group in a future version of pandas. Pass `(name,)` instead of `name` to silence this warning.\n",
      "  data_subset = grouped_data.get_group(pd_key)\n",
      "/usr/local/lib/python3.11/dist-packages/seaborn/_oldcore.py:1075: FutureWarning: When grouping with a length-1 list-like, you will need to pass a length-1 tuple to get_group in a future version of pandas. Pass `(name,)` instead of `name` to silence this warning.\n",
      "  data_subset = grouped_data.get_group(pd_key)\n"
     ]
    },
    {
     "data": {
      "text/plain": [
       "<Axes: xlabel='age', ylabel='Count'>"
      ]
     },
     "execution_count": 42,
     "metadata": {},
     "output_type": "execute_result"
    },
    {
     "data": {
      "image/png": "[encoded data removed]",
      "text/plain": [
       "<Figure size 640x480 with 1 Axes>"
      ]
     },
     "metadata": {},
     "output_type": "display_data"
    }
   ],
   "source": [
    "sns.histplot(data = data, x = \"age\", hue = \"is_diabetic\")"
   ]
  },
  {
   "cell_type": "markdown",
   "id": "0db1caa0",
   "metadata": {
    "papermill": {
     "duration": 0.01968,
     "end_time": "2025-06-20T12:47:46.977936",
     "exception": false,
     "start_time": "2025-06-20T12:47:46.958256",
     "status": "completed"
    },
    "tags": []
   },
   "source": [
    "**Những người 80 tuổi có tỷ lệ mắc bệnh cao nhất**"
   ]
  },
  {
   "cell_type": "code",
   "execution_count": 43,
   "id": "a5126599",
   "metadata": {
    "execution": {
     "iopub.execute_input": "2025-06-20T12:47:47.019366Z",
     "iopub.status.busy": "2025-06-20T12:47:47.019141Z",
     "iopub.status.idle": "2025-06-20T12:47:47.132528Z",
     "shell.execute_reply": "2025-06-20T12:47:47.131920Z"
    },
    "papermill": {
     "duration": 0.135553,
     "end_time": "2025-06-20T12:47:47.133572",
     "exception": false,
     "start_time": "2025-06-20T12:47:46.998019",
     "status": "completed"
    },
    "tags": []
   },
   "outputs": [
    {
     "data": {
      "text/plain": [
       "<Axes: xlabel='bmi_score'>"
      ]
     },
     "execution_count": 43,
     "metadata": {},
     "output_type": "execute_result"
    },
    {
     "data": {
      "image/png": "[encoded data removed]",
      "text/plain": [
       "<Figure size 640x480 with 1 Axes>"
      ]
     },
     "metadata": {},
     "output_type": "display_data"
    }
   ],
   "source": [
    "sns.boxplot(data = data, x = \"bmi_score\")"
   ]
  },
  {
   "cell_type": "markdown",
   "id": "17ccde99",
   "metadata": {
    "papermill": {
     "duration": 0.019882,
     "end_time": "2025-06-20T12:47:47.175077",
     "exception": false,
     "start_time": "2025-06-20T12:47:47.155195",
     "status": "completed"
    },
    "tags": []
   },
   "source": [
    "**Bị outliers ở những giá trị nằm ngoài 70**"
   ]
  },
  {
   "cell_type": "code",
   "execution_count": 44,
   "id": "74cfacc2",
   "metadata": {
    "execution": {
     "iopub.execute_input": "2025-06-20T12:47:47.219233Z",
     "iopub.status.busy": "2025-06-20T12:47:47.219005Z",
     "iopub.status.idle": "2025-06-20T12:47:47.222333Z",
     "shell.execute_reply": "2025-06-20T12:47:47.221636Z"
    },
    "papermill": {
     "duration": 0.025967,
     "end_time": "2025-06-20T12:47:47.223442",
     "exception": false,
     "start_time": "2025-06-20T12:47:47.197475",
     "status": "completed"
    },
    "tags": []
   },
   "outputs": [],
   "source": [
    "# Q1 = data[\"bmi_score\"].quantile(0.25)\n",
    "# Q3 = data[\"bmi_score\"].quantile(0.75)\n",
    "# IQR = Q3 - Q1\n",
    "\n",
    "# # Giữ lại những giá trị không phải outlier\n",
    "# filtered_data = data[(data[\"bmi_score\"] >= Q1 - 1.5 * IQR) & \n",
    "#                      (data[\"bmi_score\"] <= Q3 + 1.5 * IQR)]\n"
   ]
  },
  {
   "cell_type": "code",
   "execution_count": 45,
   "id": "47bc1e26",
   "metadata": {
    "execution": {
     "iopub.execute_input": "2025-06-20T12:47:47.264856Z",
     "iopub.status.busy": "2025-06-20T12:47:47.264415Z",
     "iopub.status.idle": "2025-06-20T12:47:47.267558Z",
     "shell.execute_reply": "2025-06-20T12:47:47.266912Z"
    },
    "papermill": {
     "duration": 0.024671,
     "end_time": "2025-06-20T12:47:47.268589",
     "exception": false,
     "start_time": "2025-06-20T12:47:47.243918",
     "status": "completed"
    },
    "tags": []
   },
   "outputs": [],
   "source": [
    "# sns.boxplot(data=filtered_data, x=\"bmi_score\")\n"
   ]
  },
  {
   "cell_type": "code",
   "execution_count": 46,
   "id": "1638d143",
   "metadata": {
    "execution": {
     "iopub.execute_input": "2025-06-20T12:47:47.310514Z",
     "iopub.status.busy": "2025-06-20T12:47:47.310306Z",
     "iopub.status.idle": "2025-06-20T12:47:47.496890Z",
     "shell.execute_reply": "2025-06-20T12:47:47.496109Z"
    },
    "papermill": {
     "duration": 0.208958,
     "end_time": "2025-06-20T12:47:47.498004",
     "exception": false,
     "start_time": "2025-06-20T12:47:47.289046",
     "status": "completed"
    },
    "tags": []
   },
   "outputs": [
    {
     "data": {
      "text/plain": [
       "<Axes: xlabel='haemoglobin_level'>"
      ]
     },
     "execution_count": 46,
     "metadata": {},
     "output_type": "execute_result"
    },
    {
     "data": {
      "image/png": "[encoded data removed]",
      "text/plain": [
       "<Figure size 640x480 with 1 Axes>"
      ]
     },
     "metadata": {},
     "output_type": "display_data"
    }
   ],
   "source": [
    "\n",
    "sns.boxplot(data = data, x = \"haemoglobin_level\")"
   ]
  },
  {
   "cell_type": "markdown",
   "id": "1b8e8cf5",
   "metadata": {
    "papermill": {
     "duration": 0.020271,
     "end_time": "2025-06-20T12:47:47.540109",
     "exception": false,
     "start_time": "2025-06-20T12:47:47.519838",
     "status": "completed"
    },
    "tags": []
   },
   "source": [
    "**Có 2 giá trị outliers**"
   ]
  },
  {
   "cell_type": "code",
   "execution_count": 47,
   "id": "d6fb2b03",
   "metadata": {
    "execution": {
     "iopub.execute_input": "2025-06-20T12:47:47.581909Z",
     "iopub.status.busy": "2025-06-20T12:47:47.581607Z",
     "iopub.status.idle": "2025-06-20T12:47:47.584907Z",
     "shell.execute_reply": "2025-06-20T12:47:47.584227Z"
    },
    "papermill": {
     "duration": 0.025649,
     "end_time": "2025-06-20T12:47:47.586092",
     "exception": false,
     "start_time": "2025-06-20T12:47:47.560443",
     "status": "completed"
    },
    "tags": []
   },
   "outputs": [],
   "source": [
    "# Q1 = data[\"haemoglobin_level\"].quantile(0.25)\n",
    "# Q3 = data[\"haemoglobin_level\"].quantile(0.75)\n",
    "# IQR = Q3 - Q1\n",
    "\n",
    "# # Giữ lại những giá trị không phải outlier\n",
    "# filtered_data = data[(data[\"haemoglobin_level\"] >= Q1 - 1.5 * IQR) & \n",
    "#                      (data[\"haemoglobin_level\"] <= Q3 + 1.5 * IQR)]\n"
   ]
  },
  {
   "cell_type": "code",
   "execution_count": 48,
   "id": "ad200406",
   "metadata": {
    "execution": {
     "iopub.execute_input": "2025-06-20T12:47:47.628829Z",
     "iopub.status.busy": "2025-06-20T12:47:47.628585Z",
     "iopub.status.idle": "2025-06-20T12:47:47.631361Z",
     "shell.execute_reply": "2025-06-20T12:47:47.630882Z"
    },
    "papermill": {
     "duration": 0.025036,
     "end_time": "2025-06-20T12:47:47.632369",
     "exception": false,
     "start_time": "2025-06-20T12:47:47.607333",
     "status": "completed"
    },
    "tags": []
   },
   "outputs": [],
   "source": [
    "# sns.boxplot(data=filtered_data, x=\"haemoglobin_level\")\n"
   ]
  },
  {
   "cell_type": "code",
   "execution_count": 49,
   "id": "4593765f",
   "metadata": {
    "execution": {
     "iopub.execute_input": "2025-06-20T12:47:47.674148Z",
     "iopub.status.busy": "2025-06-20T12:47:47.673949Z",
     "iopub.status.idle": "2025-06-20T12:47:48.237475Z",
     "shell.execute_reply": "2025-06-20T12:47:48.236829Z"
    },
    "papermill": {
     "duration": 0.585665,
     "end_time": "2025-06-20T12:47:48.238654",
     "exception": false,
     "start_time": "2025-06-20T12:47:47.652989",
     "status": "completed"
    },
    "tags": []
   },
   "outputs": [
    {
     "name": "stderr",
     "output_type": "stream",
     "text": [
      "/usr/local/lib/python3.11/dist-packages/seaborn/_oldcore.py:1119: FutureWarning: use_inf_as_na option is deprecated and will be removed in a future version. Convert inf values to NaN before operating instead.\n",
      "  with pd.option_context('mode.use_inf_as_na', True):\n",
      "/usr/local/lib/python3.11/dist-packages/seaborn/_oldcore.py:1075: FutureWarning: When grouping with a length-1 list-like, you will need to pass a length-1 tuple to get_group in a future version of pandas. Pass `(name,)` instead of `name` to silence this warning.\n",
      "  data_subset = grouped_data.get_group(pd_key)\n",
      "/usr/local/lib/python3.11/dist-packages/seaborn/_oldcore.py:1075: FutureWarning: When grouping with a length-1 list-like, you will need to pass a length-1 tuple to get_group in a future version of pandas. Pass `(name,)` instead of `name` to silence this warning.\n",
      "  data_subset = grouped_data.get_group(pd_key)\n",
      "/usr/local/lib/python3.11/dist-packages/seaborn/axisgrid.py:118: UserWarning: The figure layout has changed to tight\n",
      "  self._figure.tight_layout(*args, **kwargs)\n"
     ]
    },
    {
     "data": {
      "text/plain": [
       "<seaborn.axisgrid.FacetGrid at 0x7ca35f8350d0>"
      ]
     },
     "execution_count": 49,
     "metadata": {},
     "output_type": "execute_result"
    },
    {
     "data": {
      "image/png": "[encoded data removed]",
      "text/plain": [
       "<Figure size 584.861x500 with 1 Axes>"
      ]
     },
     "metadata": {},
     "output_type": "display_data"
    }
   ],
   "source": [
    "sns.displot(data = data, x = \"haemoglobin_level\", hue = \"is_diabetic\")"
   ]
  },
  {
   "cell_type": "markdown",
   "id": "62723a5d",
   "metadata": {
    "papermill": {
     "duration": 0.02068,
     "end_time": "2025-06-20T12:47:48.281619",
     "exception": false,
     "start_time": "2025-06-20T12:47:48.260939",
     "status": "completed"
    },
    "tags": []
   },
   "source": [
    "**Những người có haemoglobin_level trong khoảng 6.5 đến 9 bị bệnh. Và trong khoảng 5.5 đến 6.5 sẽ có tỷ lệ mắc bệnh**"
   ]
  },
  {
   "cell_type": "code",
   "execution_count": 50,
   "id": "a58c0cb8",
   "metadata": {
    "execution": {
     "iopub.execute_input": "2025-06-20T12:47:48.324327Z",
     "iopub.status.busy": "2025-06-20T12:47:48.324105Z",
     "iopub.status.idle": "2025-06-20T12:47:48.420246Z",
     "shell.execute_reply": "2025-06-20T12:47:48.419671Z"
    },
    "papermill": {
     "duration": 0.118678,
     "end_time": "2025-06-20T12:47:48.421280",
     "exception": false,
     "start_time": "2025-06-20T12:47:48.302602",
     "status": "completed"
    },
    "tags": []
   },
   "outputs": [
    {
     "data": {
      "text/plain": [
       "<Axes: xlabel='blood_glucose_level'>"
      ]
     },
     "execution_count": 50,
     "metadata": {},
     "output_type": "execute_result"
    },
    {
     "data": {
      "image/png": "[encoded data removed]",
      "text/plain": [
       "<Figure size 640x480 with 1 Axes>"
      ]
     },
     "metadata": {},
     "output_type": "display_data"
    }
   ],
   "source": [
    "sns.boxplot(data = data, x = \"blood_glucose_level\")"
   ]
  },
  {
   "cell_type": "markdown",
   "id": "f5ddda0c",
   "metadata": {
    "papermill": {
     "duration": 0.021268,
     "end_time": "2025-06-20T12:47:48.464710",
     "exception": false,
     "start_time": "2025-06-20T12:47:48.443442",
     "status": "completed"
    },
    "tags": []
   },
   "source": [
    "**Có 3 giá trị bị outliers**"
   ]
  },
  {
   "cell_type": "code",
   "execution_count": 51,
   "id": "6cfbb8d3",
   "metadata": {
    "execution": {
     "iopub.execute_input": "2025-06-20T12:47:48.508693Z",
     "iopub.status.busy": "2025-06-20T12:47:48.508481Z",
     "iopub.status.idle": "2025-06-20T12:47:48.511748Z",
     "shell.execute_reply": "2025-06-20T12:47:48.511086Z"
    },
    "papermill": {
     "duration": 0.02676,
     "end_time": "2025-06-20T12:47:48.512960",
     "exception": false,
     "start_time": "2025-06-20T12:47:48.486200",
     "status": "completed"
    },
    "tags": []
   },
   "outputs": [],
   "source": [
    "# Q1 = data[\"blood_glucose_level\"].quantile(0.25)\n",
    "# Q3 = data[\"blood_glucose_level\"].quantile(0.75)\n",
    "# IQR = Q3 - Q1\n",
    "\n",
    "# # Giữ lại những giá trị không phải outlier\n",
    "# filtered_data = data[(data[\"blood_glucose_level\"] >= Q1 - 1.5 * IQR) &\n",
    "#                      (data[\"blood_glucose_level\"] <= Q3 + 1.5 * IQR)]"
   ]
  },
  {
   "cell_type": "code",
   "execution_count": 52,
   "id": "3e2cc90c",
   "metadata": {
    "execution": {
     "iopub.execute_input": "2025-06-20T12:47:48.556692Z",
     "iopub.status.busy": "2025-06-20T12:47:48.556462Z",
     "iopub.status.idle": "2025-06-20T12:47:48.559275Z",
     "shell.execute_reply": "2025-06-20T12:47:48.558787Z"
    },
    "papermill": {
     "duration": 0.025814,
     "end_time": "2025-06-20T12:47:48.560236",
     "exception": false,
     "start_time": "2025-06-20T12:47:48.534422",
     "status": "completed"
    },
    "tags": []
   },
   "outputs": [],
   "source": [
    "# sns.boxplot(data = filtered_data, x = \"blood_glucose_level\")\n"
   ]
  },
  {
   "cell_type": "markdown",
   "id": "c080ecaf",
   "metadata": {
    "papermill": {
     "duration": 0.021457,
     "end_time": "2025-06-20T12:47:48.603152",
     "exception": false,
     "start_time": "2025-06-20T12:47:48.581695",
     "status": "completed"
    },
    "tags": []
   },
   "source": [
    "**Những người có blood_glucose_level từ 250 đến 300 bị mắc bệnh. Và từ 120 đến 200 sẽ có tỷ lệ mắc bệnh**"
   ]
  },
  {
   "cell_type": "code",
   "execution_count": 53,
   "id": "6c7bbf31",
   "metadata": {
    "execution": {
     "iopub.execute_input": "2025-06-20T12:47:48.646969Z",
     "iopub.status.busy": "2025-06-20T12:47:48.646705Z",
     "iopub.status.idle": "2025-06-20T12:47:48.655614Z",
     "shell.execute_reply": "2025-06-20T12:47:48.655098Z"
    },
    "papermill": {
     "duration": 0.032131,
     "end_time": "2025-06-20T12:47:48.656791",
     "exception": false,
     "start_time": "2025-06-20T12:47:48.624660",
     "status": "completed"
    },
    "tags": []
   },
   "outputs": [
    {
     "data": {
      "text/html": [
       "<div>\n",
       "<style scoped>\n",
       "    .dataframe tbody tr th:only-of-type {\n",
       "        vertical-align: middle;\n",
       "    }\n",
       "\n",
       "    .dataframe tbody tr th {\n",
       "        vertical-align: top;\n",
       "    }\n",
       "\n",
       "    .dataframe thead th {\n",
       "        text-align: right;\n",
       "    }\n",
       "</style>\n",
       "<table border=\"1\" class=\"dataframe\">\n",
       "  <thead>\n",
       "    <tr style=\"text-align: right;\">\n",
       "      <th></th>\n",
       "      <th>gender</th>\n",
       "      <th>age</th>\n",
       "      <th>hypertension</th>\n",
       "      <th>heart_disease</th>\n",
       "      <th>smoking_history</th>\n",
       "      <th>bmi_score</th>\n",
       "      <th>haemoglobin_level</th>\n",
       "      <th>blood_glucose_level</th>\n",
       "      <th>is_diabetic</th>\n",
       "    </tr>\n",
       "  </thead>\n",
       "  <tbody>\n",
       "    <tr>\n",
       "      <th>0</th>\n",
       "      <td>Female</td>\n",
       "      <td>80</td>\n",
       "      <td>No</td>\n",
       "      <td>Yes</td>\n",
       "      <td>never</td>\n",
       "      <td>25.19</td>\n",
       "      <td>6.6</td>\n",
       "      <td>140</td>\n",
       "      <td>0</td>\n",
       "    </tr>\n",
       "    <tr>\n",
       "      <th>1</th>\n",
       "      <td>Female</td>\n",
       "      <td>54</td>\n",
       "      <td>No</td>\n",
       "      <td>No</td>\n",
       "      <td>no info</td>\n",
       "      <td>27.32</td>\n",
       "      <td>6.6</td>\n",
       "      <td>80</td>\n",
       "      <td>0</td>\n",
       "    </tr>\n",
       "    <tr>\n",
       "      <th>2</th>\n",
       "      <td>Male</td>\n",
       "      <td>28</td>\n",
       "      <td>No</td>\n",
       "      <td>No</td>\n",
       "      <td>never</td>\n",
       "      <td>27.32</td>\n",
       "      <td>5.7</td>\n",
       "      <td>158</td>\n",
       "      <td>0</td>\n",
       "    </tr>\n",
       "    <tr>\n",
       "      <th>3</th>\n",
       "      <td>Female</td>\n",
       "      <td>36</td>\n",
       "      <td>No</td>\n",
       "      <td>No</td>\n",
       "      <td>current</td>\n",
       "      <td>23.45</td>\n",
       "      <td>5.0</td>\n",
       "      <td>155</td>\n",
       "      <td>0</td>\n",
       "    </tr>\n",
       "    <tr>\n",
       "      <th>4</th>\n",
       "      <td>Male</td>\n",
       "      <td>76</td>\n",
       "      <td>Yes</td>\n",
       "      <td>Yes</td>\n",
       "      <td>current</td>\n",
       "      <td>20.14</td>\n",
       "      <td>4.8</td>\n",
       "      <td>155</td>\n",
       "      <td>0</td>\n",
       "    </tr>\n",
       "  </tbody>\n",
       "</table>\n",
       "</div>"
      ],
      "text/plain": [
       "   gender  age hypertension heart_disease smoking_history  bmi_score  \\\n",
       "0  Female   80           No           Yes           never      25.19   \n",
       "1  Female   54           No            No         no info      27.32   \n",
       "2    Male   28           No            No           never      27.32   \n",
       "3  Female   36           No            No         current      23.45   \n",
       "4    Male   76          Yes           Yes         current      20.14   \n",
       "\n",
       "   haemoglobin_level  blood_glucose_level  is_diabetic  \n",
       "0                6.6                  140            0  \n",
       "1                6.6                   80            0  \n",
       "2                5.7                  158            0  \n",
       "3                5.0                  155            0  \n",
       "4                4.8                  155            0  "
      ]
     },
     "execution_count": 53,
     "metadata": {},
     "output_type": "execute_result"
    }
   ],
   "source": [
    "data.head()"
   ]
  },
  {
   "cell_type": "code",
   "execution_count": 54,
   "id": "5722560c",
   "metadata": {
    "execution": {
     "iopub.execute_input": "2025-06-20T12:47:48.700701Z",
     "iopub.status.busy": "2025-06-20T12:47:48.700508Z",
     "iopub.status.idle": "2025-06-20T12:47:49.199209Z",
     "shell.execute_reply": "2025-06-20T12:47:49.198538Z"
    },
    "papermill": {
     "duration": 0.522094,
     "end_time": "2025-06-20T12:47:49.200465",
     "exception": false,
     "start_time": "2025-06-20T12:47:48.678371",
     "status": "completed"
    },
    "tags": []
   },
   "outputs": [
    {
     "data": {
      "text/plain": [
       "Text(0.5, 1.0, 'Relation between blood_glucose_level and is_diabetic')"
      ]
     },
     "execution_count": 54,
     "metadata": {},
     "output_type": "execute_result"
    },
    {
     "data": {
      "image/png": "[encoded data removed]",
      "text/plain": [
       "<Figure size 640x480 with 1 Axes>"
      ]
     },
     "metadata": {},
     "output_type": "display_data"
    }
   ],
   "source": [
    "#biểu đồ phân tán thể hiện mối quan hệ giữa biến blood_glucose_level và is_diabetic\n",
    "sns.scatterplot(data = data, x = \"blood_glucose_level\", y = \"is_diabetic\")\n",
    "plt.title(\"Relation between blood_glucose_level and is_diabetic\")"
   ]
  },
  {
   "cell_type": "markdown",
   "id": "30cb4236",
   "metadata": {
    "papermill": {
     "duration": 0.022072,
     "end_time": "2025-06-20T12:47:49.245965",
     "exception": false,
     "start_time": "2025-06-20T12:47:49.223893",
     "status": "completed"
    },
    "tags": []
   },
   "source": [
    "**Những người bị tiểu đường có glucose vướt quá 125. Tuy nhiên có những người từ 125-200 lại không bị tiểu đường. Đây không phải yếu tố duy nhất gây ra bệnh tiểu đường**"
   ]
  },
  {
   "cell_type": "code",
   "execution_count": 55,
   "id": "1fac8e66",
   "metadata": {
    "execution": {
     "iopub.execute_input": "2025-06-20T12:47:49.290850Z",
     "iopub.status.busy": "2025-06-20T12:47:49.290612Z",
     "iopub.status.idle": "2025-06-20T12:47:49.745614Z",
     "shell.execute_reply": "2025-06-20T12:47:49.744937Z"
    },
    "papermill": {
     "duration": 0.479086,
     "end_time": "2025-06-20T12:47:49.747081",
     "exception": false,
     "start_time": "2025-06-20T12:47:49.267995",
     "status": "completed"
    },
    "tags": []
   },
   "outputs": [
    {
     "data": {
      "text/plain": [
       "<Axes: xlabel='haemoglobin_level', ylabel='is_diabetic'>"
      ]
     },
     "execution_count": 55,
     "metadata": {},
     "output_type": "execute_result"
    },
    {
     "data": {
      "image/png": "[encoded data removed]",
      "text/plain": [
       "<Figure size 640x480 with 1 Axes>"
      ]
     },
     "metadata": {},
     "output_type": "display_data"
    }
   ],
   "source": [
    "sns.scatterplot(data = data, x = \"haemoglobin_level\", y = \"is_diabetic\")"
   ]
  },
  {
   "cell_type": "code",
   "execution_count": 56,
   "id": "d9d49b1d",
   "metadata": {
    "execution": {
     "iopub.execute_input": "2025-06-20T12:47:49.799154Z",
     "iopub.status.busy": "2025-06-20T12:47:49.798935Z",
     "iopub.status.idle": "2025-06-20T12:47:49.807978Z",
     "shell.execute_reply": "2025-06-20T12:47:49.807467Z"
    },
    "papermill": {
     "duration": 0.035223,
     "end_time": "2025-06-20T12:47:49.808918",
     "exception": false,
     "start_time": "2025-06-20T12:47:49.773695",
     "status": "completed"
    },
    "tags": []
   },
   "outputs": [],
   "source": [
    "y = data.is_diabetic\n",
    "X = data.drop([\"is_diabetic\"], axis = 1)"
   ]
  },
  {
   "cell_type": "code",
   "execution_count": 57,
   "id": "aa8d08ee",
   "metadata": {
    "execution": {
     "iopub.execute_input": "2025-06-20T12:47:49.854095Z",
     "iopub.status.busy": "2025-06-20T12:47:49.853886Z",
     "iopub.status.idle": "2025-06-20T12:47:49.870704Z",
     "shell.execute_reply": "2025-06-20T12:47:49.870236Z"
    },
    "papermill": {
     "duration": 0.040421,
     "end_time": "2025-06-20T12:47:49.871671",
     "exception": false,
     "start_time": "2025-06-20T12:47:49.831250",
     "status": "completed"
    },
    "tags": []
   },
   "outputs": [],
   "source": [
    "X_train, X_test, y_train, y_test = train_test_split(X, y, test_size=0.2, random_state=42)"
   ]
  },
  {
   "cell_type": "code",
   "execution_count": 58,
   "id": "f6209dc7",
   "metadata": {
    "execution": {
     "iopub.execute_input": "2025-06-20T12:47:49.917330Z",
     "iopub.status.busy": "2025-06-20T12:47:49.917120Z",
     "iopub.status.idle": "2025-06-20T12:47:49.924534Z",
     "shell.execute_reply": "2025-06-20T12:47:49.923885Z"
    },
    "papermill": {
     "duration": 0.031415,
     "end_time": "2025-06-20T12:47:49.925596",
     "exception": false,
     "start_time": "2025-06-20T12:47:49.894181",
     "status": "completed"
    },
    "tags": []
   },
   "outputs": [
    {
     "data": {
      "text/plain": [
       "(80000, 8)"
      ]
     },
     "metadata": {},
     "output_type": "display_data"
    },
    {
     "data": {
      "text/plain": [
       "(20000, 8)"
      ]
     },
     "metadata": {},
     "output_type": "display_data"
    },
    {
     "data": {
      "text/plain": [
       "(80000,)"
      ]
     },
     "metadata": {},
     "output_type": "display_data"
    },
    {
     "data": {
      "text/plain": [
       "(20000,)"
      ]
     },
     "metadata": {},
     "output_type": "display_data"
    }
   ],
   "source": [
    "display(X_train.shape)\n",
    "display(X_test.shape)\n",
    "\n",
    "display(y_train.shape)\n",
    "display(y_test.shape)"
   ]
  },
  {
   "cell_type": "code",
   "execution_count": 59,
   "id": "8a6b72e3",
   "metadata": {
    "execution": {
     "iopub.execute_input": "2025-06-20T12:47:49.972050Z",
     "iopub.status.busy": "2025-06-20T12:47:49.971838Z",
     "iopub.status.idle": "2025-06-20T12:47:49.981432Z",
     "shell.execute_reply": "2025-06-20T12:47:49.980957Z"
    },
    "papermill": {
     "duration": 0.033341,
     "end_time": "2025-06-20T12:47:49.982357",
     "exception": false,
     "start_time": "2025-06-20T12:47:49.949016",
     "status": "completed"
    },
    "tags": []
   },
   "outputs": [],
   "source": [
    "X_train_num = X_train.select_dtypes(include = np.number)\n",
    "X_test_num  = X_test.select_dtypes(include = np.number)\n",
    "X_train_cat = X_train.select_dtypes(include = object)\n",
    "X_test_cat  = X_test.select_dtypes(include = object)"
   ]
  },
  {
   "cell_type": "code",
   "execution_count": 60,
   "id": "15822882",
   "metadata": {
    "execution": {
     "iopub.execute_input": "2025-06-20T12:47:50.028503Z",
     "iopub.status.busy": "2025-06-20T12:47:50.028306Z",
     "iopub.status.idle": "2025-06-20T12:47:50.035355Z",
     "shell.execute_reply": "2025-06-20T12:47:50.034662Z"
    },
    "papermill": {
     "duration": 0.031347,
     "end_time": "2025-06-20T12:47:50.036430",
     "exception": false,
     "start_time": "2025-06-20T12:47:50.005083",
     "status": "completed"
    },
    "tags": []
   },
   "outputs": [
    {
     "data": {
      "text/html": [
       "<div>\n",
       "<style scoped>\n",
       "    .dataframe tbody tr th:only-of-type {\n",
       "        vertical-align: middle;\n",
       "    }\n",
       "\n",
       "    .dataframe tbody tr th {\n",
       "        vertical-align: top;\n",
       "    }\n",
       "\n",
       "    .dataframe thead th {\n",
       "        text-align: right;\n",
       "    }\n",
       "</style>\n",
       "<table border=\"1\" class=\"dataframe\">\n",
       "  <thead>\n",
       "    <tr style=\"text-align: right;\">\n",
       "      <th></th>\n",
       "      <th>age</th>\n",
       "      <th>bmi_score</th>\n",
       "      <th>haemoglobin_level</th>\n",
       "      <th>blood_glucose_level</th>\n",
       "    </tr>\n",
       "  </thead>\n",
       "  <tbody>\n",
       "    <tr>\n",
       "      <th>75220</th>\n",
       "      <td>73</td>\n",
       "      <td>24.77</td>\n",
       "      <td>3.5</td>\n",
       "      <td>80</td>\n",
       "    </tr>\n",
       "    <tr>\n",
       "      <th>48955</th>\n",
       "      <td>80</td>\n",
       "      <td>24.60</td>\n",
       "      <td>5.7</td>\n",
       "      <td>145</td>\n",
       "    </tr>\n",
       "    <tr>\n",
       "      <th>44966</th>\n",
       "      <td>38</td>\n",
       "      <td>24.33</td>\n",
       "      <td>4.0</td>\n",
       "      <td>158</td>\n",
       "    </tr>\n",
       "    <tr>\n",
       "      <th>13568</th>\n",
       "      <td>26</td>\n",
       "      <td>18.87</td>\n",
       "      <td>5.0</td>\n",
       "      <td>100</td>\n",
       "    </tr>\n",
       "    <tr>\n",
       "      <th>92727</th>\n",
       "      <td>61</td>\n",
       "      <td>22.11</td>\n",
       "      <td>4.5</td>\n",
       "      <td>85</td>\n",
       "    </tr>\n",
       "  </tbody>\n",
       "</table>\n",
       "</div>"
      ],
      "text/plain": [
       "       age  bmi_score  haemoglobin_level  blood_glucose_level\n",
       "75220   73      24.77                3.5                   80\n",
       "48955   80      24.60                5.7                  145\n",
       "44966   38      24.33                4.0                  158\n",
       "13568   26      18.87                5.0                  100\n",
       "92727   61      22.11                4.5                   85"
      ]
     },
     "execution_count": 60,
     "metadata": {},
     "output_type": "execute_result"
    }
   ],
   "source": [
    "X_train_num.head()"
   ]
  },
  {
   "cell_type": "code",
   "execution_count": 61,
   "id": "8f69dc63",
   "metadata": {
    "execution": {
     "iopub.execute_input": "2025-06-20T12:47:50.082725Z",
     "iopub.status.busy": "2025-06-20T12:47:50.082529Z",
     "iopub.status.idle": "2025-06-20T12:47:50.089128Z",
     "shell.execute_reply": "2025-06-20T12:47:50.088578Z"
    },
    "papermill": {
     "duration": 0.030754,
     "end_time": "2025-06-20T12:47:50.090159",
     "exception": false,
     "start_time": "2025-06-20T12:47:50.059405",
     "status": "completed"
    },
    "tags": []
   },
   "outputs": [
    {
     "data": {
      "text/html": [
       "<div>\n",
       "<style scoped>\n",
       "    .dataframe tbody tr th:only-of-type {\n",
       "        vertical-align: middle;\n",
       "    }\n",
       "\n",
       "    .dataframe tbody tr th {\n",
       "        vertical-align: top;\n",
       "    }\n",
       "\n",
       "    .dataframe thead th {\n",
       "        text-align: right;\n",
       "    }\n",
       "</style>\n",
       "<table border=\"1\" class=\"dataframe\">\n",
       "  <thead>\n",
       "    <tr style=\"text-align: right;\">\n",
       "      <th></th>\n",
       "      <th>gender</th>\n",
       "      <th>hypertension</th>\n",
       "      <th>heart_disease</th>\n",
       "      <th>smoking_history</th>\n",
       "    </tr>\n",
       "  </thead>\n",
       "  <tbody>\n",
       "    <tr>\n",
       "      <th>75220</th>\n",
       "      <td>Male</td>\n",
       "      <td>No</td>\n",
       "      <td>No</td>\n",
       "      <td>former</td>\n",
       "    </tr>\n",
       "    <tr>\n",
       "      <th>48955</th>\n",
       "      <td>Male</td>\n",
       "      <td>No</td>\n",
       "      <td>No</td>\n",
       "      <td>never</td>\n",
       "    </tr>\n",
       "    <tr>\n",
       "      <th>44966</th>\n",
       "      <td>Female</td>\n",
       "      <td>No</td>\n",
       "      <td>No</td>\n",
       "      <td>current</td>\n",
       "    </tr>\n",
       "    <tr>\n",
       "      <th>13568</th>\n",
       "      <td>Female</td>\n",
       "      <td>No</td>\n",
       "      <td>No</td>\n",
       "      <td>former</td>\n",
       "    </tr>\n",
       "    <tr>\n",
       "      <th>92727</th>\n",
       "      <td>Female</td>\n",
       "      <td>Yes</td>\n",
       "      <td>No</td>\n",
       "      <td>current</td>\n",
       "    </tr>\n",
       "  </tbody>\n",
       "</table>\n",
       "</div>"
      ],
      "text/plain": [
       "       gender hypertension heart_disease smoking_history\n",
       "75220    Male           No            No          former\n",
       "48955    Male           No            No           never\n",
       "44966  Female           No            No         current\n",
       "13568  Female           No            No          former\n",
       "92727  Female          Yes            No         current"
      ]
     },
     "execution_count": 61,
     "metadata": {},
     "output_type": "execute_result"
    }
   ],
   "source": [
    "X_train_cat.head()"
   ]
  },
  {
   "cell_type": "markdown",
   "id": "e290d5f3",
   "metadata": {
    "papermill": {
     "duration": 0.022586,
     "end_time": "2025-06-20T12:47:50.135616",
     "exception": false,
     "start_time": "2025-06-20T12:47:50.113030",
     "status": "completed"
    },
    "tags": []
   },
   "source": [
    "**Encoding**"
   ]
  },
  {
   "cell_type": "code",
   "execution_count": 62,
   "id": "b96a1b42",
   "metadata": {
    "execution": {
     "iopub.execute_input": "2025-06-20T12:47:50.182192Z",
     "iopub.status.busy": "2025-06-20T12:47:50.181996Z",
     "iopub.status.idle": "2025-06-20T12:47:50.295528Z",
     "shell.execute_reply": "2025-06-20T12:47:50.294782Z"
    },
    "papermill": {
     "duration": 0.137884,
     "end_time": "2025-06-20T12:47:50.296703",
     "exception": false,
     "start_time": "2025-06-20T12:47:50.158819",
     "status": "completed"
    },
    "tags": []
   },
   "outputs": [
    {
     "data": {
      "text/html": [
       "<div>\n",
       "<style scoped>\n",
       "    .dataframe tbody tr th:only-of-type {\n",
       "        vertical-align: middle;\n",
       "    }\n",
       "\n",
       "    .dataframe tbody tr th {\n",
       "        vertical-align: top;\n",
       "    }\n",
       "\n",
       "    .dataframe thead th {\n",
       "        text-align: right;\n",
       "    }\n",
       "</style>\n",
       "<table border=\"1\" class=\"dataframe\">\n",
       "  <thead>\n",
       "    <tr style=\"text-align: right;\">\n",
       "      <th></th>\n",
       "      <th>gender_Male</th>\n",
       "      <th>gender_Other</th>\n",
       "      <th>hypertension_Yes</th>\n",
       "      <th>heart_disease_Yes</th>\n",
       "      <th>smoking_history_former</th>\n",
       "      <th>smoking_history_never</th>\n",
       "      <th>smoking_history_no info</th>\n",
       "    </tr>\n",
       "  </thead>\n",
       "  <tbody>\n",
       "    <tr>\n",
       "      <th>0</th>\n",
       "      <td>1.0</td>\n",
       "      <td>0.0</td>\n",
       "      <td>0.0</td>\n",
       "      <td>0.0</td>\n",
       "      <td>1.0</td>\n",
       "      <td>0.0</td>\n",
       "      <td>0.0</td>\n",
       "    </tr>\n",
       "    <tr>\n",
       "      <th>1</th>\n",
       "      <td>1.0</td>\n",
       "      <td>0.0</td>\n",
       "      <td>0.0</td>\n",
       "      <td>0.0</td>\n",
       "      <td>0.0</td>\n",
       "      <td>1.0</td>\n",
       "      <td>0.0</td>\n",
       "    </tr>\n",
       "    <tr>\n",
       "      <th>2</th>\n",
       "      <td>0.0</td>\n",
       "      <td>0.0</td>\n",
       "      <td>0.0</td>\n",
       "      <td>0.0</td>\n",
       "      <td>0.0</td>\n",
       "      <td>0.0</td>\n",
       "      <td>0.0</td>\n",
       "    </tr>\n",
       "    <tr>\n",
       "      <th>3</th>\n",
       "      <td>0.0</td>\n",
       "      <td>0.0</td>\n",
       "      <td>0.0</td>\n",
       "      <td>0.0</td>\n",
       "      <td>1.0</td>\n",
       "      <td>0.0</td>\n",
       "      <td>0.0</td>\n",
       "    </tr>\n",
       "    <tr>\n",
       "      <th>4</th>\n",
       "      <td>0.0</td>\n",
       "      <td>0.0</td>\n",
       "      <td>1.0</td>\n",
       "      <td>0.0</td>\n",
       "      <td>0.0</td>\n",
       "      <td>0.0</td>\n",
       "      <td>0.0</td>\n",
       "    </tr>\n",
       "    <tr>\n",
       "      <th>...</th>\n",
       "      <td>...</td>\n",
       "      <td>...</td>\n",
       "      <td>...</td>\n",
       "      <td>...</td>\n",
       "      <td>...</td>\n",
       "      <td>...</td>\n",
       "      <td>...</td>\n",
       "    </tr>\n",
       "    <tr>\n",
       "      <th>79995</th>\n",
       "      <td>1.0</td>\n",
       "      <td>0.0</td>\n",
       "      <td>0.0</td>\n",
       "      <td>0.0</td>\n",
       "      <td>0.0</td>\n",
       "      <td>1.0</td>\n",
       "      <td>0.0</td>\n",
       "    </tr>\n",
       "    <tr>\n",
       "      <th>79996</th>\n",
       "      <td>0.0</td>\n",
       "      <td>0.0</td>\n",
       "      <td>0.0</td>\n",
       "      <td>0.0</td>\n",
       "      <td>0.0</td>\n",
       "      <td>1.0</td>\n",
       "      <td>0.0</td>\n",
       "    </tr>\n",
       "    <tr>\n",
       "      <th>79997</th>\n",
       "      <td>1.0</td>\n",
       "      <td>0.0</td>\n",
       "      <td>0.0</td>\n",
       "      <td>0.0</td>\n",
       "      <td>0.0</td>\n",
       "      <td>1.0</td>\n",
       "      <td>0.0</td>\n",
       "    </tr>\n",
       "    <tr>\n",
       "      <th>79998</th>\n",
       "      <td>0.0</td>\n",
       "      <td>0.0</td>\n",
       "      <td>0.0</td>\n",
       "      <td>0.0</td>\n",
       "      <td>0.0</td>\n",
       "      <td>1.0</td>\n",
       "      <td>0.0</td>\n",
       "    </tr>\n",
       "    <tr>\n",
       "      <th>79999</th>\n",
       "      <td>0.0</td>\n",
       "      <td>0.0</td>\n",
       "      <td>0.0</td>\n",
       "      <td>0.0</td>\n",
       "      <td>0.0</td>\n",
       "      <td>1.0</td>\n",
       "      <td>0.0</td>\n",
       "    </tr>\n",
       "  </tbody>\n",
       "</table>\n",
       "<p>80000 rows × 7 columns</p>\n",
       "</div>"
      ],
      "text/plain": [
       "       gender_Male  gender_Other  hypertension_Yes  heart_disease_Yes  \\\n",
       "0              1.0           0.0               0.0                0.0   \n",
       "1              1.0           0.0               0.0                0.0   \n",
       "2              0.0           0.0               0.0                0.0   \n",
       "3              0.0           0.0               0.0                0.0   \n",
       "4              0.0           0.0               1.0                0.0   \n",
       "...            ...           ...               ...                ...   \n",
       "79995          1.0           0.0               0.0                0.0   \n",
       "79996          0.0           0.0               0.0                0.0   \n",
       "79997          1.0           0.0               0.0                0.0   \n",
       "79998          0.0           0.0               0.0                0.0   \n",
       "79999          0.0           0.0               0.0                0.0   \n",
       "\n",
       "       smoking_history_former  smoking_history_never  smoking_history_no info  \n",
       "0                         1.0                    0.0                      0.0  \n",
       "1                         0.0                    1.0                      0.0  \n",
       "2                         0.0                    0.0                      0.0  \n",
       "3                         1.0                    0.0                      0.0  \n",
       "4                         0.0                    0.0                      0.0  \n",
       "...                       ...                    ...                      ...  \n",
       "79995                     0.0                    1.0                      0.0  \n",
       "79996                     0.0                    1.0                      0.0  \n",
       "79997                     0.0                    1.0                      0.0  \n",
       "79998                     0.0                    1.0                      0.0  \n",
       "79999                     0.0                    1.0                      0.0  \n",
       "\n",
       "[80000 rows x 7 columns]"
      ]
     },
     "execution_count": 62,
     "metadata": {},
     "output_type": "execute_result"
    }
   ],
   "source": [
    "encoder = OneHotEncoder(drop='first').fit(X_train_cat)\n",
    "encoded_cat = encoder.transform(X_train_cat).toarray()\n",
    "cols = encoder.get_feature_names_out(input_features=X_train_cat.columns)\n",
    "X_train_encoded = pd.DataFrame(encoded_cat, columns=cols)\n",
    "X_train_encoded"
   ]
  },
  {
   "cell_type": "code",
   "execution_count": 63,
   "id": "c43bade1",
   "metadata": {
    "execution": {
     "iopub.execute_input": "2025-06-20T12:47:50.344572Z",
     "iopub.status.busy": "2025-06-20T12:47:50.344210Z",
     "iopub.status.idle": "2025-06-20T12:47:50.376934Z",
     "shell.execute_reply": "2025-06-20T12:47:50.376102Z"
    },
    "papermill": {
     "duration": 0.057479,
     "end_time": "2025-06-20T12:47:50.378112",
     "exception": false,
     "start_time": "2025-06-20T12:47:50.320633",
     "status": "completed"
    },
    "tags": []
   },
   "outputs": [
    {
     "data": {
      "text/html": [
       "<div>\n",
       "<style scoped>\n",
       "    .dataframe tbody tr th:only-of-type {\n",
       "        vertical-align: middle;\n",
       "    }\n",
       "\n",
       "    .dataframe tbody tr th {\n",
       "        vertical-align: top;\n",
       "    }\n",
       "\n",
       "    .dataframe thead th {\n",
       "        text-align: right;\n",
       "    }\n",
       "</style>\n",
       "<table border=\"1\" class=\"dataframe\">\n",
       "  <thead>\n",
       "    <tr style=\"text-align: right;\">\n",
       "      <th></th>\n",
       "      <th>gender_Male</th>\n",
       "      <th>gender_Other</th>\n",
       "      <th>hypertension_Yes</th>\n",
       "      <th>heart_disease_Yes</th>\n",
       "      <th>smoking_history_former</th>\n",
       "      <th>smoking_history_never</th>\n",
       "      <th>smoking_history_no info</th>\n",
       "    </tr>\n",
       "  </thead>\n",
       "  <tbody>\n",
       "    <tr>\n",
       "      <th>0</th>\n",
       "      <td>0.0</td>\n",
       "      <td>0.0</td>\n",
       "      <td>0.0</td>\n",
       "      <td>0.0</td>\n",
       "      <td>0.0</td>\n",
       "      <td>0.0</td>\n",
       "      <td>1.0</td>\n",
       "    </tr>\n",
       "    <tr>\n",
       "      <th>1</th>\n",
       "      <td>0.0</td>\n",
       "      <td>0.0</td>\n",
       "      <td>0.0</td>\n",
       "      <td>0.0</td>\n",
       "      <td>0.0</td>\n",
       "      <td>0.0</td>\n",
       "      <td>1.0</td>\n",
       "    </tr>\n",
       "    <tr>\n",
       "      <th>2</th>\n",
       "      <td>1.0</td>\n",
       "      <td>0.0</td>\n",
       "      <td>0.0</td>\n",
       "      <td>0.0</td>\n",
       "      <td>1.0</td>\n",
       "      <td>0.0</td>\n",
       "      <td>0.0</td>\n",
       "    </tr>\n",
       "    <tr>\n",
       "      <th>3</th>\n",
       "      <td>0.0</td>\n",
       "      <td>0.0</td>\n",
       "      <td>0.0</td>\n",
       "      <td>0.0</td>\n",
       "      <td>0.0</td>\n",
       "      <td>1.0</td>\n",
       "      <td>0.0</td>\n",
       "    </tr>\n",
       "    <tr>\n",
       "      <th>4</th>\n",
       "      <td>0.0</td>\n",
       "      <td>0.0</td>\n",
       "      <td>0.0</td>\n",
       "      <td>0.0</td>\n",
       "      <td>1.0</td>\n",
       "      <td>0.0</td>\n",
       "      <td>0.0</td>\n",
       "    </tr>\n",
       "    <tr>\n",
       "      <th>...</th>\n",
       "      <td>...</td>\n",
       "      <td>...</td>\n",
       "      <td>...</td>\n",
       "      <td>...</td>\n",
       "      <td>...</td>\n",
       "      <td>...</td>\n",
       "      <td>...</td>\n",
       "    </tr>\n",
       "    <tr>\n",
       "      <th>19995</th>\n",
       "      <td>0.0</td>\n",
       "      <td>0.0</td>\n",
       "      <td>0.0</td>\n",
       "      <td>0.0</td>\n",
       "      <td>1.0</td>\n",
       "      <td>0.0</td>\n",
       "      <td>0.0</td>\n",
       "    </tr>\n",
       "    <tr>\n",
       "      <th>19996</th>\n",
       "      <td>1.0</td>\n",
       "      <td>0.0</td>\n",
       "      <td>1.0</td>\n",
       "      <td>0.0</td>\n",
       "      <td>1.0</td>\n",
       "      <td>0.0</td>\n",
       "      <td>0.0</td>\n",
       "    </tr>\n",
       "    <tr>\n",
       "      <th>19997</th>\n",
       "      <td>0.0</td>\n",
       "      <td>0.0</td>\n",
       "      <td>0.0</td>\n",
       "      <td>0.0</td>\n",
       "      <td>0.0</td>\n",
       "      <td>1.0</td>\n",
       "      <td>0.0</td>\n",
       "    </tr>\n",
       "    <tr>\n",
       "      <th>19998</th>\n",
       "      <td>1.0</td>\n",
       "      <td>0.0</td>\n",
       "      <td>0.0</td>\n",
       "      <td>1.0</td>\n",
       "      <td>0.0</td>\n",
       "      <td>0.0</td>\n",
       "      <td>1.0</td>\n",
       "    </tr>\n",
       "    <tr>\n",
       "      <th>19999</th>\n",
       "      <td>0.0</td>\n",
       "      <td>0.0</td>\n",
       "      <td>0.0</td>\n",
       "      <td>0.0</td>\n",
       "      <td>0.0</td>\n",
       "      <td>1.0</td>\n",
       "      <td>0.0</td>\n",
       "    </tr>\n",
       "  </tbody>\n",
       "</table>\n",
       "<p>20000 rows × 7 columns</p>\n",
       "</div>"
      ],
      "text/plain": [
       "       gender_Male  gender_Other  hypertension_Yes  heart_disease_Yes  \\\n",
       "0              0.0           0.0               0.0                0.0   \n",
       "1              0.0           0.0               0.0                0.0   \n",
       "2              1.0           0.0               0.0                0.0   \n",
       "3              0.0           0.0               0.0                0.0   \n",
       "4              0.0           0.0               0.0                0.0   \n",
       "...            ...           ...               ...                ...   \n",
       "19995          0.0           0.0               0.0                0.0   \n",
       "19996          1.0           0.0               1.0                0.0   \n",
       "19997          0.0           0.0               0.0                0.0   \n",
       "19998          1.0           0.0               0.0                1.0   \n",
       "19999          0.0           0.0               0.0                0.0   \n",
       "\n",
       "       smoking_history_former  smoking_history_never  smoking_history_no info  \n",
       "0                         0.0                    0.0                      1.0  \n",
       "1                         0.0                    0.0                      1.0  \n",
       "2                         1.0                    0.0                      0.0  \n",
       "3                         0.0                    1.0                      0.0  \n",
       "4                         1.0                    0.0                      0.0  \n",
       "...                       ...                    ...                      ...  \n",
       "19995                     1.0                    0.0                      0.0  \n",
       "19996                     1.0                    0.0                      0.0  \n",
       "19997                     0.0                    1.0                      0.0  \n",
       "19998                     0.0                    0.0                      1.0  \n",
       "19999                     0.0                    1.0                      0.0  \n",
       "\n",
       "[20000 rows x 7 columns]"
      ]
     },
     "execution_count": 63,
     "metadata": {},
     "output_type": "execute_result"
    }
   ],
   "source": [
    "encoded_test_cat = encoder.transform(X_test_cat).toarray()\n",
    "X_test_encoded = pd.DataFrame(encoded_test_cat, columns=cols)\n",
    "X_test_encoded"
   ]
  },
  {
   "cell_type": "markdown",
   "id": "175d9a92",
   "metadata": {
    "papermill": {
     "duration": 0.022821,
     "end_time": "2025-06-20T12:47:50.425007",
     "exception": false,
     "start_time": "2025-06-20T12:47:50.402186",
     "status": "completed"
    },
    "tags": []
   },
   "source": [
    "**Scaling**"
   ]
  },
  {
   "cell_type": "code",
   "execution_count": 64,
   "id": "9d8d1125",
   "metadata": {
    "execution": {
     "iopub.execute_input": "2025-06-20T12:47:50.472523Z",
     "iopub.status.busy": "2025-06-20T12:47:50.472311Z",
     "iopub.status.idle": "2025-06-20T12:47:50.497385Z",
     "shell.execute_reply": "2025-06-20T12:47:50.496591Z"
    },
    "papermill": {
     "duration": 0.049975,
     "end_time": "2025-06-20T12:47:50.498458",
     "exception": false,
     "start_time": "2025-06-20T12:47:50.448483",
     "status": "completed"
    },
    "tags": []
   },
   "outputs": [
    {
     "data": {
      "text/html": [
       "<div>\n",
       "<style scoped>\n",
       "    .dataframe tbody tr th:only-of-type {\n",
       "        vertical-align: middle;\n",
       "    }\n",
       "\n",
       "    .dataframe tbody tr th {\n",
       "        vertical-align: top;\n",
       "    }\n",
       "\n",
       "    .dataframe thead th {\n",
       "        text-align: right;\n",
       "    }\n",
       "</style>\n",
       "<table border=\"1\" class=\"dataframe\">\n",
       "  <thead>\n",
       "    <tr style=\"text-align: right;\">\n",
       "      <th></th>\n",
       "      <th>age</th>\n",
       "      <th>bmi_score</th>\n",
       "      <th>haemoglobin_level</th>\n",
       "      <th>blood_glucose_level</th>\n",
       "    </tr>\n",
       "  </thead>\n",
       "  <tbody>\n",
       "    <tr>\n",
       "      <th>0</th>\n",
       "      <td>0.9125</td>\n",
       "      <td>0.180418</td>\n",
       "      <td>0.000000</td>\n",
       "      <td>0.000000</td>\n",
       "    </tr>\n",
       "    <tr>\n",
       "      <th>1</th>\n",
       "      <td>1.0000</td>\n",
       "      <td>0.178340</td>\n",
       "      <td>0.400000</td>\n",
       "      <td>0.295455</td>\n",
       "    </tr>\n",
       "    <tr>\n",
       "      <th>2</th>\n",
       "      <td>0.4750</td>\n",
       "      <td>0.175040</td>\n",
       "      <td>0.090909</td>\n",
       "      <td>0.354545</td>\n",
       "    </tr>\n",
       "    <tr>\n",
       "      <th>3</th>\n",
       "      <td>0.3250</td>\n",
       "      <td>0.108300</td>\n",
       "      <td>0.272727</td>\n",
       "      <td>0.090909</td>\n",
       "    </tr>\n",
       "    <tr>\n",
       "      <th>4</th>\n",
       "      <td>0.7625</td>\n",
       "      <td>0.147904</td>\n",
       "      <td>0.181818</td>\n",
       "      <td>0.022727</td>\n",
       "    </tr>\n",
       "    <tr>\n",
       "      <th>...</th>\n",
       "      <td>...</td>\n",
       "      <td>...</td>\n",
       "      <td>...</td>\n",
       "      <td>...</td>\n",
       "    </tr>\n",
       "    <tr>\n",
       "      <th>79995</th>\n",
       "      <td>0.6125</td>\n",
       "      <td>0.280773</td>\n",
       "      <td>0.400000</td>\n",
       "      <td>0.000000</td>\n",
       "    </tr>\n",
       "    <tr>\n",
       "      <th>79996</th>\n",
       "      <td>0.1875</td>\n",
       "      <td>0.221122</td>\n",
       "      <td>0.272727</td>\n",
       "      <td>0.359091</td>\n",
       "    </tr>\n",
       "    <tr>\n",
       "      <th>79997</th>\n",
       "      <td>0.5250</td>\n",
       "      <td>0.197164</td>\n",
       "      <td>0.418182</td>\n",
       "      <td>0.022727</td>\n",
       "    </tr>\n",
       "    <tr>\n",
       "      <th>79998</th>\n",
       "      <td>0.4625</td>\n",
       "      <td>0.182740</td>\n",
       "      <td>0.490909</td>\n",
       "      <td>0.354545</td>\n",
       "    </tr>\n",
       "    <tr>\n",
       "      <th>79999</th>\n",
       "      <td>0.2875</td>\n",
       "      <td>0.219778</td>\n",
       "      <td>0.272727</td>\n",
       "      <td>0.359091</td>\n",
       "    </tr>\n",
       "  </tbody>\n",
       "</table>\n",
       "<p>80000 rows × 4 columns</p>\n",
       "</div>"
      ],
      "text/plain": [
       "          age  bmi_score  haemoglobin_level  blood_glucose_level\n",
       "0      0.9125   0.180418           0.000000             0.000000\n",
       "1      1.0000   0.178340           0.400000             0.295455\n",
       "2      0.4750   0.175040           0.090909             0.354545\n",
       "3      0.3250   0.108300           0.272727             0.090909\n",
       "4      0.7625   0.147904           0.181818             0.022727\n",
       "...       ...        ...                ...                  ...\n",
       "79995  0.6125   0.280773           0.400000             0.000000\n",
       "79996  0.1875   0.221122           0.272727             0.359091\n",
       "79997  0.5250   0.197164           0.418182             0.022727\n",
       "79998  0.4625   0.182740           0.490909             0.354545\n",
       "79999  0.2875   0.219778           0.272727             0.359091\n",
       "\n",
       "[80000 rows x 4 columns]"
      ]
     },
     "execution_count": 64,
     "metadata": {},
     "output_type": "execute_result"
    }
   ],
   "source": [
    "transformer = MinMaxScaler().fit(X_train_num) \n",
    "X_train_scaled_arr = transformer.transform(X_train_num)\n",
    "X_train_scaled = pd.DataFrame(X_train_scaled_arr, columns=X_train_num.columns)\n",
    "X_train_scaled"
   ]
  },
  {
   "cell_type": "code",
   "execution_count": 65,
   "id": "472de67d",
   "metadata": {
    "execution": {
     "iopub.execute_input": "2025-06-20T12:47:50.546954Z",
     "iopub.status.busy": "2025-06-20T12:47:50.546162Z",
     "iopub.status.idle": "2025-06-20T12:47:50.555703Z",
     "shell.execute_reply": "2025-06-20T12:47:50.555185Z"
    },
    "papermill": {
     "duration": 0.034369,
     "end_time": "2025-06-20T12:47:50.556905",
     "exception": false,
     "start_time": "2025-06-20T12:47:50.522536",
     "status": "completed"
    },
    "tags": []
   },
   "outputs": [
    {
     "data": {
      "text/html": [
       "<div>\n",
       "<style scoped>\n",
       "    .dataframe tbody tr th:only-of-type {\n",
       "        vertical-align: middle;\n",
       "    }\n",
       "\n",
       "    .dataframe tbody tr th {\n",
       "        vertical-align: top;\n",
       "    }\n",
       "\n",
       "    .dataframe thead th {\n",
       "        text-align: right;\n",
       "    }\n",
       "</style>\n",
       "<table border=\"1\" class=\"dataframe\">\n",
       "  <thead>\n",
       "    <tr style=\"text-align: right;\">\n",
       "      <th></th>\n",
       "      <th>age</th>\n",
       "      <th>bmi_score</th>\n",
       "      <th>haemoglobin_level</th>\n",
       "      <th>blood_glucose_level</th>\n",
       "    </tr>\n",
       "  </thead>\n",
       "  <tbody>\n",
       "    <tr>\n",
       "      <th>0</th>\n",
       "      <td>0.1625</td>\n",
       "      <td>0.132135</td>\n",
       "      <td>0.418182</td>\n",
       "      <td>0.209091</td>\n",
       "    </tr>\n",
       "    <tr>\n",
       "      <th>1</th>\n",
       "      <td>0.0375</td>\n",
       "      <td>0.134336</td>\n",
       "      <td>0.272727</td>\n",
       "      <td>0.295455</td>\n",
       "    </tr>\n",
       "    <tr>\n",
       "      <th>2</th>\n",
       "      <td>0.7875</td>\n",
       "      <td>0.187141</td>\n",
       "      <td>0.000000</td>\n",
       "      <td>0.545455</td>\n",
       "    </tr>\n",
       "    <tr>\n",
       "      <th>3</th>\n",
       "      <td>0.0250</td>\n",
       "      <td>0.090698</td>\n",
       "      <td>0.472727</td>\n",
       "      <td>0.209091</td>\n",
       "    </tr>\n",
       "    <tr>\n",
       "      <th>4</th>\n",
       "      <td>0.4125</td>\n",
       "      <td>0.367559</td>\n",
       "      <td>0.490909</td>\n",
       "      <td>0.545455</td>\n",
       "    </tr>\n",
       "    <tr>\n",
       "      <th>...</th>\n",
       "      <td>...</td>\n",
       "      <td>...</td>\n",
       "      <td>...</td>\n",
       "      <td>...</td>\n",
       "    </tr>\n",
       "    <tr>\n",
       "      <th>19995</th>\n",
       "      <td>0.5500</td>\n",
       "      <td>0.145948</td>\n",
       "      <td>0.454545</td>\n",
       "      <td>0.359091</td>\n",
       "    </tr>\n",
       "    <tr>\n",
       "      <th>19996</th>\n",
       "      <td>0.7625</td>\n",
       "      <td>0.390784</td>\n",
       "      <td>0.000000</td>\n",
       "      <td>0.045455</td>\n",
       "    </tr>\n",
       "    <tr>\n",
       "      <th>19997</th>\n",
       "      <td>0.6125</td>\n",
       "      <td>0.201687</td>\n",
       "      <td>0.236364</td>\n",
       "      <td>0.090909</td>\n",
       "    </tr>\n",
       "    <tr>\n",
       "      <th>19998</th>\n",
       "      <td>0.9125</td>\n",
       "      <td>0.211588</td>\n",
       "      <td>0.563636</td>\n",
       "      <td>0.090909</td>\n",
       "    </tr>\n",
       "    <tr>\n",
       "      <th>19999</th>\n",
       "      <td>0.5375</td>\n",
       "      <td>0.169295</td>\n",
       "      <td>0.418182</td>\n",
       "      <td>0.295455</td>\n",
       "    </tr>\n",
       "  </tbody>\n",
       "</table>\n",
       "<p>20000 rows × 4 columns</p>\n",
       "</div>"
      ],
      "text/plain": [
       "          age  bmi_score  haemoglobin_level  blood_glucose_level\n",
       "0      0.1625   0.132135           0.418182             0.209091\n",
       "1      0.0375   0.134336           0.272727             0.295455\n",
       "2      0.7875   0.187141           0.000000             0.545455\n",
       "3      0.0250   0.090698           0.472727             0.209091\n",
       "4      0.4125   0.367559           0.490909             0.545455\n",
       "...       ...        ...                ...                  ...\n",
       "19995  0.5500   0.145948           0.454545             0.359091\n",
       "19996  0.7625   0.390784           0.000000             0.045455\n",
       "19997  0.6125   0.201687           0.236364             0.090909\n",
       "19998  0.9125   0.211588           0.563636             0.090909\n",
       "19999  0.5375   0.169295           0.418182             0.295455\n",
       "\n",
       "[20000 rows x 4 columns]"
      ]
     },
     "execution_count": 65,
     "metadata": {},
     "output_type": "execute_result"
    }
   ],
   "source": [
    "X_test_scaled_arr = transformer.transform(X_test_num)\n",
    "X_test_scaled = pd.DataFrame(X_test_scaled_arr, columns=X_test_num.columns)\n",
    "X_test_scaled"
   ]
  },
  {
   "cell_type": "markdown",
   "id": "52dd993c",
   "metadata": {
    "papermill": {
     "duration": 0.023152,
     "end_time": "2025-06-20T12:47:50.603721",
     "exception": false,
     "start_time": "2025-06-20T12:47:50.580569",
     "status": "completed"
    },
    "tags": []
   },
   "source": [
    "**Concatenating encoded and scaled columns**"
   ]
  },
  {
   "cell_type": "code",
   "execution_count": 66,
   "id": "32067fa5",
   "metadata": {
    "execution": {
     "iopub.execute_input": "2025-06-20T12:47:50.651830Z",
     "iopub.status.busy": "2025-06-20T12:47:50.651607Z",
     "iopub.status.idle": "2025-06-20T12:47:50.659220Z",
     "shell.execute_reply": "2025-06-20T12:47:50.658741Z"
    },
    "papermill": {
     "duration": 0.03272,
     "end_time": "2025-06-20T12:47:50.660222",
     "exception": false,
     "start_time": "2025-06-20T12:47:50.627502",
     "status": "completed"
    },
    "tags": []
   },
   "outputs": [],
   "source": [
    "X_train_processed = pd.concat([X_train_encoded, X_train_scaled], axis = 1)\n",
    "X_test_processed = pd.concat([X_test_encoded, X_test_scaled], axis = 1)"
   ]
  },
  {
   "cell_type": "code",
   "execution_count": 67,
   "id": "0d67c8b0",
   "metadata": {
    "execution": {
     "iopub.execute_input": "2025-06-20T12:47:50.709109Z",
     "iopub.status.busy": "2025-06-20T12:47:50.708679Z",
     "iopub.status.idle": "2025-06-20T12:47:50.722363Z",
     "shell.execute_reply": "2025-06-20T12:47:50.721848Z"
    },
    "papermill": {
     "duration": 0.038798,
     "end_time": "2025-06-20T12:47:50.723362",
     "exception": false,
     "start_time": "2025-06-20T12:47:50.684564",
     "status": "completed"
    },
    "tags": []
   },
   "outputs": [
    {
     "data": {
      "text/html": [
       "<div>\n",
       "<style scoped>\n",
       "    .dataframe tbody tr th:only-of-type {\n",
       "        vertical-align: middle;\n",
       "    }\n",
       "\n",
       "    .dataframe tbody tr th {\n",
       "        vertical-align: top;\n",
       "    }\n",
       "\n",
       "    .dataframe thead th {\n",
       "        text-align: right;\n",
       "    }\n",
       "</style>\n",
       "<table border=\"1\" class=\"dataframe\">\n",
       "  <thead>\n",
       "    <tr style=\"text-align: right;\">\n",
       "      <th></th>\n",
       "      <th>gender_Male</th>\n",
       "      <th>gender_Other</th>\n",
       "      <th>hypertension_Yes</th>\n",
       "      <th>heart_disease_Yes</th>\n",
       "      <th>smoking_history_former</th>\n",
       "      <th>smoking_history_never</th>\n",
       "      <th>smoking_history_no info</th>\n",
       "      <th>age</th>\n",
       "      <th>bmi_score</th>\n",
       "      <th>haemoglobin_level</th>\n",
       "      <th>blood_glucose_level</th>\n",
       "    </tr>\n",
       "  </thead>\n",
       "  <tbody>\n",
       "    <tr>\n",
       "      <th>0</th>\n",
       "      <td>1.0</td>\n",
       "      <td>0.0</td>\n",
       "      <td>0.0</td>\n",
       "      <td>0.0</td>\n",
       "      <td>1.0</td>\n",
       "      <td>0.0</td>\n",
       "      <td>0.0</td>\n",
       "      <td>0.9125</td>\n",
       "      <td>0.180418</td>\n",
       "      <td>0.000000</td>\n",
       "      <td>0.000000</td>\n",
       "    </tr>\n",
       "    <tr>\n",
       "      <th>1</th>\n",
       "      <td>1.0</td>\n",
       "      <td>0.0</td>\n",
       "      <td>0.0</td>\n",
       "      <td>0.0</td>\n",
       "      <td>0.0</td>\n",
       "      <td>1.0</td>\n",
       "      <td>0.0</td>\n",
       "      <td>1.0000</td>\n",
       "      <td>0.178340</td>\n",
       "      <td>0.400000</td>\n",
       "      <td>0.295455</td>\n",
       "    </tr>\n",
       "    <tr>\n",
       "      <th>2</th>\n",
       "      <td>0.0</td>\n",
       "      <td>0.0</td>\n",
       "      <td>0.0</td>\n",
       "      <td>0.0</td>\n",
       "      <td>0.0</td>\n",
       "      <td>0.0</td>\n",
       "      <td>0.0</td>\n",
       "      <td>0.4750</td>\n",
       "      <td>0.175040</td>\n",
       "      <td>0.090909</td>\n",
       "      <td>0.354545</td>\n",
       "    </tr>\n",
       "    <tr>\n",
       "      <th>3</th>\n",
       "      <td>0.0</td>\n",
       "      <td>0.0</td>\n",
       "      <td>0.0</td>\n",
       "      <td>0.0</td>\n",
       "      <td>1.0</td>\n",
       "      <td>0.0</td>\n",
       "      <td>0.0</td>\n",
       "      <td>0.3250</td>\n",
       "      <td>0.108300</td>\n",
       "      <td>0.272727</td>\n",
       "      <td>0.090909</td>\n",
       "    </tr>\n",
       "    <tr>\n",
       "      <th>4</th>\n",
       "      <td>0.0</td>\n",
       "      <td>0.0</td>\n",
       "      <td>1.0</td>\n",
       "      <td>0.0</td>\n",
       "      <td>0.0</td>\n",
       "      <td>0.0</td>\n",
       "      <td>0.0</td>\n",
       "      <td>0.7625</td>\n",
       "      <td>0.147904</td>\n",
       "      <td>0.181818</td>\n",
       "      <td>0.022727</td>\n",
       "    </tr>\n",
       "    <tr>\n",
       "      <th>...</th>\n",
       "      <td>...</td>\n",
       "      <td>...</td>\n",
       "      <td>...</td>\n",
       "      <td>...</td>\n",
       "      <td>...</td>\n",
       "      <td>...</td>\n",
       "      <td>...</td>\n",
       "      <td>...</td>\n",
       "      <td>...</td>\n",
       "      <td>...</td>\n",
       "      <td>...</td>\n",
       "    </tr>\n",
       "    <tr>\n",
       "      <th>79995</th>\n",
       "      <td>1.0</td>\n",
       "      <td>0.0</td>\n",
       "      <td>0.0</td>\n",
       "      <td>0.0</td>\n",
       "      <td>0.0</td>\n",
       "      <td>1.0</td>\n",
       "      <td>0.0</td>\n",
       "      <td>0.6125</td>\n",
       "      <td>0.280773</td>\n",
       "      <td>0.400000</td>\n",
       "      <td>0.000000</td>\n",
       "    </tr>\n",
       "    <tr>\n",
       "      <th>79996</th>\n",
       "      <td>0.0</td>\n",
       "      <td>0.0</td>\n",
       "      <td>0.0</td>\n",
       "      <td>0.0</td>\n",
       "      <td>0.0</td>\n",
       "      <td>1.0</td>\n",
       "      <td>0.0</td>\n",
       "      <td>0.1875</td>\n",
       "      <td>0.221122</td>\n",
       "      <td>0.272727</td>\n",
       "      <td>0.359091</td>\n",
       "    </tr>\n",
       "    <tr>\n",
       "      <th>79997</th>\n",
       "      <td>1.0</td>\n",
       "      <td>0.0</td>\n",
       "      <td>0.0</td>\n",
       "      <td>0.0</td>\n",
       "      <td>0.0</td>\n",
       "      <td>1.0</td>\n",
       "      <td>0.0</td>\n",
       "      <td>0.5250</td>\n",
       "      <td>0.197164</td>\n",
       "      <td>0.418182</td>\n",
       "      <td>0.022727</td>\n",
       "    </tr>\n",
       "    <tr>\n",
       "      <th>79998</th>\n",
       "      <td>0.0</td>\n",
       "      <td>0.0</td>\n",
       "      <td>0.0</td>\n",
       "      <td>0.0</td>\n",
       "      <td>0.0</td>\n",
       "      <td>1.0</td>\n",
       "      <td>0.0</td>\n",
       "      <td>0.4625</td>\n",
       "      <td>0.182740</td>\n",
       "      <td>0.490909</td>\n",
       "      <td>0.354545</td>\n",
       "    </tr>\n",
       "    <tr>\n",
       "      <th>79999</th>\n",
       "      <td>0.0</td>\n",
       "      <td>0.0</td>\n",
       "      <td>0.0</td>\n",
       "      <td>0.0</td>\n",
       "      <td>0.0</td>\n",
       "      <td>1.0</td>\n",
       "      <td>0.0</td>\n",
       "      <td>0.2875</td>\n",
       "      <td>0.219778</td>\n",
       "      <td>0.272727</td>\n",
       "      <td>0.359091</td>\n",
       "    </tr>\n",
       "  </tbody>\n",
       "</table>\n",
       "<p>80000 rows × 11 columns</p>\n",
       "</div>"
      ],
      "text/plain": [
       "       gender_Male  gender_Other  hypertension_Yes  heart_disease_Yes  \\\n",
       "0              1.0           0.0               0.0                0.0   \n",
       "1              1.0           0.0               0.0                0.0   \n",
       "2              0.0           0.0               0.0                0.0   \n",
       "3              0.0           0.0               0.0                0.0   \n",
       "4              0.0           0.0               1.0                0.0   \n",
       "...            ...           ...               ...                ...   \n",
       "79995          1.0           0.0               0.0                0.0   \n",
       "79996          0.0           0.0               0.0                0.0   \n",
       "79997          1.0           0.0               0.0                0.0   \n",
       "79998          0.0           0.0               0.0                0.0   \n",
       "79999          0.0           0.0               0.0                0.0   \n",
       "\n",
       "       smoking_history_former  smoking_history_never  smoking_history_no info  \\\n",
       "0                         1.0                    0.0                      0.0   \n",
       "1                         0.0                    1.0                      0.0   \n",
       "2                         0.0                    0.0                      0.0   \n",
       "3                         1.0                    0.0                      0.0   \n",
       "4                         0.0                    0.0                      0.0   \n",
       "...                       ...                    ...                      ...   \n",
       "79995                     0.0                    1.0                      0.0   \n",
       "79996                     0.0                    1.0                      0.0   \n",
       "79997                     0.0                    1.0                      0.0   \n",
       "79998                     0.0                    1.0                      0.0   \n",
       "79999                     0.0                    1.0                      0.0   \n",
       "\n",
       "          age  bmi_score  haemoglobin_level  blood_glucose_level  \n",
       "0      0.9125   0.180418           0.000000             0.000000  \n",
       "1      1.0000   0.178340           0.400000             0.295455  \n",
       "2      0.4750   0.175040           0.090909             0.354545  \n",
       "3      0.3250   0.108300           0.272727             0.090909  \n",
       "4      0.7625   0.147904           0.181818             0.022727  \n",
       "...       ...        ...                ...                  ...  \n",
       "79995  0.6125   0.280773           0.400000             0.000000  \n",
       "79996  0.1875   0.221122           0.272727             0.359091  \n",
       "79997  0.5250   0.197164           0.418182             0.022727  \n",
       "79998  0.4625   0.182740           0.490909             0.354545  \n",
       "79999  0.2875   0.219778           0.272727             0.359091  \n",
       "\n",
       "[80000 rows x 11 columns]"
      ]
     },
     "execution_count": 67,
     "metadata": {},
     "output_type": "execute_result"
    }
   ],
   "source": [
    "X_train_processed"
   ]
  },
  {
   "cell_type": "code",
   "execution_count": 68,
   "id": "50b25e33",
   "metadata": {
    "execution": {
     "iopub.execute_input": "2025-06-20T12:47:50.771636Z",
     "iopub.status.busy": "2025-06-20T12:47:50.771226Z",
     "iopub.status.idle": "2025-06-20T12:47:50.784622Z",
     "shell.execute_reply": "2025-06-20T12:47:50.783988Z"
    },
    "papermill": {
     "duration": 0.038201,
     "end_time": "2025-06-20T12:47:50.785645",
     "exception": false,
     "start_time": "2025-06-20T12:47:50.747444",
     "status": "completed"
    },
    "tags": []
   },
   "outputs": [
    {
     "data": {
      "text/html": [
       "<div>\n",
       "<style scoped>\n",
       "    .dataframe tbody tr th:only-of-type {\n",
       "        vertical-align: middle;\n",
       "    }\n",
       "\n",
       "    .dataframe tbody tr th {\n",
       "        vertical-align: top;\n",
       "    }\n",
       "\n",
       "    .dataframe thead th {\n",
       "        text-align: right;\n",
       "    }\n",
       "</style>\n",
       "<table border=\"1\" class=\"dataframe\">\n",
       "  <thead>\n",
       "    <tr style=\"text-align: right;\">\n",
       "      <th></th>\n",
       "      <th>gender_Male</th>\n",
       "      <th>gender_Other</th>\n",
       "      <th>hypertension_Yes</th>\n",
       "      <th>heart_disease_Yes</th>\n",
       "      <th>smoking_history_former</th>\n",
       "      <th>smoking_history_never</th>\n",
       "      <th>smoking_history_no info</th>\n",
       "      <th>age</th>\n",
       "      <th>bmi_score</th>\n",
       "      <th>haemoglobin_level</th>\n",
       "      <th>blood_glucose_level</th>\n",
       "    </tr>\n",
       "  </thead>\n",
       "  <tbody>\n",
       "    <tr>\n",
       "      <th>0</th>\n",
       "      <td>0.0</td>\n",
       "      <td>0.0</td>\n",
       "      <td>0.0</td>\n",
       "      <td>0.0</td>\n",
       "      <td>0.0</td>\n",
       "      <td>0.0</td>\n",
       "      <td>1.0</td>\n",
       "      <td>0.1625</td>\n",
       "      <td>0.132135</td>\n",
       "      <td>0.418182</td>\n",
       "      <td>0.209091</td>\n",
       "    </tr>\n",
       "    <tr>\n",
       "      <th>1</th>\n",
       "      <td>0.0</td>\n",
       "      <td>0.0</td>\n",
       "      <td>0.0</td>\n",
       "      <td>0.0</td>\n",
       "      <td>0.0</td>\n",
       "      <td>0.0</td>\n",
       "      <td>1.0</td>\n",
       "      <td>0.0375</td>\n",
       "      <td>0.134336</td>\n",
       "      <td>0.272727</td>\n",
       "      <td>0.295455</td>\n",
       "    </tr>\n",
       "    <tr>\n",
       "      <th>2</th>\n",
       "      <td>1.0</td>\n",
       "      <td>0.0</td>\n",
       "      <td>0.0</td>\n",
       "      <td>0.0</td>\n",
       "      <td>1.0</td>\n",
       "      <td>0.0</td>\n",
       "      <td>0.0</td>\n",
       "      <td>0.7875</td>\n",
       "      <td>0.187141</td>\n",
       "      <td>0.000000</td>\n",
       "      <td>0.545455</td>\n",
       "    </tr>\n",
       "    <tr>\n",
       "      <th>3</th>\n",
       "      <td>0.0</td>\n",
       "      <td>0.0</td>\n",
       "      <td>0.0</td>\n",
       "      <td>0.0</td>\n",
       "      <td>0.0</td>\n",
       "      <td>1.0</td>\n",
       "      <td>0.0</td>\n",
       "      <td>0.0250</td>\n",
       "      <td>0.090698</td>\n",
       "      <td>0.472727</td>\n",
       "      <td>0.209091</td>\n",
       "    </tr>\n",
       "    <tr>\n",
       "      <th>4</th>\n",
       "      <td>0.0</td>\n",
       "      <td>0.0</td>\n",
       "      <td>0.0</td>\n",
       "      <td>0.0</td>\n",
       "      <td>1.0</td>\n",
       "      <td>0.0</td>\n",
       "      <td>0.0</td>\n",
       "      <td>0.4125</td>\n",
       "      <td>0.367559</td>\n",
       "      <td>0.490909</td>\n",
       "      <td>0.545455</td>\n",
       "    </tr>\n",
       "    <tr>\n",
       "      <th>...</th>\n",
       "      <td>...</td>\n",
       "      <td>...</td>\n",
       "      <td>...</td>\n",
       "      <td>...</td>\n",
       "      <td>...</td>\n",
       "      <td>...</td>\n",
       "      <td>...</td>\n",
       "      <td>...</td>\n",
       "      <td>...</td>\n",
       "      <td>...</td>\n",
       "      <td>...</td>\n",
       "    </tr>\n",
       "    <tr>\n",
       "      <th>19995</th>\n",
       "      <td>0.0</td>\n",
       "      <td>0.0</td>\n",
       "      <td>0.0</td>\n",
       "      <td>0.0</td>\n",
       "      <td>1.0</td>\n",
       "      <td>0.0</td>\n",
       "      <td>0.0</td>\n",
       "      <td>0.5500</td>\n",
       "      <td>0.145948</td>\n",
       "      <td>0.454545</td>\n",
       "      <td>0.359091</td>\n",
       "    </tr>\n",
       "    <tr>\n",
       "      <th>19996</th>\n",
       "      <td>1.0</td>\n",
       "      <td>0.0</td>\n",
       "      <td>1.0</td>\n",
       "      <td>0.0</td>\n",
       "      <td>1.0</td>\n",
       "      <td>0.0</td>\n",
       "      <td>0.0</td>\n",
       "      <td>0.7625</td>\n",
       "      <td>0.390784</td>\n",
       "      <td>0.000000</td>\n",
       "      <td>0.045455</td>\n",
       "    </tr>\n",
       "    <tr>\n",
       "      <th>19997</th>\n",
       "      <td>0.0</td>\n",
       "      <td>0.0</td>\n",
       "      <td>0.0</td>\n",
       "      <td>0.0</td>\n",
       "      <td>0.0</td>\n",
       "      <td>1.0</td>\n",
       "      <td>0.0</td>\n",
       "      <td>0.6125</td>\n",
       "      <td>0.201687</td>\n",
       "      <td>0.236364</td>\n",
       "      <td>0.090909</td>\n",
       "    </tr>\n",
       "    <tr>\n",
       "      <th>19998</th>\n",
       "      <td>1.0</td>\n",
       "      <td>0.0</td>\n",
       "      <td>0.0</td>\n",
       "      <td>1.0</td>\n",
       "      <td>0.0</td>\n",
       "      <td>0.0</td>\n",
       "      <td>1.0</td>\n",
       "      <td>0.9125</td>\n",
       "      <td>0.211588</td>\n",
       "      <td>0.563636</td>\n",
       "      <td>0.090909</td>\n",
       "    </tr>\n",
       "    <tr>\n",
       "      <th>19999</th>\n",
       "      <td>0.0</td>\n",
       "      <td>0.0</td>\n",
       "      <td>0.0</td>\n",
       "      <td>0.0</td>\n",
       "      <td>0.0</td>\n",
       "      <td>1.0</td>\n",
       "      <td>0.0</td>\n",
       "      <td>0.5375</td>\n",
       "      <td>0.169295</td>\n",
       "      <td>0.418182</td>\n",
       "      <td>0.295455</td>\n",
       "    </tr>\n",
       "  </tbody>\n",
       "</table>\n",
       "<p>20000 rows × 11 columns</p>\n",
       "</div>"
      ],
      "text/plain": [
       "       gender_Male  gender_Other  hypertension_Yes  heart_disease_Yes  \\\n",
       "0              0.0           0.0               0.0                0.0   \n",
       "1              0.0           0.0               0.0                0.0   \n",
       "2              1.0           0.0               0.0                0.0   \n",
       "3              0.0           0.0               0.0                0.0   \n",
       "4              0.0           0.0               0.0                0.0   \n",
       "...            ...           ...               ...                ...   \n",
       "19995          0.0           0.0               0.0                0.0   \n",
       "19996          1.0           0.0               1.0                0.0   \n",
       "19997          0.0           0.0               0.0                0.0   \n",
       "19998          1.0           0.0               0.0                1.0   \n",
       "19999          0.0           0.0               0.0                0.0   \n",
       "\n",
       "       smoking_history_former  smoking_history_never  smoking_history_no info  \\\n",
       "0                         0.0                    0.0                      1.0   \n",
       "1                         0.0                    0.0                      1.0   \n",
       "2                         1.0                    0.0                      0.0   \n",
       "3                         0.0                    1.0                      0.0   \n",
       "4                         1.0                    0.0                      0.0   \n",
       "...                       ...                    ...                      ...   \n",
       "19995                     1.0                    0.0                      0.0   \n",
       "19996                     1.0                    0.0                      0.0   \n",
       "19997                     0.0                    1.0                      0.0   \n",
       "19998                     0.0                    0.0                      1.0   \n",
       "19999                     0.0                    1.0                      0.0   \n",
       "\n",
       "          age  bmi_score  haemoglobin_level  blood_glucose_level  \n",
       "0      0.1625   0.132135           0.418182             0.209091  \n",
       "1      0.0375   0.134336           0.272727             0.295455  \n",
       "2      0.7875   0.187141           0.000000             0.545455  \n",
       "3      0.0250   0.090698           0.472727             0.209091  \n",
       "4      0.4125   0.367559           0.490909             0.545455  \n",
       "...       ...        ...                ...                  ...  \n",
       "19995  0.5500   0.145948           0.454545             0.359091  \n",
       "19996  0.7625   0.390784           0.000000             0.045455  \n",
       "19997  0.6125   0.201687           0.236364             0.090909  \n",
       "19998  0.9125   0.211588           0.563636             0.090909  \n",
       "19999  0.5375   0.169295           0.418182             0.295455  \n",
       "\n",
       "[20000 rows x 11 columns]"
      ]
     },
     "execution_count": 68,
     "metadata": {},
     "output_type": "execute_result"
    }
   ],
   "source": [
    "X_test_processed"
   ]
  },
  {
   "cell_type": "code",
   "execution_count": 69,
   "id": "a8db97b7",
   "metadata": {
    "execution": {
     "iopub.execute_input": "2025-06-20T12:47:50.835490Z",
     "iopub.status.busy": "2025-06-20T12:47:50.835215Z",
     "iopub.status.idle": "2025-06-20T12:47:50.838843Z",
     "shell.execute_reply": "2025-06-20T12:47:50.838172Z"
    },
    "papermill": {
     "duration": 0.029187,
     "end_time": "2025-06-20T12:47:50.839850",
     "exception": false,
     "start_time": "2025-06-20T12:47:50.810663",
     "status": "completed"
    },
    "tags": []
   },
   "outputs": [],
   "source": [
    "y_train = y_train.reset_index(drop=True)"
   ]
  },
  {
   "cell_type": "code",
   "execution_count": 70,
   "id": "387ebdaf",
   "metadata": {
    "execution": {
     "iopub.execute_input": "2025-06-20T12:47:50.889548Z",
     "iopub.status.busy": "2025-06-20T12:47:50.889350Z",
     "iopub.status.idle": "2025-06-20T12:47:50.914902Z",
     "shell.execute_reply": "2025-06-20T12:47:50.914266Z"
    },
    "papermill": {
     "duration": 0.051438,
     "end_time": "2025-06-20T12:47:50.916026",
     "exception": false,
     "start_time": "2025-06-20T12:47:50.864588",
     "status": "completed"
    },
    "tags": []
   },
   "outputs": [
    {
     "name": "stdout",
     "output_type": "stream",
     "text": [
      "(80000, 12)\n"
     ]
    },
    {
     "data": {
      "text/html": [
       "<div>\n",
       "<style scoped>\n",
       "    .dataframe tbody tr th:only-of-type {\n",
       "        vertical-align: middle;\n",
       "    }\n",
       "\n",
       "    .dataframe tbody tr th {\n",
       "        vertical-align: top;\n",
       "    }\n",
       "\n",
       "    .dataframe thead th {\n",
       "        text-align: right;\n",
       "    }\n",
       "</style>\n",
       "<table border=\"1\" class=\"dataframe\">\n",
       "  <thead>\n",
       "    <tr style=\"text-align: right;\">\n",
       "      <th></th>\n",
       "      <th>gender_Male</th>\n",
       "      <th>gender_Other</th>\n",
       "      <th>hypertension_Yes</th>\n",
       "      <th>heart_disease_Yes</th>\n",
       "      <th>smoking_history_former</th>\n",
       "      <th>smoking_history_never</th>\n",
       "      <th>smoking_history_no info</th>\n",
       "      <th>age</th>\n",
       "      <th>bmi_score</th>\n",
       "      <th>haemoglobin_level</th>\n",
       "      <th>blood_glucose_level</th>\n",
       "      <th>is_diabetic</th>\n",
       "    </tr>\n",
       "  </thead>\n",
       "  <tbody>\n",
       "    <tr>\n",
       "      <th>0</th>\n",
       "      <td>1.0</td>\n",
       "      <td>0.0</td>\n",
       "      <td>0.0</td>\n",
       "      <td>0.0</td>\n",
       "      <td>1.0</td>\n",
       "      <td>0.0</td>\n",
       "      <td>0.0</td>\n",
       "      <td>0.9125</td>\n",
       "      <td>0.180418</td>\n",
       "      <td>0.000000</td>\n",
       "      <td>0.000000</td>\n",
       "      <td>0</td>\n",
       "    </tr>\n",
       "    <tr>\n",
       "      <th>1</th>\n",
       "      <td>1.0</td>\n",
       "      <td>0.0</td>\n",
       "      <td>0.0</td>\n",
       "      <td>0.0</td>\n",
       "      <td>0.0</td>\n",
       "      <td>1.0</td>\n",
       "      <td>0.0</td>\n",
       "      <td>1.0000</td>\n",
       "      <td>0.178340</td>\n",
       "      <td>0.400000</td>\n",
       "      <td>0.295455</td>\n",
       "      <td>1</td>\n",
       "    </tr>\n",
       "    <tr>\n",
       "      <th>2</th>\n",
       "      <td>0.0</td>\n",
       "      <td>0.0</td>\n",
       "      <td>0.0</td>\n",
       "      <td>0.0</td>\n",
       "      <td>0.0</td>\n",
       "      <td>0.0</td>\n",
       "      <td>0.0</td>\n",
       "      <td>0.4750</td>\n",
       "      <td>0.175040</td>\n",
       "      <td>0.090909</td>\n",
       "      <td>0.354545</td>\n",
       "      <td>0</td>\n",
       "    </tr>\n",
       "    <tr>\n",
       "      <th>3</th>\n",
       "      <td>0.0</td>\n",
       "      <td>0.0</td>\n",
       "      <td>0.0</td>\n",
       "      <td>0.0</td>\n",
       "      <td>1.0</td>\n",
       "      <td>0.0</td>\n",
       "      <td>0.0</td>\n",
       "      <td>0.3250</td>\n",
       "      <td>0.108300</td>\n",
       "      <td>0.272727</td>\n",
       "      <td>0.090909</td>\n",
       "      <td>0</td>\n",
       "    </tr>\n",
       "    <tr>\n",
       "      <th>4</th>\n",
       "      <td>0.0</td>\n",
       "      <td>0.0</td>\n",
       "      <td>1.0</td>\n",
       "      <td>0.0</td>\n",
       "      <td>0.0</td>\n",
       "      <td>0.0</td>\n",
       "      <td>0.0</td>\n",
       "      <td>0.7625</td>\n",
       "      <td>0.147904</td>\n",
       "      <td>0.181818</td>\n",
       "      <td>0.022727</td>\n",
       "      <td>0</td>\n",
       "    </tr>\n",
       "  </tbody>\n",
       "</table>\n",
       "</div>"
      ],
      "text/plain": [
       "   gender_Male  gender_Other  hypertension_Yes  heart_disease_Yes  \\\n",
       "0          1.0           0.0               0.0                0.0   \n",
       "1          1.0           0.0               0.0                0.0   \n",
       "2          0.0           0.0               0.0                0.0   \n",
       "3          0.0           0.0               0.0                0.0   \n",
       "4          0.0           0.0               1.0                0.0   \n",
       "\n",
       "   smoking_history_former  smoking_history_never  smoking_history_no info  \\\n",
       "0                     1.0                    0.0                      0.0   \n",
       "1                     0.0                    1.0                      0.0   \n",
       "2                     0.0                    0.0                      0.0   \n",
       "3                     1.0                    0.0                      0.0   \n",
       "4                     0.0                    0.0                      0.0   \n",
       "\n",
       "      age  bmi_score  haemoglobin_level  blood_glucose_level  is_diabetic  \n",
       "0  0.9125   0.180418           0.000000             0.000000            0  \n",
       "1  1.0000   0.178340           0.400000             0.295455            1  \n",
       "2  0.4750   0.175040           0.090909             0.354545            0  \n",
       "3  0.3250   0.108300           0.272727             0.090909            0  \n",
       "4  0.7625   0.147904           0.181818             0.022727            0  "
      ]
     },
     "execution_count": 70,
     "metadata": {},
     "output_type": "execute_result"
    }
   ],
   "source": [
    "# Nếu y_train là một numpy array hoặc list, convert thành Series\n",
    "if isinstance(y_train, (list, np.ndarray)):\n",
    "    y_train = pd.Series(y_train, name=\"is_diabetic\")\n",
    "\n",
    "# Nếu là Series nhưng không có tên cột\n",
    "elif isinstance(y_train, pd.Series) and y_train.name is None:\n",
    "    y_train.name = \"is_diabetic\"\n",
    "\n",
    "# Gộp lại thành DataFrame\n",
    "train = pd.concat([X_train_processed, y_train], axis=1)\n",
    "\n",
    "print(train.shape)\n",
    "train.head()"
   ]
  },
  {
   "cell_type": "code",
   "execution_count": 71,
   "id": "998978b4",
   "metadata": {
    "execution": {
     "iopub.execute_input": "2025-06-20T12:47:50.966793Z",
     "iopub.status.busy": "2025-06-20T12:47:50.966520Z",
     "iopub.status.idle": "2025-06-20T12:47:50.971568Z",
     "shell.execute_reply": "2025-06-20T12:47:50.970908Z"
    },
    "papermill": {
     "duration": 0.031142,
     "end_time": "2025-06-20T12:47:50.972564",
     "exception": false,
     "start_time": "2025-06-20T12:47:50.941422",
     "status": "completed"
    },
    "tags": []
   },
   "outputs": [
    {
     "data": {
      "text/plain": [
       "0        0\n",
       "1        1\n",
       "2        0\n",
       "3        0\n",
       "4        0\n",
       "        ..\n",
       "79995    0\n",
       "79996    0\n",
       "79997    0\n",
       "79998    0\n",
       "79999    0\n",
       "Name: is_diabetic, Length: 80000, dtype: int64"
      ]
     },
     "execution_count": 71,
     "metadata": {},
     "output_type": "execute_result"
    }
   ],
   "source": [
    "y_train"
   ]
  },
  {
   "cell_type": "markdown",
   "id": "bcc37d55",
   "metadata": {
    "papermill": {
     "duration": 0.024201,
     "end_time": "2025-06-20T12:47:51.021953",
     "exception": false,
     "start_time": "2025-06-20T12:47:50.997752",
     "status": "completed"
    },
    "tags": []
   },
   "source": [
    "**HUẤN LUYỆN MÔ HÌNH CHƯA UNDERSAMPLING**"
   ]
  },
  {
   "cell_type": "markdown",
   "id": "ec4c2bde",
   "metadata": {
    "papermill": {
     "duration": 0.024413,
     "end_time": "2025-06-20T12:47:51.070797",
     "exception": false,
     "start_time": "2025-06-20T12:47:51.046384",
     "status": "completed"
    },
    "tags": []
   },
   "source": [
    "*DecisionTreeClassifier*"
   ]
  },
  {
   "cell_type": "code",
   "execution_count": 72,
   "id": "bf8db185",
   "metadata": {
    "execution": {
     "iopub.execute_input": "2025-06-20T12:47:51.121519Z",
     "iopub.status.busy": "2025-06-20T12:47:51.121282Z",
     "iopub.status.idle": "2025-06-20T12:47:57.042565Z",
     "shell.execute_reply": "2025-06-20T12:47:57.041891Z"
    },
    "papermill": {
     "duration": 5.948976,
     "end_time": "2025-06-20T12:47:57.044236",
     "exception": false,
     "start_time": "2025-06-20T12:47:51.095260",
     "status": "completed"
    },
    "tags": []
   },
   "outputs": [
    {
     "name": "stdout",
     "output_type": "stream",
     "text": [
      "--- Báo cáo quá trình tìm kiếm siêu tham số cho Decision Tree (Chưa undersampling)---\n",
      "--------------------------------------------------------------------------------------------------------------\n",
      "Max Depth  | Test Acc   | Test LogLoss | Time (s)   | Complexity (Nodes/Leaves)      | Overfitting (Train/Test Acc)\n",
      "--------------------------------------------------------------------------------------------------------------\n",
      "1          | 0.954      | 0.185        | 0.0908     | 3 / 2                          | 0.954 / 0.954            \n",
      "2          | 0.972      | 0.126        | 0.0919     | 5 / 3                          | 0.972 / 0.972            \n",
      "3          | 0.972      | 0.116        | 0.1089     | 7 / 4                          | 0.972 / 0.972            \n",
      "4          | 0.972      | 0.105        | 0.1232     | 11 / 6                         | 0.972 / 0.972            \n",
      "5          | 0.972      | 0.097        | 0.1381     | 17 / 9                         | 0.972 / 0.972            \n",
      "6          | 0.972      | 0.092        | 0.1509     | 25 / 13                        | 0.972 / 0.972            \n",
      "7          | 0.972      | 0.087        | 0.1633     | 37 / 19                        | 0.972 / 0.972            \n",
      "8          | 0.972      | 0.085        | 0.1756     | 55 / 28                        | 0.972 / 0.972            \n",
      "9          | 0.972      | 0.084        | 0.2188     | 89 / 45                        | 0.972 / 0.972            \n",
      "10         | 0.972      | 0.095        | 0.1886     | 151 / 76                       | 0.972 / 0.972            \n",
      "11         | 0.972      | 0.102        | 0.1940     | 251 / 126                      | 0.973 / 0.972            \n",
      "12         | 0.971      | 0.131        | 0.2004     | 407 / 204                      | 0.974 / 0.971            \n",
      "13         | 0.971      | 0.166        | 0.2071     | 639 / 320                      | 0.975 / 0.971            \n",
      "14         | 0.970      | 0.253        | 0.2162     | 971 / 486                      | 0.976 / 0.970            \n",
      "15         | 0.969      | 0.361        | 0.2189     | 1393 / 697                     | 0.978 / 0.969            \n",
      "16         | 0.968      | 0.482        | 0.2241     | 1921 / 961                     | 0.980 / 0.968            \n",
      "17         | 0.966      | 0.628        | 0.2278     | 2525 / 1263                    | 0.982 / 0.966            \n",
      "18         | 0.965      | 0.782        | 0.2328     | 3191 / 1596                    | 0.985 / 0.965            \n",
      "19         | 0.962      | 0.952        | 0.2346     | 3903 / 1952                    | 0.987 / 0.962            \n",
      "20         | 0.961      | 1.150        | 0.2388     | 4603 / 2302                    | 0.990 / 0.961            \n",
      "21         | 0.959      | 1.274        | 0.2391     | 5255 / 2628                    | 0.992 / 0.959            \n",
      "22         | 0.957      | 1.387        | 0.2552     | 5779 / 2890                    | 0.994 / 0.957            \n",
      "23         | 0.956      | 1.465        | 0.2420     | 6203 / 3102                    | 0.996 / 0.956            \n",
      "24         | 0.955      | 1.513        | 0.2421     | 6533 / 3267                    | 0.997 / 0.955            \n",
      "25         | 0.956      | 1.528        | 0.2516     | 6765 / 3383                    | 0.997 / 0.956            \n",
      "26         | 0.955      | 1.605        | 0.2444     | 6957 / 3479                    | 0.998 / 0.955            \n",
      "27         | 0.953      | 1.669        | 0.2421     | 7085 / 3543                    | 0.999 / 0.953            \n",
      "28         | 0.954      | 1.649        | 0.2429     | 7171 / 3586                    | 0.999 / 0.954            \n",
      "29         | 0.953      | 1.697        | 0.2426     | 7241 / 3621                    | 0.999 / 0.953            \n",
      "--------------------------------------------------------------------------------------------------------------\n",
      "\n",
      "📌 Mô hình tốt nhất theo Test Accuracy:\n",
      "  ➤ max_depth = 8, Test Accuracy = 0.9722\n",
      "  ➤ Accuracy: 0.9722\n",
      "  ➤ F1 Score: 0.8073\n",
      "  ➤ Độ phức tạp (Nodes/Leaves): 55 / 28\n",
      "              precision    recall  f1-score   support\n",
      "\n",
      "           0       0.97      1.00      0.99     18292\n",
      "           1       0.99      0.68      0.81      1708\n",
      "\n",
      "    accuracy                           0.97     20000\n",
      "   macro avg       0.98      0.84      0.90     20000\n",
      "weighted avg       0.97      0.97      0.97     20000\n",
      "\n"
     ]
    }
   ],
   "source": [
    "from sklearn.tree import DecisionTreeClassifier\n",
    "from sklearn.metrics import log_loss, classification_report, f1_score\n",
    "import matplotlib.pyplot as plt\n",
    "\n",
    "\n",
    "import time\n",
    "\n",
    "max_depth = range(1, 30)\n",
    "\n",
    "train_over_acc = []\n",
    "test_over_acc = []\n",
    "train_loss = []\n",
    "test_loss = []\n",
    "\n",
    "# MOI: Các list để lưu trữ thông tin về thời gian và độ phức tạp\n",
    "processing_times = []\n",
    "node_counts = []\n",
    "leaf_counts = []\n",
    "\n",
    "\n",
    "# Biến lưu kết quả tốt nhất\n",
    "best_model_by_loss = None\n",
    "best_test_log_loss = float('inf')\n",
    "best_depth_by_loss = None\n",
    "\n",
    "best_model_by_acc = None\n",
    "best_test_acc = 0\n",
    "best_depth_by_acc = None\n",
    "\n",
    "# Vòng lặp để huấn luyện và đánh giá mô hình với các max_depth khác nhau\n",
    "for depth in max_depth:\n",
    "    # MOI: Bắt đầu đếm thời gian\n",
    "    start_time = time.time()\n",
    "    \n",
    "    model = DecisionTreeClassifier(max_depth=depth, random_state=0)\n",
    "    model.fit(X_train_processed, y_train)\n",
    "\n",
    "    # MOI: Đo lường độ phức tạp của cây sau khi huấn luyện\n",
    "    # model.tree_.node_count: Tổng số nút trong cây\n",
    "    # model.tree_.n_leaves: Số lượng nút lá (nút đưa ra quyết định cuối cùng)\n",
    "    num_nodes = model.tree_.node_count\n",
    "    num_leaves = model.tree_.n_leaves\n",
    "\n",
    "    # Tính toán Accuracy\n",
    "    acc_train = model.score(X_train_processed, y_train)\n",
    "    acc_test = model.score(X_test_processed, y_test)\n",
    "    \n",
    "    # Tính toán Log loss\n",
    "    y_train_proba_1 = model.predict_proba(X_train_processed)\n",
    "    y_test_proba_1 = model.predict_proba(X_test_processed)\n",
    "    loss_train = log_loss(y_train, y_train_proba_1)\n",
    "    loss_test = log_loss(y_test, y_test_proba_1)\n",
    "\n",
    "    # MOI: Kết thúc đếm thời gian\n",
    "    end_time = time.time()\n",
    "    duration = end_time - start_time\n",
    "\n",
    "    # Thêm các kết quả vào list\n",
    "    train_over_acc.append(acc_train)\n",
    "    test_over_acc.append(acc_test)\n",
    "    train_loss.append(loss_train)\n",
    "    test_loss.append(loss_test)\n",
    "    # MOI: Thêm các thông tin mới vào list\n",
    "    processing_times.append(duration)\n",
    "    node_counts.append(num_nodes)\n",
    "    leaf_counts.append(num_leaves)\n",
    "\n",
    "\n",
    "    # Cập nhật mô hình tốt nhất theo log loss\n",
    "    if loss_test < best_test_log_loss:\n",
    "        best_test_log_loss = loss_test\n",
    "        best_model_by_loss = model\n",
    "        best_depth_by_loss = depth\n",
    "\n",
    "    # Cập nhật mô hình tốt nhất theo accuracy\n",
    "    if acc_test > best_test_acc:\n",
    "        best_test_acc = acc_test\n",
    "        best_model_by_acc = model\n",
    "        best_depth_by_acc = depth\n",
    "\n",
    "\n",
    "print(\"--- Báo cáo quá trình tìm kiếm siêu tham số cho Decision Tree (Chưa undersampling)---\")\n",
    "print(\"-\" * 110)\n",
    "print(f\"{'Max Depth':<10} | {'Test Acc':<10} | {'Test LogLoss':<12} | {'Time (s)':<10} | {'Complexity (Nodes/Leaves)':<30} | {'Overfitting (Train/Test Acc)':<25}\")\n",
    "print(\"-\" * 110)\n",
    "\n",
    "for d, acc_tr, acc_te, loss_te, duration, nodes, leaves in zip(max_depth, train_over_acc, test_over_acc, test_loss, processing_times, node_counts, leaf_counts):\n",
    "    overfitting_metric = f\"{acc_tr:.3f} / {acc_te:.3f}\"\n",
    "    complexity_metric = f\"{nodes} / {leaves}\"\n",
    "    print(f\"{d:<10} | {acc_te:<10.3f} | {loss_te:<12.3f} | {duration:<10.4f} | {complexity_metric:<30} | {overfitting_metric:<25}\")\n",
    "print(\"-\" * 110)\n",
    "print(\"\\n📌 Mô hình tốt nhất theo Test Accuracy:\")\n",
    "print(f\"  ➤ max_depth = {best_depth_by_acc}, Test Accuracy = {best_test_acc:.4f}\")\n",
    "y_pred_acc = best_model_by_acc.predict(X_test_processed)\n",
    "print(f\"  ➤ Accuracy: {best_model_by_acc.score(X_test_processed, y_test):.4f}\")\n",
    "print(f\"  ➤ F1 Score: {f1_score(y_test, y_pred_acc):.4f}\")\n",
    "print(f\"  ➤ Độ phức tạp (Nodes/Leaves): {best_model_by_acc.tree_.node_count} / {best_model_by_acc.tree_.n_leaves}\")\n",
    "print(classification_report(y_test, y_pred_acc))\n",
    "\n",
    "\n"
   ]
  },
  {
   "cell_type": "markdown",
   "id": "62ddcc6d",
   "metadata": {
    "papermill": {
     "duration": 0.024013,
     "end_time": "2025-06-20T12:47:57.096243",
     "exception": false,
     "start_time": "2025-06-20T12:47:57.072230",
     "status": "completed"
    },
    "tags": []
   },
   "source": [
    "*Logistic Regression*"
   ]
  },
  {
   "cell_type": "code",
   "execution_count": 73,
   "id": "49514ad3",
   "metadata": {
    "execution": {
     "iopub.execute_input": "2025-06-20T12:47:57.147279Z",
     "iopub.status.busy": "2025-06-20T12:47:57.146660Z",
     "iopub.status.idle": "2025-06-20T12:47:59.589212Z",
     "shell.execute_reply": "2025-06-20T12:47:59.588184Z"
    },
    "papermill": {
     "duration": 2.46906,
     "end_time": "2025-06-20T12:47:59.590492",
     "exception": false,
     "start_time": "2025-06-20T12:47:57.121432",
     "status": "completed"
    },
    "tags": []
   },
   "outputs": [
    {
     "name": "stdout",
     "output_type": "stream",
     "text": [
      "--- Bắt đầu thử nghiệm Logistic Regression trên DỮ LIỆU GỐC (MẤT CÂN BẰNG) ---\n",
      "----------------------------------------------------------------------------------------------------\n",
      "Giá trị C    | Test Acc   | F1 Score (Lớp 1)   | Time (s)  \n",
      "----------------------------------------------------------------------------------------------------\n",
      "0.010        | 0.948      | 0.574              | 0.3399    \n",
      "0.100        | 0.958      | 0.698              | 0.4240    \n",
      "1.000        | 0.959      | 0.718              | 0.8056    \n",
      "10.000       | 0.959      | 0.719              | 0.8006    \n",
      "----------------------------------------------------------------------------------------------------\n",
      "\n",
      "📌 Mô hình LR tốt nhất trên dữ liệu GỐC:\n",
      "  ➤ Giá trị C tối ưu: 10.0\n",
      "  ➤ F1 Score (Lớp 1) tốt nhất: 0.7193\n",
      "\n",
      "--- Báo cáo phân loại chi tiết cho mô hình tốt nhất ---\n",
      "              precision    recall  f1-score   support\n",
      "\n",
      "           0       0.97      0.99      0.98     18292\n",
      "           1       0.86      0.62      0.72      1708\n",
      "\n",
      "    accuracy                           0.96     20000\n",
      "   macro avg       0.91      0.80      0.85     20000\n",
      "weighted avg       0.96      0.96      0.96     20000\n",
      "\n"
     ]
    }
   ],
   "source": [
    "import time\n",
    "import numpy as np\n",
    "from sklearn.linear_model import LogisticRegression\n",
    "from sklearn.metrics import log_loss, classification_report, f1_score, accuracy_score\n",
    "\n",
    "# --- Bắt đầu thử nghiệm Logistic Regression trên DỮ LIỆU GỐC (MẤT CÂN BẰNG) ---\n",
    "print(\"--- Bắt đầu thử nghiệm Logistic Regression trên DỮ LIỆU GỐC (MẤT CÂN BẰNG) ---\")\n",
    "\n",
    "# Dãy các giá trị C để thử nghiệm\n",
    "C_values = [0.01, 0.1, 1.0, 10.0] \n",
    "\n",
    "# Các list để lưu trữ kết quả\n",
    "train_acc_list_imb = []\n",
    "test_acc_list_imb = []\n",
    "f1_scores_imb = []\n",
    "processing_times_imb = [] # <-- List này đã có nhưng chưa được dùng\n",
    "\n",
    "# Biến lưu mô hình tốt nhất\n",
    "best_model_lr_imb = None\n",
    "best_f1_score_imb = 0\n",
    "best_c_value_imb = None\n",
    "\n",
    "for c_val in C_values:\n",
    "    start_time = time.time()\n",
    "    \n",
    "    # Khởi tạo mô hình\n",
    "    model = LogisticRegression(C=c_val, random_state=0, max_iter=1000)\n",
    "    \n",
    "    # Huấn luyện trên dữ liệu GỐC\n",
    "    model.fit(X_train_processed, y_train)\n",
    "    \n",
    "    # Đánh giá trên tập huấn luyện gốc\n",
    "    y_train_pred = model.predict(X_train_processed)\n",
    "    acc_train = accuracy_score(y_train, y_train_pred)\n",
    "\n",
    "    # Đánh giá trên tập kiểm thử\n",
    "    y_test_pred = model.predict(X_test_processed)\n",
    "    acc_test = accuracy_score(y_test, y_test_pred)\n",
    "    f1 = f1_score(y_test, y_test_pred, pos_label=1)\n",
    "    \n",
    "    duration = time.time() - start_time\n",
    "    \n",
    "    # Lưu trữ kết quả\n",
    "    train_acc_list_imb.append(acc_train)\n",
    "    test_acc_list_imb.append(acc_test)\n",
    "    f1_scores_imb.append(f1)\n",
    "    # SỬA LỖI: Thêm dòng sau để lưu lại thời gian\n",
    "    processing_times_imb.append(duration) \n",
    "    \n",
    "    # Cập nhật mô hình tốt nhất\n",
    "    if f1 > best_f1_score_imb:\n",
    "        best_f1_score_imb = f1\n",
    "        best_model_lr_imb = model\n",
    "        best_c_value_imb = c_val\n",
    "\n",
    "# In kết quả ra bảng\n",
    "# SỬA LỖI: Thêm cột 'Time (s)' vào header của bảng\n",
    "print(\"-\" * 100)\n",
    "print(f\"{'Giá trị C':<12} | {'Test Acc':<10} | {'F1 Score (Lớp 1)':<18} | {'Time (s)':<10}\")\n",
    "print(\"-\" * 100)\n",
    "\n",
    "for c, acc_te, f1, duration in zip(C_values, test_acc_list_imb, f1_scores_imb, processing_times_imb):\n",
    "    print(f\"{c:<12.3f} | {acc_te:<10.3f} | {f1:<18.3f} | {duration:<10.4f}\")\n",
    "print(\"-\" * 100)\n",
    "\n",
    "# In thông tin về mô hình tốt nhất\n",
    "print(\"\\n📌 Mô hình LR tốt nhất trên dữ liệu GỐC:\")\n",
    "print(f\"  ➤ Giá trị C tối ưu: {best_c_value_imb}\")\n",
    "print(f\"  ➤ F1 Score (Lớp 1) tốt nhất: {best_f1_score_imb:.4f}\")\n",
    "print(\"\\n--- Báo cáo phân loại chi tiết cho mô hình tốt nhất ---\")\n",
    "y_pred_best_imb = best_model_lr_imb.predict(X_test_processed)\n",
    "print(classification_report(y_test, y_pred_best_imb))"
   ]
  },
  {
   "cell_type": "markdown",
   "id": "6e847bfa",
   "metadata": {
    "papermill": {
     "duration": 0.024674,
     "end_time": "2025-06-20T12:47:59.643643",
     "exception": false,
     "start_time": "2025-06-20T12:47:59.618969",
     "status": "completed"
    },
    "tags": []
   },
   "source": [
    "*KNN neighbours*"
   ]
  },
  {
   "cell_type": "code",
   "execution_count": 74,
   "id": "f17139cb",
   "metadata": {
    "execution": {
     "iopub.execute_input": "2025-06-20T12:47:59.694802Z",
     "iopub.status.busy": "2025-06-20T12:47:59.694518Z",
     "iopub.status.idle": "2025-06-20T12:50:26.416754Z",
     "shell.execute_reply": "2025-06-20T12:50:26.415887Z"
    },
    "papermill": {
     "duration": 146.748985,
     "end_time": "2025-06-20T12:50:26.417926",
     "exception": false,
     "start_time": "2025-06-20T12:47:59.668941",
     "status": "completed"
    },
    "tags": []
   },
   "outputs": [
    {
     "name": "stdout",
     "output_type": "stream",
     "text": [
      "--- Bắt đầu thử nghiệm KNN trên DỮ LIỆU GỐC (MẤT CÂN BẰNG) ---\n",
      "----------------------------------------------------------------------------------------------------\n",
      "n_neighbors  | weights      | Test Acc   | F1 Score (Lớp 1)   | Time (s)  \n",
      "----------------------------------------------------------------------------------------------------\n",
      "3            | uniform      | 0.959      | 0.728              | 9.4449    \n",
      "3            | distance     | 0.957      | 0.719              | 8.2218    \n",
      "5            | uniform      | 0.962      | 0.734              | 9.2685    \n",
      "5            | distance     | 0.959      | 0.726              | 9.2203    \n",
      "7            | uniform      | 0.963      | 0.733              | 10.3231   \n",
      "7            | distance     | 0.961      | 0.731              | 9.7856    \n",
      "9            | uniform      | 0.962      | 0.726              | 10.6366   \n",
      "9            | distance     | 0.961      | 0.724              | 9.6609    \n",
      "11           | uniform      | 0.962      | 0.723              | 10.6544   \n",
      "11           | distance     | 0.961      | 0.723              | 10.1262   \n",
      "13           | uniform      | 0.962      | 0.718              | 10.4549   \n",
      "13           | distance     | 0.961      | 0.721              | 9.6628    \n",
      "15           | uniform      | 0.962      | 0.717              | 10.7155   \n",
      "15           | distance     | 0.961      | 0.717              | 9.4140    \n",
      "----------------------------------------------------------------------------------------------------\n",
      "\n",
      "📌 Mô hình KNN tốt nhất trên dữ liệu GỐC:\n",
      "  ➤ Tham số tối ưu: {'n_neighbors': 5, 'weights': 'uniform'}\n",
      "  ➤ F1 Score (Lớp 1) tốt nhất: 0.7342\n",
      "\n",
      "--- Báo cáo phân loại chi tiết cho mô hình tốt nhất ---\n",
      "              precision    recall  f1-score   support\n",
      "\n",
      "           0       0.97      0.99      0.98     18292\n",
      "           1       0.90      0.62      0.73      1708\n",
      "\n",
      "    accuracy                           0.96     20000\n",
      "   macro avg       0.93      0.81      0.86     20000\n",
      "weighted avg       0.96      0.96      0.96     20000\n",
      "\n"
     ]
    }
   ],
   "source": [
    "import time\n",
    "from sklearn.neighbors import KNeighborsClassifier\n",
    "from sklearn.metrics import classification_report, f1_score, accuracy_score\n",
    "\n",
    "# --- Bắt đầu thử nghiệm KNN trên DỮ LIỆU GỐC (MẤT CÂN BẰNG) ---\n",
    "print(\"--- Bắt đầu thử nghiệm KNN trên DỮ LIỆU GỐC (MẤT CÂN BẰNG) ---\")\n",
    "\n",
    "# --- Không gian siêu tham số để tìm kiếm ---\n",
    "# Chọn các số lẻ cho k để tránh trường hợp hòa phiếu\n",
    "k_values = [3, 5, 7, 9, 11, 13, 15] \n",
    "weight_options = ['uniform', 'distance']\n",
    "\n",
    "# Biến lưu mô hình tốt nhất\n",
    "best_model_knn_imb = None\n",
    "best_f1_score_knn_imb = 0\n",
    "best_params_knn_imb = {}\n",
    "\n",
    "print(\"-\" * 100)\n",
    "print(f\"{'n_neighbors':<12} | {'weights':<12} | {'Test Acc':<10} | {'F1 Score (Lớp 1)':<18} | {'Time (s)':<10}\")\n",
    "print(\"-\" * 100)\n",
    "\n",
    "# Vòng lặp lồng nhau để thử nghiệm các sự kết hợp\n",
    "for k in k_values:\n",
    "    for w in weight_options:\n",
    "        start_time = time.time()\n",
    "        \n",
    "        # Khởi tạo mô hình\n",
    "        # n_jobs=-1: sử dụng tất cả các nhân CPU để tăng tốc độ\n",
    "        model = KNeighborsClassifier(n_neighbors=k, weights=w, n_jobs=-1)\n",
    "        \n",
    "        # Huấn luyện trên dữ liệu GỐC (đã chuẩn hóa)\n",
    "        model.fit(X_train_processed, y_train)\n",
    "        \n",
    "        # Đánh giá trên tập kiểm thử\n",
    "        y_test_pred = model.predict(X_test_processed)\n",
    "        acc_test = accuracy_score(y_test, y_test_pred)\n",
    "        f1 = f1_score(y_test, y_test_pred, pos_label=1)\n",
    "        \n",
    "        duration = time.time() - start_time\n",
    "        \n",
    "        # In kết quả của lần chạy này\n",
    "        print(f\"{k:<12} | {w:<12} | {acc_test:<10.3f} | {f1:<18.3f} | {duration:<10.4f}\")\n",
    "\n",
    "        # Cập nhật mô hình tốt nhất\n",
    "        if f1 > best_f1_score_knn_imb:\n",
    "            best_f1_score_knn_imb = f1\n",
    "            best_model_knn_imb = model\n",
    "            best_params_knn_imb = {'n_neighbors': k, 'weights': w}\n",
    "\n",
    "print(\"-\" * 100)\n",
    "\n",
    "# In thông tin về mô hình tốt nhất\n",
    "print(\"\\n📌 Mô hình KNN tốt nhất trên dữ liệu GỐC:\")\n",
    "print(f\"  ➤ Tham số tối ưu: {best_params_knn_imb}\")\n",
    "print(f\"  ➤ F1 Score (Lớp 1) tốt nhất: {best_f1_score_knn_imb:.4f}\")\n",
    "print(\"\\n--- Báo cáo phân loại chi tiết cho mô hình tốt nhất ---\")\n",
    "y_pred_best_knn_imb = best_model_knn_imb.predict(X_test_processed)\n",
    "print(classification_report(y_test, y_pred_best_knn_imb))"
   ]
  },
  {
   "cell_type": "markdown",
   "id": "df9d1617",
   "metadata": {
    "papermill": {
     "duration": 0.025111,
     "end_time": "2025-06-20T12:50:26.470178",
     "exception": false,
     "start_time": "2025-06-20T12:50:26.445067",
     "status": "completed"
    },
    "tags": []
   },
   "source": [
    "*MLPClassifier*"
   ]
  },
  {
   "cell_type": "code",
   "execution_count": 75,
   "id": "a85cb425",
   "metadata": {
    "execution": {
     "iopub.execute_input": "2025-06-20T12:50:26.524123Z",
     "iopub.status.busy": "2025-06-20T12:50:26.523369Z",
     "iopub.status.idle": "2025-06-20T12:50:55.235585Z",
     "shell.execute_reply": "2025-06-20T12:50:55.234658Z"
    },
    "papermill": {
     "duration": 28.740595,
     "end_time": "2025-06-20T12:50:55.237084",
     "exception": false,
     "start_time": "2025-06-20T12:50:26.496489",
     "status": "completed"
    },
    "tags": []
   },
   "outputs": [
    {
     "name": "stdout",
     "output_type": "stream",
     "text": [
      "--- Bắt đầu thử nghiệm MLP với kiến trúc (50, 25) trên DỮ LIỆU GỐC ---\n",
      "Đang huấn luyện mô hình trên dữ liệu GỐC...\n",
      "Huấn luyện hoàn tất.\n",
      "\n",
      "--- Kết quả thực thi trên dữ liệu GỐC ---\n",
      "--------------------------------------------------------------------------------\n",
      "Kiến trúc       | Alpha      | Test Acc   | F1 Score (Lớp 1)   | Time (s)  \n",
      "--------------------------------------------------------------------------------\n",
      "(50, 25)        | 0.0001     | 0.972      | 0.808              | 28.61     \n",
      "--------------------------------------------------------------------------------\n",
      "\n",
      "--- Báo cáo phân loại chi tiết cho mô hình trên DỮ LIỆU GỐC ---\n",
      "              precision    recall  f1-score   support\n",
      "\n",
      "           0       0.97      1.00      0.99     18292\n",
      "           1       0.98      0.69      0.81      1708\n",
      "\n",
      "    accuracy                           0.97     20000\n",
      "   macro avg       0.98      0.84      0.90     20000\n",
      "weighted avg       0.97      0.97      0.97     20000\n",
      "\n"
     ]
    }
   ],
   "source": [
    "import time\n",
    "from sklearn.neural_network import MLPClassifier\n",
    "from sklearn.metrics import classification_report, f1_score, accuracy_score\n",
    "\n",
    "# --- Bắt đầu thử nghiệm MLP trên DỮ LIỆU GỐC (MẤT CÂN BẰNG) ---\n",
    "# --- Chỉ với kiến trúc (50, 25) và alpha=0.0001 ---\n",
    "print(\"--- Bắt đầu thử nghiệm MLP với kiến trúc (50, 25) trên DỮ LIỆU GỐC ---\")\n",
    "\n",
    "# --- Định nghĩa các tham số CỐ ĐỊNH ---\n",
    "fixed_architecture = (50, 25)\n",
    "fixed_alpha = 0.0001\n",
    "\n",
    "# --- Huấn luyện và đánh giá một mô hình duy nhất ---\n",
    "start_time = time.time()\n",
    "\n",
    "# Khởi tạo mô hình với các tham số đã chọn\n",
    "model_mlp_imb = MLPClassifier(hidden_layer_sizes=fixed_architecture,\n",
    "                              alpha=fixed_alpha,\n",
    "                              random_state=0,\n",
    "                              max_iter=500)\n",
    "\n",
    "# Huấn luyện mô hình trên dữ liệu GỐC\n",
    "print(\"Đang huấn luyện mô hình trên dữ liệu GỐC...\")\n",
    "model_mlp_imb.fit(X_train_processed, y_train)\n",
    "print(\"Huấn luyện hoàn tất.\")\n",
    "\n",
    "duration = time.time() - start_time\n",
    "\n",
    "# Đánh giá trên tập kiểm thử\n",
    "y_test_pred_imb = model_mlp_imb.predict(X_test_processed)\n",
    "acc_test_imb = accuracy_score(y_test, y_test_pred_imb)\n",
    "f1_imb = f1_score(y_test, y_test_pred_imb, pos_label=1)\n",
    "\n",
    "# --- In kết quả ---\n",
    "print(\"\\n--- Kết quả thực thi trên dữ liệu GỐC ---\")\n",
    "print(\"-\" * 80)\n",
    "print(f\"{'Kiến trúc':<15} | {'Alpha':<10} | {'Test Acc':<10} | {'F1 Score (Lớp 1)':<18} | {'Time (s)':<10}\")\n",
    "print(\"-\" * 80)\n",
    "print(f\"{str(fixed_architecture):<15} | {fixed_alpha:<10.4f} | {acc_test_imb:<10.3f} | {f1_imb:<18.3f} | {duration:<10.2f}\")\n",
    "print(\"-\" * 80)\n",
    "\n",
    "\n",
    "print(\"\\n--- Báo cáo phân loại chi tiết cho mô hình trên DỮ LIỆU GỐC ---\")\n",
    "print(classification_report(y_test, y_test_pred_imb))"
   ]
  },
  {
   "cell_type": "markdown",
   "id": "36288185",
   "metadata": {
    "papermill": {
     "duration": 0.025869,
     "end_time": "2025-06-20T12:50:55.290715",
     "exception": false,
     "start_time": "2025-06-20T12:50:55.264846",
     "status": "completed"
    },
    "tags": []
   },
   "source": [
    "**Undersampling dữ liệu**"
   ]
  },
  {
   "cell_type": "code",
   "execution_count": 76,
   "id": "556bdd65",
   "metadata": {
    "execution": {
     "iopub.execute_input": "2025-06-20T12:50:55.343527Z",
     "iopub.status.busy": "2025-06-20T12:50:55.343274Z",
     "iopub.status.idle": "2025-06-20T12:50:55.351293Z",
     "shell.execute_reply": "2025-06-20T12:50:55.350785Z"
    },
    "papermill": {
     "duration": 0.035791,
     "end_time": "2025-06-20T12:50:55.352359",
     "exception": false,
     "start_time": "2025-06-20T12:50:55.316568",
     "status": "completed"
    },
    "tags": []
   },
   "outputs": [],
   "source": [
    "no_diabetic = train[train[\"is_diabetic\"] == 0]\n",
    "yes_diabetic = train[train[\"is_diabetic\"] == 1]"
   ]
  },
  {
   "cell_type": "code",
   "execution_count": 77,
   "id": "e2ab9dfc",
   "metadata": {
    "execution": {
     "iopub.execute_input": "2025-06-20T12:50:55.405486Z",
     "iopub.status.busy": "2025-06-20T12:50:55.405251Z",
     "iopub.status.idle": "2025-06-20T12:50:55.410631Z",
     "shell.execute_reply": "2025-06-20T12:50:55.410120Z"
    },
    "papermill": {
     "duration": 0.032738,
     "end_time": "2025-06-20T12:50:55.411625",
     "exception": false,
     "start_time": "2025-06-20T12:50:55.378887",
     "status": "completed"
    },
    "tags": []
   },
   "outputs": [
    {
     "data": {
      "text/plain": [
       "(73208, 12)"
      ]
     },
     "metadata": {},
     "output_type": "display_data"
    },
    {
     "data": {
      "text/plain": [
       "(6792, 12)"
      ]
     },
     "metadata": {},
     "output_type": "display_data"
    }
   ],
   "source": [
    "display(no_diabetic.shape)\n",
    "display(yes_diabetic.shape)"
   ]
  },
  {
   "cell_type": "code",
   "execution_count": 78,
   "id": "cde6dbd6",
   "metadata": {
    "execution": {
     "iopub.execute_input": "2025-06-20T12:50:55.464963Z",
     "iopub.status.busy": "2025-06-20T12:50:55.464631Z",
     "iopub.status.idle": "2025-06-20T12:50:55.471882Z",
     "shell.execute_reply": "2025-06-20T12:50:55.471336Z"
    },
    "papermill": {
     "duration": 0.035063,
     "end_time": "2025-06-20T12:50:55.472871",
     "exception": false,
     "start_time": "2025-06-20T12:50:55.437808",
     "status": "completed"
    },
    "tags": []
   },
   "outputs": [],
   "source": [
    "no_diabetic_undersampled = resample(no_diabetic, \n",
    "                                    replace=False,  # không lấy lại mẫu (sampling without replacement)\n",
    "                                    n_samples=len(yes_diabetic), \n",
    "                                    random_state=0)"
   ]
  },
  {
   "cell_type": "code",
   "execution_count": 79,
   "id": "7115cd4f",
   "metadata": {
    "execution": {
     "iopub.execute_input": "2025-06-20T12:50:55.526352Z",
     "iopub.status.busy": "2025-06-20T12:50:55.525709Z",
     "iopub.status.idle": "2025-06-20T12:50:55.549617Z",
     "shell.execute_reply": "2025-06-20T12:50:55.548945Z"
    },
    "papermill": {
     "duration": 0.05156,
     "end_time": "2025-06-20T12:50:55.550806",
     "exception": false,
     "start_time": "2025-06-20T12:50:55.499246",
     "status": "completed"
    },
    "tags": []
   },
   "outputs": [
    {
     "data": {
      "text/plain": [
       "(6792, 12)"
      ]
     },
     "metadata": {},
     "output_type": "display_data"
    },
    {
     "data": {
      "text/plain": [
       "(6792, 12)"
      ]
     },
     "metadata": {},
     "output_type": "display_data"
    },
    {
     "data": {
      "text/html": [
       "<div>\n",
       "<style scoped>\n",
       "    .dataframe tbody tr th:only-of-type {\n",
       "        vertical-align: middle;\n",
       "    }\n",
       "\n",
       "    .dataframe tbody tr th {\n",
       "        vertical-align: top;\n",
       "    }\n",
       "\n",
       "    .dataframe thead th {\n",
       "        text-align: right;\n",
       "    }\n",
       "</style>\n",
       "<table border=\"1\" class=\"dataframe\">\n",
       "  <thead>\n",
       "    <tr style=\"text-align: right;\">\n",
       "      <th></th>\n",
       "      <th>gender_Male</th>\n",
       "      <th>gender_Other</th>\n",
       "      <th>hypertension_Yes</th>\n",
       "      <th>heart_disease_Yes</th>\n",
       "      <th>smoking_history_former</th>\n",
       "      <th>smoking_history_never</th>\n",
       "      <th>smoking_history_no info</th>\n",
       "      <th>age</th>\n",
       "      <th>bmi_score</th>\n",
       "      <th>haemoglobin_level</th>\n",
       "      <th>blood_glucose_level</th>\n",
       "      <th>is_diabetic</th>\n",
       "    </tr>\n",
       "  </thead>\n",
       "  <tbody>\n",
       "    <tr>\n",
       "      <th>9399</th>\n",
       "      <td>1.0</td>\n",
       "      <td>0.0</td>\n",
       "      <td>0.0</td>\n",
       "      <td>0.0</td>\n",
       "      <td>0.0</td>\n",
       "      <td>1.0</td>\n",
       "      <td>0.0</td>\n",
       "      <td>0.5750</td>\n",
       "      <td>0.198387</td>\n",
       "      <td>0.090909</td>\n",
       "      <td>0.359091</td>\n",
       "      <td>0</td>\n",
       "    </tr>\n",
       "    <tr>\n",
       "      <th>28042</th>\n",
       "      <td>1.0</td>\n",
       "      <td>0.0</td>\n",
       "      <td>0.0</td>\n",
       "      <td>0.0</td>\n",
       "      <td>0.0</td>\n",
       "      <td>1.0</td>\n",
       "      <td>0.0</td>\n",
       "      <td>0.1750</td>\n",
       "      <td>0.276250</td>\n",
       "      <td>0.472727</td>\n",
       "      <td>0.272727</td>\n",
       "      <td>0</td>\n",
       "    </tr>\n",
       "    <tr>\n",
       "      <th>40009</th>\n",
       "      <td>1.0</td>\n",
       "      <td>0.0</td>\n",
       "      <td>0.0</td>\n",
       "      <td>0.0</td>\n",
       "      <td>0.0</td>\n",
       "      <td>0.0</td>\n",
       "      <td>0.0</td>\n",
       "      <td>0.6125</td>\n",
       "      <td>0.224422</td>\n",
       "      <td>0.418182</td>\n",
       "      <td>0.090909</td>\n",
       "      <td>0</td>\n",
       "    </tr>\n",
       "    <tr>\n",
       "      <th>18798</th>\n",
       "      <td>1.0</td>\n",
       "      <td>0.0</td>\n",
       "      <td>0.0</td>\n",
       "      <td>0.0</td>\n",
       "      <td>0.0</td>\n",
       "      <td>0.0</td>\n",
       "      <td>1.0</td>\n",
       "      <td>0.4500</td>\n",
       "      <td>0.211588</td>\n",
       "      <td>0.272727</td>\n",
       "      <td>0.000000</td>\n",
       "      <td>0</td>\n",
       "    </tr>\n",
       "    <tr>\n",
       "      <th>43151</th>\n",
       "      <td>0.0</td>\n",
       "      <td>0.0</td>\n",
       "      <td>0.0</td>\n",
       "      <td>0.0</td>\n",
       "      <td>0.0</td>\n",
       "      <td>0.0</td>\n",
       "      <td>1.0</td>\n",
       "      <td>0.4125</td>\n",
       "      <td>0.211588</td>\n",
       "      <td>0.454545</td>\n",
       "      <td>0.209091</td>\n",
       "      <td>0</td>\n",
       "    </tr>\n",
       "    <tr>\n",
       "      <th>59657</th>\n",
       "      <td>1.0</td>\n",
       "      <td>0.0</td>\n",
       "      <td>0.0</td>\n",
       "      <td>0.0</td>\n",
       "      <td>0.0</td>\n",
       "      <td>0.0</td>\n",
       "      <td>1.0</td>\n",
       "      <td>0.5250</td>\n",
       "      <td>0.183107</td>\n",
       "      <td>0.400000</td>\n",
       "      <td>0.295455</td>\n",
       "      <td>0</td>\n",
       "    </tr>\n",
       "    <tr>\n",
       "      <th>77618</th>\n",
       "      <td>0.0</td>\n",
       "      <td>0.0</td>\n",
       "      <td>0.0</td>\n",
       "      <td>0.0</td>\n",
       "      <td>0.0</td>\n",
       "      <td>1.0</td>\n",
       "      <td>0.0</td>\n",
       "      <td>0.4750</td>\n",
       "      <td>0.181396</td>\n",
       "      <td>0.000000</td>\n",
       "      <td>0.045455</td>\n",
       "      <td>0</td>\n",
       "    </tr>\n",
       "    <tr>\n",
       "      <th>4025</th>\n",
       "      <td>0.0</td>\n",
       "      <td>0.0</td>\n",
       "      <td>0.0</td>\n",
       "      <td>0.0</td>\n",
       "      <td>0.0</td>\n",
       "      <td>1.0</td>\n",
       "      <td>0.0</td>\n",
       "      <td>0.4125</td>\n",
       "      <td>0.319521</td>\n",
       "      <td>0.236364</td>\n",
       "      <td>0.363636</td>\n",
       "      <td>0</td>\n",
       "    </tr>\n",
       "    <tr>\n",
       "      <th>16098</th>\n",
       "      <td>0.0</td>\n",
       "      <td>0.0</td>\n",
       "      <td>0.0</td>\n",
       "      <td>0.0</td>\n",
       "      <td>0.0</td>\n",
       "      <td>0.0</td>\n",
       "      <td>1.0</td>\n",
       "      <td>1.0000</td>\n",
       "      <td>0.263415</td>\n",
       "      <td>0.563636</td>\n",
       "      <td>0.209091</td>\n",
       "      <td>0</td>\n",
       "    </tr>\n",
       "    <tr>\n",
       "      <th>52926</th>\n",
       "      <td>0.0</td>\n",
       "      <td>0.0</td>\n",
       "      <td>0.0</td>\n",
       "      <td>0.0</td>\n",
       "      <td>0.0</td>\n",
       "      <td>0.0</td>\n",
       "      <td>1.0</td>\n",
       "      <td>1.0000</td>\n",
       "      <td>0.211588</td>\n",
       "      <td>0.418182</td>\n",
       "      <td>0.022727</td>\n",
       "      <td>0</td>\n",
       "    </tr>\n",
       "    <tr>\n",
       "      <th>71537</th>\n",
       "      <td>0.0</td>\n",
       "      <td>0.0</td>\n",
       "      <td>0.0</td>\n",
       "      <td>0.0</td>\n",
       "      <td>0.0</td>\n",
       "      <td>0.0</td>\n",
       "      <td>0.0</td>\n",
       "      <td>0.2375</td>\n",
       "      <td>0.227234</td>\n",
       "      <td>0.454545</td>\n",
       "      <td>0.272727</td>\n",
       "      <td>0</td>\n",
       "    </tr>\n",
       "    <tr>\n",
       "      <th>48355</th>\n",
       "      <td>0.0</td>\n",
       "      <td>0.0</td>\n",
       "      <td>0.0</td>\n",
       "      <td>0.0</td>\n",
       "      <td>0.0</td>\n",
       "      <td>0.0</td>\n",
       "      <td>1.0</td>\n",
       "      <td>0.1125</td>\n",
       "      <td>0.211588</td>\n",
       "      <td>0.000000</td>\n",
       "      <td>0.359091</td>\n",
       "      <td>0</td>\n",
       "    </tr>\n",
       "    <tr>\n",
       "      <th>61271</th>\n",
       "      <td>1.0</td>\n",
       "      <td>0.0</td>\n",
       "      <td>0.0</td>\n",
       "      <td>0.0</td>\n",
       "      <td>0.0</td>\n",
       "      <td>0.0</td>\n",
       "      <td>1.0</td>\n",
       "      <td>0.1625</td>\n",
       "      <td>0.078719</td>\n",
       "      <td>0.490909</td>\n",
       "      <td>0.090909</td>\n",
       "      <td>0</td>\n",
       "    </tr>\n",
       "    <tr>\n",
       "      <th>39556</th>\n",
       "      <td>0.0</td>\n",
       "      <td>0.0</td>\n",
       "      <td>0.0</td>\n",
       "      <td>0.0</td>\n",
       "      <td>0.0</td>\n",
       "      <td>0.0</td>\n",
       "      <td>1.0</td>\n",
       "      <td>0.6250</td>\n",
       "      <td>0.211588</td>\n",
       "      <td>0.000000</td>\n",
       "      <td>0.354545</td>\n",
       "      <td>0</td>\n",
       "    </tr>\n",
       "    <tr>\n",
       "      <th>55498</th>\n",
       "      <td>0.0</td>\n",
       "      <td>0.0</td>\n",
       "      <td>1.0</td>\n",
       "      <td>0.0</td>\n",
       "      <td>1.0</td>\n",
       "      <td>0.0</td>\n",
       "      <td>0.0</td>\n",
       "      <td>0.9375</td>\n",
       "      <td>0.227967</td>\n",
       "      <td>0.236364</td>\n",
       "      <td>0.022727</td>\n",
       "      <td>0</td>\n",
       "    </tr>\n",
       "    <tr>\n",
       "      <th>9901</th>\n",
       "      <td>1.0</td>\n",
       "      <td>0.0</td>\n",
       "      <td>0.0</td>\n",
       "      <td>1.0</td>\n",
       "      <td>1.0</td>\n",
       "      <td>0.0</td>\n",
       "      <td>0.0</td>\n",
       "      <td>0.8375</td>\n",
       "      <td>0.317198</td>\n",
       "      <td>0.181818</td>\n",
       "      <td>0.340909</td>\n",
       "      <td>0</td>\n",
       "    </tr>\n",
       "    <tr>\n",
       "      <th>70020</th>\n",
       "      <td>1.0</td>\n",
       "      <td>0.0</td>\n",
       "      <td>0.0</td>\n",
       "      <td>0.0</td>\n",
       "      <td>0.0</td>\n",
       "      <td>1.0</td>\n",
       "      <td>0.0</td>\n",
       "      <td>0.1125</td>\n",
       "      <td>0.089476</td>\n",
       "      <td>0.418182</td>\n",
       "      <td>0.354545</td>\n",
       "      <td>0</td>\n",
       "    </tr>\n",
       "    <tr>\n",
       "      <th>74340</th>\n",
       "      <td>1.0</td>\n",
       "      <td>0.0</td>\n",
       "      <td>0.0</td>\n",
       "      <td>0.0</td>\n",
       "      <td>0.0</td>\n",
       "      <td>0.0</td>\n",
       "      <td>1.0</td>\n",
       "      <td>0.8500</td>\n",
       "      <td>0.211588</td>\n",
       "      <td>0.545455</td>\n",
       "      <td>0.090909</td>\n",
       "      <td>0</td>\n",
       "    </tr>\n",
       "    <tr>\n",
       "      <th>23044</th>\n",
       "      <td>1.0</td>\n",
       "      <td>0.0</td>\n",
       "      <td>0.0</td>\n",
       "      <td>0.0</td>\n",
       "      <td>0.0</td>\n",
       "      <td>0.0</td>\n",
       "      <td>1.0</td>\n",
       "      <td>0.0125</td>\n",
       "      <td>0.105488</td>\n",
       "      <td>0.272727</td>\n",
       "      <td>0.272727</td>\n",
       "      <td>0</td>\n",
       "    </tr>\n",
       "    <tr>\n",
       "      <th>21115</th>\n",
       "      <td>0.0</td>\n",
       "      <td>0.0</td>\n",
       "      <td>0.0</td>\n",
       "      <td>0.0</td>\n",
       "      <td>0.0</td>\n",
       "      <td>0.0</td>\n",
       "      <td>1.0</td>\n",
       "      <td>0.7625</td>\n",
       "      <td>0.111722</td>\n",
       "      <td>0.418182</td>\n",
       "      <td>0.295455</td>\n",
       "      <td>0</td>\n",
       "    </tr>\n",
       "    <tr>\n",
       "      <th>36611</th>\n",
       "      <td>0.0</td>\n",
       "      <td>0.0</td>\n",
       "      <td>0.0</td>\n",
       "      <td>0.0</td>\n",
       "      <td>0.0</td>\n",
       "      <td>0.0</td>\n",
       "      <td>0.0</td>\n",
       "      <td>0.3125</td>\n",
       "      <td>0.108300</td>\n",
       "      <td>0.236364</td>\n",
       "      <td>0.209091</td>\n",
       "      <td>0</td>\n",
       "    </tr>\n",
       "    <tr>\n",
       "      <th>62030</th>\n",
       "      <td>0.0</td>\n",
       "      <td>0.0</td>\n",
       "      <td>0.0</td>\n",
       "      <td>0.0</td>\n",
       "      <td>0.0</td>\n",
       "      <td>1.0</td>\n",
       "      <td>0.0</td>\n",
       "      <td>0.2375</td>\n",
       "      <td>0.165750</td>\n",
       "      <td>0.000000</td>\n",
       "      <td>0.354545</td>\n",
       "      <td>0</td>\n",
       "    </tr>\n",
       "    <tr>\n",
       "      <th>14956</th>\n",
       "      <td>1.0</td>\n",
       "      <td>0.0</td>\n",
       "      <td>0.0</td>\n",
       "      <td>0.0</td>\n",
       "      <td>0.0</td>\n",
       "      <td>0.0</td>\n",
       "      <td>0.0</td>\n",
       "      <td>0.5750</td>\n",
       "      <td>0.211588</td>\n",
       "      <td>0.400000</td>\n",
       "      <td>0.359091</td>\n",
       "      <td>0</td>\n",
       "    </tr>\n",
       "    <tr>\n",
       "      <th>38906</th>\n",
       "      <td>0.0</td>\n",
       "      <td>0.0</td>\n",
       "      <td>0.0</td>\n",
       "      <td>0.0</td>\n",
       "      <td>0.0</td>\n",
       "      <td>1.0</td>\n",
       "      <td>0.0</td>\n",
       "      <td>0.2875</td>\n",
       "      <td>0.259993</td>\n",
       "      <td>0.400000</td>\n",
       "      <td>0.227273</td>\n",
       "      <td>0</td>\n",
       "    </tr>\n",
       "    <tr>\n",
       "      <th>45274</th>\n",
       "      <td>1.0</td>\n",
       "      <td>0.0</td>\n",
       "      <td>0.0</td>\n",
       "      <td>0.0</td>\n",
       "      <td>0.0</td>\n",
       "      <td>0.0</td>\n",
       "      <td>1.0</td>\n",
       "      <td>0.7750</td>\n",
       "      <td>0.211588</td>\n",
       "      <td>0.181818</td>\n",
       "      <td>0.272727</td>\n",
       "      <td>0</td>\n",
       "    </tr>\n",
       "    <tr>\n",
       "      <th>9455</th>\n",
       "      <td>0.0</td>\n",
       "      <td>0.0</td>\n",
       "      <td>0.0</td>\n",
       "      <td>0.0</td>\n",
       "      <td>0.0</td>\n",
       "      <td>0.0</td>\n",
       "      <td>1.0</td>\n",
       "      <td>0.7250</td>\n",
       "      <td>0.211588</td>\n",
       "      <td>0.181818</td>\n",
       "      <td>0.295455</td>\n",
       "      <td>0</td>\n",
       "    </tr>\n",
       "    <tr>\n",
       "      <th>34542</th>\n",
       "      <td>0.0</td>\n",
       "      <td>0.0</td>\n",
       "      <td>0.0</td>\n",
       "      <td>1.0</td>\n",
       "      <td>0.0</td>\n",
       "      <td>1.0</td>\n",
       "      <td>0.0</td>\n",
       "      <td>0.7375</td>\n",
       "      <td>0.178340</td>\n",
       "      <td>0.472727</td>\n",
       "      <td>0.354545</td>\n",
       "      <td>0</td>\n",
       "    </tr>\n",
       "    <tr>\n",
       "      <th>35700</th>\n",
       "      <td>0.0</td>\n",
       "      <td>0.0</td>\n",
       "      <td>0.0</td>\n",
       "      <td>0.0</td>\n",
       "      <td>1.0</td>\n",
       "      <td>0.0</td>\n",
       "      <td>0.0</td>\n",
       "      <td>0.3250</td>\n",
       "      <td>0.162572</td>\n",
       "      <td>0.490909</td>\n",
       "      <td>0.045455</td>\n",
       "      <td>0</td>\n",
       "    </tr>\n",
       "    <tr>\n",
       "      <th>54122</th>\n",
       "      <td>0.0</td>\n",
       "      <td>0.0</td>\n",
       "      <td>0.0</td>\n",
       "      <td>0.0</td>\n",
       "      <td>0.0</td>\n",
       "      <td>0.0</td>\n",
       "      <td>0.0</td>\n",
       "      <td>0.7875</td>\n",
       "      <td>0.211588</td>\n",
       "      <td>0.563636</td>\n",
       "      <td>0.227273</td>\n",
       "      <td>0</td>\n",
       "    </tr>\n",
       "    <tr>\n",
       "      <th>11604</th>\n",
       "      <td>0.0</td>\n",
       "      <td>0.0</td>\n",
       "      <td>0.0</td>\n",
       "      <td>0.0</td>\n",
       "      <td>0.0</td>\n",
       "      <td>0.0</td>\n",
       "      <td>1.0</td>\n",
       "      <td>0.5625</td>\n",
       "      <td>0.273561</td>\n",
       "      <td>0.563636</td>\n",
       "      <td>0.272727</td>\n",
       "      <td>0</td>\n",
       "    </tr>\n",
       "  </tbody>\n",
       "</table>\n",
       "</div>"
      ],
      "text/plain": [
       "       gender_Male  gender_Other  hypertension_Yes  heart_disease_Yes  \\\n",
       "9399           1.0           0.0               0.0                0.0   \n",
       "28042          1.0           0.0               0.0                0.0   \n",
       "40009          1.0           0.0               0.0                0.0   \n",
       "18798          1.0           0.0               0.0                0.0   \n",
       "43151          0.0           0.0               0.0                0.0   \n",
       "59657          1.0           0.0               0.0                0.0   \n",
       "77618          0.0           0.0               0.0                0.0   \n",
       "4025           0.0           0.0               0.0                0.0   \n",
       "16098          0.0           0.0               0.0                0.0   \n",
       "52926          0.0           0.0               0.0                0.0   \n",
       "71537          0.0           0.0               0.0                0.0   \n",
       "48355          0.0           0.0               0.0                0.0   \n",
       "61271          1.0           0.0               0.0                0.0   \n",
       "39556          0.0           0.0               0.0                0.0   \n",
       "55498          0.0           0.0               1.0                0.0   \n",
       "9901           1.0           0.0               0.0                1.0   \n",
       "70020          1.0           0.0               0.0                0.0   \n",
       "74340          1.0           0.0               0.0                0.0   \n",
       "23044          1.0           0.0               0.0                0.0   \n",
       "21115          0.0           0.0               0.0                0.0   \n",
       "36611          0.0           0.0               0.0                0.0   \n",
       "62030          0.0           0.0               0.0                0.0   \n",
       "14956          1.0           0.0               0.0                0.0   \n",
       "38906          0.0           0.0               0.0                0.0   \n",
       "45274          1.0           0.0               0.0                0.0   \n",
       "9455           0.0           0.0               0.0                0.0   \n",
       "34542          0.0           0.0               0.0                1.0   \n",
       "35700          0.0           0.0               0.0                0.0   \n",
       "54122          0.0           0.0               0.0                0.0   \n",
       "11604          0.0           0.0               0.0                0.0   \n",
       "\n",
       "       smoking_history_former  smoking_history_never  smoking_history_no info  \\\n",
       "9399                      0.0                    1.0                      0.0   \n",
       "28042                     0.0                    1.0                      0.0   \n",
       "40009                     0.0                    0.0                      0.0   \n",
       "18798                     0.0                    0.0                      1.0   \n",
       "43151                     0.0                    0.0                      1.0   \n",
       "59657                     0.0                    0.0                      1.0   \n",
       "77618                     0.0                    1.0                      0.0   \n",
       "4025                      0.0                    1.0                      0.0   \n",
       "16098                     0.0                    0.0                      1.0   \n",
       "52926                     0.0                    0.0                      1.0   \n",
       "71537                     0.0                    0.0                      0.0   \n",
       "48355                     0.0                    0.0                      1.0   \n",
       "61271                     0.0                    0.0                      1.0   \n",
       "39556                     0.0                    0.0                      1.0   \n",
       "55498                     1.0                    0.0                      0.0   \n",
       "9901                      1.0                    0.0                      0.0   \n",
       "70020                     0.0                    1.0                      0.0   \n",
       "74340                     0.0                    0.0                      1.0   \n",
       "23044                     0.0                    0.0                      1.0   \n",
       "21115                     0.0                    0.0                      1.0   \n",
       "36611                     0.0                    0.0                      0.0   \n",
       "62030                     0.0                    1.0                      0.0   \n",
       "14956                     0.0                    0.0                      0.0   \n",
       "38906                     0.0                    1.0                      0.0   \n",
       "45274                     0.0                    0.0                      1.0   \n",
       "9455                      0.0                    0.0                      1.0   \n",
       "34542                     0.0                    1.0                      0.0   \n",
       "35700                     1.0                    0.0                      0.0   \n",
       "54122                     0.0                    0.0                      0.0   \n",
       "11604                     0.0                    0.0                      1.0   \n",
       "\n",
       "          age  bmi_score  haemoglobin_level  blood_glucose_level  is_diabetic  \n",
       "9399   0.5750   0.198387           0.090909             0.359091            0  \n",
       "28042  0.1750   0.276250           0.472727             0.272727            0  \n",
       "40009  0.6125   0.224422           0.418182             0.090909            0  \n",
       "18798  0.4500   0.211588           0.272727             0.000000            0  \n",
       "43151  0.4125   0.211588           0.454545             0.209091            0  \n",
       "59657  0.5250   0.183107           0.400000             0.295455            0  \n",
       "77618  0.4750   0.181396           0.000000             0.045455            0  \n",
       "4025   0.4125   0.319521           0.236364             0.363636            0  \n",
       "16098  1.0000   0.263415           0.563636             0.209091            0  \n",
       "52926  1.0000   0.211588           0.418182             0.022727            0  \n",
       "71537  0.2375   0.227234           0.454545             0.272727            0  \n",
       "48355  0.1125   0.211588           0.000000             0.359091            0  \n",
       "61271  0.1625   0.078719           0.490909             0.090909            0  \n",
       "39556  0.6250   0.211588           0.000000             0.354545            0  \n",
       "55498  0.9375   0.227967           0.236364             0.022727            0  \n",
       "9901   0.8375   0.317198           0.181818             0.340909            0  \n",
       "70020  0.1125   0.089476           0.418182             0.354545            0  \n",
       "74340  0.8500   0.211588           0.545455             0.090909            0  \n",
       "23044  0.0125   0.105488           0.272727             0.272727            0  \n",
       "21115  0.7625   0.111722           0.418182             0.295455            0  \n",
       "36611  0.3125   0.108300           0.236364             0.209091            0  \n",
       "62030  0.2375   0.165750           0.000000             0.354545            0  \n",
       "14956  0.5750   0.211588           0.400000             0.359091            0  \n",
       "38906  0.2875   0.259993           0.400000             0.227273            0  \n",
       "45274  0.7750   0.211588           0.181818             0.272727            0  \n",
       "9455   0.7250   0.211588           0.181818             0.295455            0  \n",
       "34542  0.7375   0.178340           0.472727             0.354545            0  \n",
       "35700  0.3250   0.162572           0.490909             0.045455            0  \n",
       "54122  0.7875   0.211588           0.563636             0.227273            0  \n",
       "11604  0.5625   0.273561           0.563636             0.272727            0  "
      ]
     },
     "execution_count": 79,
     "metadata": {},
     "output_type": "execute_result"
    }
   ],
   "source": [
    "display(yes_diabetic.shape)\n",
    "display(no_diabetic_undersampled.shape)\n",
    "no_diabetic_undersampled.head(30)"
   ]
  },
  {
   "cell_type": "code",
   "execution_count": 80,
   "id": "aa03c2c1",
   "metadata": {
    "execution": {
     "iopub.execute_input": "2025-06-20T12:50:55.605502Z",
     "iopub.status.busy": "2025-06-20T12:50:55.605107Z",
     "iopub.status.idle": "2025-06-20T12:50:55.619578Z",
     "shell.execute_reply": "2025-06-20T12:50:55.619051Z"
    },
    "papermill": {
     "duration": 0.042247,
     "end_time": "2025-06-20T12:50:55.620673",
     "exception": false,
     "start_time": "2025-06-20T12:50:55.578426",
     "status": "completed"
    },
    "tags": []
   },
   "outputs": [
    {
     "data": {
      "text/plain": [
       "(13584, 12)"
      ]
     },
     "metadata": {},
     "output_type": "display_data"
    },
    {
     "data": {
      "text/html": [
       "<div>\n",
       "<style scoped>\n",
       "    .dataframe tbody tr th:only-of-type {\n",
       "        vertical-align: middle;\n",
       "    }\n",
       "\n",
       "    .dataframe tbody tr th {\n",
       "        vertical-align: top;\n",
       "    }\n",
       "\n",
       "    .dataframe thead th {\n",
       "        text-align: right;\n",
       "    }\n",
       "</style>\n",
       "<table border=\"1\" class=\"dataframe\">\n",
       "  <thead>\n",
       "    <tr style=\"text-align: right;\">\n",
       "      <th></th>\n",
       "      <th>gender_Male</th>\n",
       "      <th>gender_Other</th>\n",
       "      <th>hypertension_Yes</th>\n",
       "      <th>heart_disease_Yes</th>\n",
       "      <th>smoking_history_former</th>\n",
       "      <th>smoking_history_never</th>\n",
       "      <th>smoking_history_no info</th>\n",
       "      <th>age</th>\n",
       "      <th>bmi_score</th>\n",
       "      <th>haemoglobin_level</th>\n",
       "      <th>blood_glucose_level</th>\n",
       "      <th>is_diabetic</th>\n",
       "    </tr>\n",
       "  </thead>\n",
       "  <tbody>\n",
       "    <tr>\n",
       "      <th>1</th>\n",
       "      <td>1.0</td>\n",
       "      <td>0.0</td>\n",
       "      <td>0.0</td>\n",
       "      <td>0.0</td>\n",
       "      <td>0.0</td>\n",
       "      <td>1.0</td>\n",
       "      <td>0.0</td>\n",
       "      <td>1.0000</td>\n",
       "      <td>0.178340</td>\n",
       "      <td>0.400000</td>\n",
       "      <td>0.295455</td>\n",
       "      <td>1</td>\n",
       "    </tr>\n",
       "    <tr>\n",
       "      <th>7</th>\n",
       "      <td>1.0</td>\n",
       "      <td>0.0</td>\n",
       "      <td>0.0</td>\n",
       "      <td>0.0</td>\n",
       "      <td>0.0</td>\n",
       "      <td>1.0</td>\n",
       "      <td>0.0</td>\n",
       "      <td>0.6375</td>\n",
       "      <td>0.211588</td>\n",
       "      <td>0.636364</td>\n",
       "      <td>0.227273</td>\n",
       "      <td>1</td>\n",
       "    </tr>\n",
       "    <tr>\n",
       "      <th>20</th>\n",
       "      <td>1.0</td>\n",
       "      <td>0.0</td>\n",
       "      <td>0.0</td>\n",
       "      <td>1.0</td>\n",
       "      <td>0.0</td>\n",
       "      <td>1.0</td>\n",
       "      <td>0.0</td>\n",
       "      <td>0.6875</td>\n",
       "      <td>0.327955</td>\n",
       "      <td>0.563636</td>\n",
       "      <td>0.272727</td>\n",
       "      <td>1</td>\n",
       "    </tr>\n",
       "    <tr>\n",
       "      <th>24</th>\n",
       "      <td>0.0</td>\n",
       "      <td>0.0</td>\n",
       "      <td>0.0</td>\n",
       "      <td>1.0</td>\n",
       "      <td>1.0</td>\n",
       "      <td>0.0</td>\n",
       "      <td>0.0</td>\n",
       "      <td>0.8875</td>\n",
       "      <td>0.224545</td>\n",
       "      <td>1.000000</td>\n",
       "      <td>0.818182</td>\n",
       "      <td>1</td>\n",
       "    </tr>\n",
       "    <tr>\n",
       "      <th>36</th>\n",
       "      <td>1.0</td>\n",
       "      <td>0.0</td>\n",
       "      <td>1.0</td>\n",
       "      <td>0.0</td>\n",
       "      <td>0.0</td>\n",
       "      <td>0.0</td>\n",
       "      <td>1.0</td>\n",
       "      <td>0.9625</td>\n",
       "      <td>0.211588</td>\n",
       "      <td>0.454545</td>\n",
       "      <td>0.295455</td>\n",
       "      <td>1</td>\n",
       "    </tr>\n",
       "  </tbody>\n",
       "</table>\n",
       "</div>"
      ],
      "text/plain": [
       "    gender_Male  gender_Other  hypertension_Yes  heart_disease_Yes  \\\n",
       "1           1.0           0.0               0.0                0.0   \n",
       "7           1.0           0.0               0.0                0.0   \n",
       "20          1.0           0.0               0.0                1.0   \n",
       "24          0.0           0.0               0.0                1.0   \n",
       "36          1.0           0.0               1.0                0.0   \n",
       "\n",
       "    smoking_history_former  smoking_history_never  smoking_history_no info  \\\n",
       "1                      0.0                    1.0                      0.0   \n",
       "7                      0.0                    1.0                      0.0   \n",
       "20                     0.0                    1.0                      0.0   \n",
       "24                     1.0                    0.0                      0.0   \n",
       "36                     0.0                    0.0                      1.0   \n",
       "\n",
       "       age  bmi_score  haemoglobin_level  blood_glucose_level  is_diabetic  \n",
       "1   1.0000   0.178340           0.400000             0.295455            1  \n",
       "7   0.6375   0.211588           0.636364             0.227273            1  \n",
       "20  0.6875   0.327955           0.563636             0.272727            1  \n",
       "24  0.8875   0.224545           1.000000             0.818182            1  \n",
       "36  0.9625   0.211588           0.454545             0.295455            1  "
      ]
     },
     "execution_count": 80,
     "metadata": {},
     "output_type": "execute_result"
    }
   ],
   "source": [
    "\n",
    "train_oversampled = pd.concat([yes_diabetic, no_diabetic_undersampled], axis = 0)\n",
    "\n",
    "display(train_oversampled.shape)\n",
    "train_oversampled.head()"
   ]
  },
  {
   "cell_type": "code",
   "execution_count": 81,
   "id": "7cfbaa3e",
   "metadata": {
    "execution": {
     "iopub.execute_input": "2025-06-20T12:50:55.674987Z",
     "iopub.status.busy": "2025-06-20T12:50:55.674508Z",
     "iopub.status.idle": "2025-06-20T12:50:55.678656Z",
     "shell.execute_reply": "2025-06-20T12:50:55.678148Z"
    },
    "papermill": {
     "duration": 0.031805,
     "end_time": "2025-06-20T12:50:55.679702",
     "exception": false,
     "start_time": "2025-06-20T12:50:55.647897",
     "status": "completed"
    },
    "tags": []
   },
   "outputs": [],
   "source": [
    "y_train_over = train_oversampled[\"is_diabetic\"]\n",
    "X_train_over = train_oversampled.drop(\"is_diabetic\", axis = 1)"
   ]
  },
  {
   "cell_type": "markdown",
   "id": "c36cf000",
   "metadata": {
    "papermill": {
     "duration": 0.027148,
     "end_time": "2025-06-20T12:50:55.734088",
     "exception": false,
     "start_time": "2025-06-20T12:50:55.706940",
     "status": "completed"
    },
    "tags": []
   },
   "source": [
    "*DecisionTreeClassifier*"
   ]
  },
  {
   "cell_type": "code",
   "execution_count": 82,
   "id": "713b18a0",
   "metadata": {
    "execution": {
     "iopub.execute_input": "2025-06-20T12:50:55.791166Z",
     "iopub.status.busy": "2025-06-20T12:50:55.790577Z",
     "iopub.status.idle": "2025-06-20T12:50:56.980272Z",
     "shell.execute_reply": "2025-06-20T12:50:56.979463Z"
    },
    "papermill": {
     "duration": 1.218698,
     "end_time": "2025-06-20T12:50:56.981573",
     "exception": false,
     "start_time": "2025-06-20T12:50:55.762875",
     "status": "completed"
    },
    "tags": []
   },
   "outputs": [
    {
     "name": "stdout",
     "output_type": "stream",
     "text": [
      "--- Bắt đầu thử nghiệm Decision Tree trên DỮ LIỆU ĐÃ CÂN BẰNG (UNDERSAMPLED) ---\n",
      "\n",
      "--- Báo cáo quá trình tìm kiếm siêu tham số cho Decision Tree (Dữ liệu cân bằng) ---\n",
      "--------------------------------------------------------------------------------------------------------------\n",
      "Max Depth  | Test Acc   | Test LogLoss | Time (s)   | Complexity (Nodes/Leaves)      | Overfitting (Train/Test Acc)\n",
      "--------------------------------------------------------------------------------------------------------------\n",
      "1          | 0.954      | 0.444        | 0.0253     | 3 / 2                          | 0.729 / 0.954            \n",
      "2          | 0.972      | 0.301        | 0.0241     | 5 / 3                          | 0.834 / 0.972            \n",
      "3          | 0.972      | 0.269        | 0.0260     | 7 / 4                          | 0.834 / 0.972            \n",
      "4          | 0.755      | 0.237        | 0.0288     | 9 / 5                          | 0.846 / 0.755            \n",
      "5          | 0.827      | 0.213        | 0.0292     | 13 / 7                         | 0.887 / 0.827            \n",
      "6          | 0.827      | 0.202        | 0.0307     | 19 / 10                        | 0.887 / 0.827            \n",
      "7          | 0.884      | 0.194        | 0.0335     | 29 / 15                        | 0.900 / 0.884            \n",
      "8          | 0.890      | 0.190        | 0.0355     | 45 / 23                        | 0.905 / 0.890            \n",
      "9          | 0.901      | 0.206        | 0.0346     | 75 / 38                        | 0.908 / 0.901            \n",
      "10         | 0.907      | 0.265        | 0.0356     | 129 / 65                       | 0.913 / 0.907            \n",
      "11         | 0.897      | 0.366        | 0.0378     | 213 / 107                      | 0.916 / 0.897            \n",
      "12         | 0.898      | 0.624        | 0.0390     | 343 / 172                      | 0.923 / 0.898            \n",
      "13         | 0.902      | 0.837        | 0.0395     | 511 / 256                      | 0.931 / 0.902            \n",
      "14         | 0.904      | 1.174        | 0.0431     | 729 / 365                      | 0.939 / 0.904            \n",
      "15         | 0.893      | 1.670        | 0.0421     | 985 / 493                      | 0.947 / 0.893            \n",
      "16         | 0.892      | 2.037        | 0.0423     | 1265 / 633                     | 0.957 / 0.892            \n",
      "17         | 0.888      | 2.681        | 0.0436     | 1525 / 763                     | 0.965 / 0.888            \n",
      "18         | 0.884      | 3.036        | 0.0428     | 1765 / 883                     | 0.972 / 0.884            \n",
      "19         | 0.882      | 3.425        | 0.0430     | 1995 / 998                     | 0.980 / 0.882            \n",
      "20         | 0.879      | 3.768        | 0.0443     | 2179 / 1090                    | 0.985 / 0.879            \n",
      "21         | 0.878      | 3.967        | 0.0437     | 2325 / 1163                    | 0.990 / 0.878            \n",
      "22         | 0.879      | 4.156        | 0.0442     | 2441 / 1221                    | 0.994 / 0.879            \n",
      "23         | 0.880      | 4.165        | 0.0438     | 2517 / 1259                    | 0.996 / 0.880            \n",
      "24         | 0.880      | 4.253        | 0.0440     | 2567 / 1284                    | 0.998 / 0.880            \n",
      "25         | 0.877      | 4.395        | 0.0443     | 2605 / 1303                    | 0.999 / 0.877            \n",
      "26         | 0.879      | 4.353        | 0.0457     | 2617 / 1309                    | 0.999 / 0.879            \n",
      "27         | 0.879      | 4.373        | 0.0454     | 2603 / 1302                    | 0.999 / 0.879            \n",
      "28         | 0.879      | 4.357        | 0.0439     | 2611 / 1306                    | 0.999 / 0.879            \n",
      "29         | 0.879      | 4.369        | 0.0442     | 2613 / 1307                    | 0.999 / 0.879            \n",
      "--------------------------------------------------------------------------------------------------------------\n",
      "\n",
      "📌 Mô hình tốt nhất (Dữ liệu cân bằng) theo Test Accuracy:\n",
      "  ➤ max_depth = 2, Test Accuracy = 0.9721\n",
      "  ➤ Accuracy: 0.9721\n",
      "  ➤ F1 Score: 0.8052\n",
      "  ➤ Độ phức tạp (Nodes/Leaves): 5 / 3\n",
      "              precision    recall  f1-score   support\n",
      "\n",
      "           0       0.97      1.00      0.99     18292\n",
      "           1       1.00      0.67      0.81      1708\n",
      "\n",
      "    accuracy                           0.97     20000\n",
      "   macro avg       0.99      0.84      0.90     20000\n",
      "weighted avg       0.97      0.97      0.97     20000\n",
      "\n"
     ]
    }
   ],
   "source": [
    "# =================================================================================\n",
    "# KỊCH BẢN 1: HUẤN LUYỆN TRÊN DỮ LIỆU ĐÃ CÂN BẰNG (UNDERSAMPLED)\n",
    "# =================================================================================\n",
    "print(\"--- Bắt đầu thử nghiệm Decision Tree trên DỮ LIỆU ĐÃ CÂN BẰNG (UNDERSAMPLED) ---\")\n",
    "\n",
    "import time\n",
    "from sklearn.tree import DecisionTreeClassifier\n",
    "from sklearn.metrics import log_loss, classification_report, f1_score\n",
    "import matplotlib.pyplot as plt\n",
    "\n",
    "# --- Các biến lưu kết quả cho kịch bản DỮ LIỆU CÂN BẰNG ---\n",
    "max_depth_range = range(1, 30) # Đổi tên để tránh xung đột nếu range khác nhau\n",
    "\n",
    "# Các list lưu kết quả cho mô hình trên dữ liệu cân bằng\n",
    "train_acc_bal = []\n",
    "test_acc_bal = []\n",
    "train_loss_bal = []\n",
    "test_loss_bal = []\n",
    "processing_times_bal = []\n",
    "node_counts_bal = []\n",
    "leaf_counts_bal = []\n",
    "\n",
    "# Biến lưu mô hình tốt nhất cho kịch bản này\n",
    "best_model_loss_bal = None\n",
    "best_test_log_loss_bal = float('inf')\n",
    "best_depth_loss_bal = None\n",
    "\n",
    "best_model_acc_bal = None\n",
    "best_test_acc_bal = 0\n",
    "best_depth_acc_bal = None\n",
    "\n",
    "# Vòng lặp huấn luyện\n",
    "for depth in max_depth_range:\n",
    "    start_time = time.time()\n",
    "    \n",
    "    model = DecisionTreeClassifier(max_depth=depth, random_state=0)\n",
    "    # Huấn luyện trên dữ liệu đã cân bằng\n",
    "    model.fit(X_train_over, y_train_over)\n",
    "\n",
    "    # Đo lường độ phức tạp\n",
    "    num_nodes = model.tree_.node_count\n",
    "    num_leaves = model.tree_.n_leaves\n",
    "\n",
    "    # Tính toán Accuracy\n",
    "    acc_train = model.score(X_train_over, y_train_over)\n",
    "    acc_test = model.score(X_test_processed, y_test)\n",
    "    \n",
    "    # Tính toán Log loss\n",
    "    y_train_proba = model.predict_proba(X_train_over)\n",
    "    y_test_proba = model.predict_proba(X_test_processed)\n",
    "    loss_train = log_loss(y_train_over, y_train_proba)\n",
    "    loss_test = log_loss(y_test, y_test_proba)\n",
    "\n",
    "    duration = time.time() - start_time\n",
    "\n",
    "    # Thêm kết quả vào các list tương ứng\n",
    "    train_acc_bal.append(acc_train)\n",
    "    test_acc_bal.append(acc_test)\n",
    "    train_loss_bal.append(loss_train)\n",
    "    test_loss_bal.append(loss_test)\n",
    "    processing_times_bal.append(duration)\n",
    "    node_counts_bal.append(num_nodes)\n",
    "    leaf_counts_bal.append(num_leaves)\n",
    "\n",
    "    # Cập nhật mô hình tốt nhất theo log loss\n",
    "    if loss_test < best_test_log_loss_bal:\n",
    "        best_test_log_loss_bal = loss_test\n",
    "        best_model_loss_bal = model\n",
    "        best_depth_loss_bal = depth\n",
    "\n",
    "    # Cập nhật mô hình tốt nhất theo accuracy\n",
    "    if acc_test > best_test_acc_bal:\n",
    "        best_test_acc_bal = acc_test\n",
    "        best_model_acc_bal = model\n",
    "        best_depth_acc_bal = depth\n",
    "\n",
    "# --- In kết quả cho kịch bản DỮ LIỆU CÂN BẰNG ---\n",
    "print(\"\\n--- Báo cáo quá trình tìm kiếm siêu tham số cho Decision Tree (Dữ liệu cân bằng) ---\")\n",
    "print(\"-\" * 110)\n",
    "print(f\"{'Max Depth':<10} | {'Test Acc':<10} | {'Test LogLoss':<12} | {'Time (s)':<10} | {'Complexity (Nodes/Leaves)':<30} | {'Overfitting (Train/Test Acc)':<25}\")\n",
    "print(\"-\" * 110)\n",
    "\n",
    "for d, acc_tr, acc_te, loss_te, duration, nodes, leaves in zip(max_depth_range, train_acc_bal, test_acc_bal, test_loss_bal, processing_times_bal, node_counts_bal, leaf_counts_bal):\n",
    "    overfitting_metric = f\"{acc_tr:.3f} / {acc_te:.3f}\"\n",
    "    complexity_metric = f\"{nodes} / {leaves}\"\n",
    "    print(f\"{d:<10} | {acc_te:<10.3f} | {loss_te:<12.3f} | {duration:<10.4f} | {complexity_metric:<30} | {overfitting_metric:<25}\")\n",
    "print(\"-\" * 110)\n",
    "\n",
    "print(\"\\n📌 Mô hình tốt nhất (Dữ liệu cân bằng) theo Test Accuracy:\")\n",
    "print(f\"  ➤ max_depth = {best_depth_acc_bal}, Test Accuracy = {best_test_acc_bal:.4f}\")\n",
    "y_pred_acc_bal = best_model_acc_bal.predict(X_test_processed)\n",
    "print(f\"  ➤ Accuracy: {best_model_acc_bal.score(X_test_processed, y_test):.4f}\")\n",
    "print(f\"  ➤ F1 Score: {f1_score(y_test, y_pred_acc_bal):.4f}\")\n",
    "print(f\"  ➤ Độ phức tạp (Nodes/Leaves): {best_model_acc_bal.tree_.node_count} / {best_model_acc_bal.tree_.n_leaves}\")\n",
    "print(classification_report(y_test, y_pred_acc_bal))"
   ]
  },
  {
   "cell_type": "markdown",
   "id": "b5328c10",
   "metadata": {
    "papermill": {
     "duration": 0.027153,
     "end_time": "2025-06-20T12:50:57.037243",
     "exception": false,
     "start_time": "2025-06-20T12:50:57.010090",
     "status": "completed"
    },
    "tags": []
   },
   "source": [
    "*Logistic Regression*"
   ]
  },
  {
   "cell_type": "code",
   "execution_count": 83,
   "id": "b9e9bd51",
   "metadata": {
    "execution": {
     "iopub.execute_input": "2025-06-20T12:50:57.092634Z",
     "iopub.status.busy": "2025-06-20T12:50:57.092398Z",
     "iopub.status.idle": "2025-06-20T12:50:58.088716Z",
     "shell.execute_reply": "2025-06-20T12:50:58.088031Z"
    },
    "papermill": {
     "duration": 1.026029,
     "end_time": "2025-06-20T12:50:58.090022",
     "exception": false,
     "start_time": "2025-06-20T12:50:57.063993",
     "status": "completed"
    },
    "tags": []
   },
   "outputs": [
    {
     "name": "stdout",
     "output_type": "stream",
     "text": [
      "--- Bắt đầu thử nghiệm Logistic Regression trên DỮ LIỆU ĐÃ CÂN BẰNG (UNDERSAMPLED) ---\n",
      "----------------------------------------------------------------------------------------------------\n",
      "Giá trị C    | Test Acc   | F1 Score (Lớp 1)   | Time (s)  \n",
      "----------------------------------------------------------------------------------------------------\n",
      "0.010        | 0.884      | 0.557              | 0.0868    \n",
      "0.100        | 0.891      | 0.577              | 0.2072    \n",
      "1.000        | 0.891      | 0.580              | 0.2579    \n",
      "10.000       | 0.891      | 0.579              | 0.3443    \n",
      "----------------------------------------------------------------------------------------------------\n",
      "\n",
      "📌 Mô hình LR tốt nhất trên dữ liệu ĐÃ CÂN BẰNG:\n",
      "  ➤ Giá trị C tối ưu: 1.0\n",
      "  ➤ F1 Score (Lớp 1) tốt nhất: 0.5804\n",
      "\n",
      "--- Báo cáo phân loại chi tiết cho mô hình tốt nhất ---\n",
      "              precision    recall  f1-score   support\n",
      "\n",
      "           0       0.99      0.89      0.94     18292\n",
      "           1       0.43      0.88      0.58      1708\n",
      "\n",
      "    accuracy                           0.89     20000\n",
      "   macro avg       0.71      0.89      0.76     20000\n",
      "weighted avg       0.94      0.89      0.91     20000\n",
      "\n"
     ]
    }
   ],
   "source": [
    "import time\n",
    "import numpy as np\n",
    "from sklearn.linear_model import LogisticRegression\n",
    "from sklearn.metrics import log_loss, classification_report, f1_score, accuracy_score\n",
    "\n",
    "# --- Bắt đầu thử nghiệm Logistic Regression trên DỮ LIỆU ĐÃ CÂN BẰNG (UNDERSAMPLED) ---\n",
    "print(\"--- Bắt đầu thử nghiệm Logistic Regression trên DỮ LIỆU ĐÃ CÂN BẰNG (UNDERSAMPLED) ---\")\n",
    "\n",
    "# Dãy các giá trị C để thử nghiệm (có thể giữ nguyên hoặc thay đổi)\n",
    "C_values_bal = [0.01, 0.1, 1.0, 10.0] \n",
    "\n",
    "# Các list để lưu trữ kết quả cho kịch bản này (tên biến đã được đổi)\n",
    "train_acc_list_bal = []\n",
    "test_acc_list_bal = []\n",
    "f1_scores_bal = []\n",
    "processing_times_bal = [] # <-- List này đã có nhưng chưa được dùng\n",
    "\n",
    "# Biến lưu mô hình tốt nhất cho kịch bản này (tên biến đã được đổi)\n",
    "best_model_lr_bal = None\n",
    "best_f1_score_bal = 0\n",
    "best_c_value_bal = None\n",
    "\n",
    "for c_val in C_values_bal:\n",
    "    start_time = time.time()\n",
    "    \n",
    "    # Khởi tạo mô hình\n",
    "    model = LogisticRegression(C=c_val, random_state=0, max_iter=1000)\n",
    "    \n",
    "    # Huấn luyện trên dữ liệu ĐÃ CÂN BẰNG\n",
    "    model.fit(X_train_over, y_train_over)\n",
    "    \n",
    "    # Đánh giá trên tập huấn luyện đã cân bằng\n",
    "    y_train_pred_bal = model.predict(X_train_over)\n",
    "    acc_train_bal = accuracy_score(y_train_over, y_train_pred_bal)\n",
    "\n",
    "    # Đánh giá trên tập kiểm thử (luôn là tập test gốc)\n",
    "    y_test_pred = model.predict(X_test_processed)\n",
    "    acc_test = accuracy_score(y_test, y_test_pred)\n",
    "    f1 = f1_score(y_test, y_test_pred, pos_label=1)\n",
    "    \n",
    "    duration = time.time() - start_time\n",
    "    \n",
    "    # Lưu trữ kết quả\n",
    "    train_acc_list_bal.append(acc_train_bal)\n",
    "    test_acc_list_bal.append(acc_test)\n",
    "    f1_scores_bal.append(f1)\n",
    "    # SỬA LỖI: Thêm dòng sau để lưu lại thời gian\n",
    "    processing_times_bal.append(duration)\n",
    "    \n",
    "    # Cập nhật mô hình tốt nhất\n",
    "    if f1 > best_f1_score_bal:\n",
    "        best_f1_score_bal = f1\n",
    "        best_model_lr_bal = model\n",
    "        best_c_value_bal = c_val\n",
    "\n",
    "# In kết quả ra bảng\n",
    "# SỬA LỖI: Thêm cột 'Time (s)' vào header của bảng\n",
    "print(\"-\" * 100)\n",
    "print(f\"{'Giá trị C':<12} | {'Test Acc':<10} | {'F1 Score (Lớp 1)':<18} | {'Time (s)':<10}\")\n",
    "print(\"-\" * 100)\n",
    "# SỬA LỖI: Thêm `duration` vào vòng lặp và câu lệnh print\n",
    "for c, acc_te, f1, duration in zip(C_values_bal, test_acc_list_bal, f1_scores_bal, processing_times_bal):\n",
    "    print(f\"{c:<12.3f} | {acc_te:<10.3f} | {f1:<18.3f} | {duration:<10.4f}\")\n",
    "print(\"-\" * 100)\n",
    "\n",
    "# In thông tin về mô hình tốt nhất\n",
    "print(\"\\n📌 Mô hình LR tốt nhất trên dữ liệu ĐÃ CÂN BẰNG:\")\n",
    "print(f\"  ➤ Giá trị C tối ưu: {best_c_value_bal}\")\n",
    "print(f\"  ➤ F1 Score (Lớp 1) tốt nhất: {best_f1_score_bal:.4f}\")\n",
    "print(\"\\n--- Báo cáo phân loại chi tiết cho mô hình tốt nhất ---\")\n",
    "y_pred_best_bal = best_model_lr_bal.predict(X_test_processed)\n",
    "print(classification_report(y_test, y_pred_best_bal))"
   ]
  },
  {
   "cell_type": "markdown",
   "id": "09f1d1d8",
   "metadata": {
    "papermill": {
     "duration": 0.030056,
     "end_time": "2025-06-20T12:50:58.151935",
     "exception": false,
     "start_time": "2025-06-20T12:50:58.121879",
     "status": "completed"
    },
    "tags": []
   },
   "source": [
    "*KNN neighbours*"
   ]
  },
  {
   "cell_type": "code",
   "execution_count": 84,
   "id": "af824e51",
   "metadata": {
    "execution": {
     "iopub.execute_input": "2025-06-20T12:50:58.211858Z",
     "iopub.status.busy": "2025-06-20T12:50:58.211215Z",
     "iopub.status.idle": "2025-06-20T12:51:32.205462Z",
     "shell.execute_reply": "2025-06-20T12:51:32.204470Z"
    },
    "papermill": {
     "duration": 34.026015,
     "end_time": "2025-06-20T12:51:32.206836",
     "exception": false,
     "start_time": "2025-06-20T12:50:58.180821",
     "status": "completed"
    },
    "tags": []
   },
   "outputs": [
    {
     "name": "stdout",
     "output_type": "stream",
     "text": [
      "\n",
      "\n",
      "--- Bắt đầu thử nghiệm KNN trên DỮ LIỆU ĐÃ CÂN BẰNG (UNDERSAMPLED) ---\n",
      "----------------------------------------------------------------------------------------------------\n",
      "n_neighbors  | weights      | Test Acc   | F1 Score (Lớp 1)   | Time (s)  \n",
      "----------------------------------------------------------------------------------------------------\n",
      "3            | uniform      | 0.879      | 0.552              | 2.5917    \n",
      "3            | distance     | 0.878      | 0.549              | 1.6388    \n",
      "5            | uniform      | 0.880      | 0.558              | 2.5209    \n",
      "5            | distance     | 0.880      | 0.557              | 1.8384    \n",
      "7            | uniform      | 0.878      | 0.557              | 2.7175    \n",
      "7            | distance     | 0.882      | 0.562              | 2.1233    \n",
      "9            | uniform      | 0.874      | 0.549              | 2.7849    \n",
      "9            | distance     | 0.880      | 0.559              | 1.9176    \n",
      "11           | uniform      | 0.874      | 0.548              | 2.6547    \n",
      "11           | distance     | 0.880      | 0.561              | 1.9203    \n",
      "13           | uniform      | 0.871      | 0.544              | 2.6306    \n",
      "13           | distance     | 0.877      | 0.556              | 2.0153    \n",
      "15           | uniform      | 0.870      | 0.543              | 2.7361    \n",
      "15           | distance     | 0.877      | 0.556              | 1.9269    \n",
      "----------------------------------------------------------------------------------------------------\n",
      "\n",
      "📌 Mô hình KNN tốt nhất trên dữ liệu ĐÃ CÂN BẰNG:\n",
      "  ➤ Tham số tối ưu: {'n_neighbors': 7, 'weights': 'distance'}\n",
      "  ➤ F1 Score (Lớp 1) tốt nhất: 0.5617\n",
      "\n",
      "--- Báo cáo phân loại chi tiết cho mô hình tốt nhất ---\n",
      "              precision    recall  f1-score   support\n",
      "\n",
      "           0       0.99      0.88      0.93     18292\n",
      "           1       0.41      0.89      0.56      1708\n",
      "\n",
      "    accuracy                           0.88     20000\n",
      "   macro avg       0.70      0.88      0.75     20000\n",
      "weighted avg       0.94      0.88      0.90     20000\n",
      "\n"
     ]
    }
   ],
   "source": [
    "import time\n",
    "from sklearn.neighbors import KNeighborsClassifier\n",
    "from sklearn.metrics import classification_report, f1_score, accuracy_score\n",
    "\n",
    "# --- Bắt đầu thử nghiệm KNN trên DỮ LIỆU ĐÃ CÂN BẰNG (UNDERSAMPLED) ---\n",
    "print(\"\\n\\n--- Bắt đầu thử nghiệm KNN trên DỮ LIỆU ĐÃ CÂN BẰNG (UNDERSAMPLED) ---\")\n",
    "\n",
    "# --- Không gian siêu tham số để tìm kiếm ---\n",
    "k_values_bal = [3, 5, 7, 9, 11, 13, 15] \n",
    "weight_options_bal = ['uniform', 'distance']\n",
    "\n",
    "# Biến lưu mô hình tốt nhất\n",
    "best_model_knn_bal = None\n",
    "best_f1_score_knn_bal = 0\n",
    "best_params_knn_bal = {}\n",
    "\n",
    "print(\"-\" * 100)\n",
    "print(f\"{'n_neighbors':<12} | {'weights':<12} | {'Test Acc':<10} | {'F1 Score (Lớp 1)':<18} | {'Time (s)':<10}\")\n",
    "print(\"-\" * 100)\n",
    "\n",
    "# Vòng lặp lồng nhau để thử nghiệm các sự kết hợp\n",
    "for k in k_values_bal:\n",
    "    for w in weight_options_bal:\n",
    "        start_time = time.time()\n",
    "        \n",
    "        # Khởi tạo mô hình\n",
    "        model = KNeighborsClassifier(n_neighbors=k, weights=w, n_jobs=-1)\n",
    "        \n",
    "        # Huấn luyện trên dữ liệu ĐÃ CÂN BẰNG (và đã chuẩn hóa)\n",
    "        model.fit(X_train_over, y_train_over)\n",
    "        \n",
    "        # Đánh giá trên tập kiểm thử\n",
    "        y_test_pred = model.predict(X_test_processed)\n",
    "        acc_test = accuracy_score(y_test, y_test_pred)\n",
    "        f1 = f1_score(y_test, y_test_pred, pos_label=1)\n",
    "        \n",
    "        duration = time.time() - start_time\n",
    "        \n",
    "        # In kết quả của lần chạy này\n",
    "        print(f\"{k:<12} | {w:<12} | {acc_test:<10.3f} | {f1:<18.3f} | {duration:<10.4f}\")\n",
    "\n",
    "        # Cập nhật mô hình tốt nhất\n",
    "        if f1 > best_f1_score_knn_bal:\n",
    "            best_f1_score_knn_bal = f1\n",
    "            best_model_knn_bal = model\n",
    "            best_params_knn_bal = {'n_neighbors': k, 'weights': w}\n",
    "\n",
    "print(\"-\" * 100)\n",
    "\n",
    "# In thông tin về mô hình tốt nhất\n",
    "print(\"\\n📌 Mô hình KNN tốt nhất trên dữ liệu ĐÃ CÂN BẰNG:\")\n",
    "print(f\"  ➤ Tham số tối ưu: {best_params_knn_bal}\")\n",
    "print(f\"  ➤ F1 Score (Lớp 1) tốt nhất: {best_f1_score_knn_bal:.4f}\")\n",
    "print(\"\\n--- Báo cáo phân loại chi tiết cho mô hình tốt nhất ---\")\n",
    "y_pred_best_knn_bal = best_model_knn_bal.predict(X_test_processed)\n",
    "print(classification_report(y_test, y_pred_best_knn_bal))"
   ]
  },
  {
   "cell_type": "markdown",
   "id": "82cb161c",
   "metadata": {
    "papermill": {
     "duration": 0.051698,
     "end_time": "2025-06-20T12:51:32.290848",
     "exception": false,
     "start_time": "2025-06-20T12:51:32.239150",
     "status": "completed"
    },
    "tags": []
   },
   "source": [
    "*MLPClassifier*"
   ]
  },
  {
   "cell_type": "code",
   "execution_count": 85,
   "id": "1207ea37",
   "metadata": {
    "execution": {
     "iopub.execute_input": "2025-06-20T12:51:32.369027Z",
     "iopub.status.busy": "2025-06-20T12:51:32.368282Z",
     "iopub.status.idle": "2025-06-20T12:51:40.065790Z",
     "shell.execute_reply": "2025-06-20T12:51:40.065017Z"
    },
    "papermill": {
     "duration": 7.733007,
     "end_time": "2025-06-20T12:51:40.067317",
     "exception": false,
     "start_time": "2025-06-20T12:51:32.334310",
     "status": "completed"
    },
    "tags": []
   },
   "outputs": [
    {
     "name": "stdout",
     "output_type": "stream",
     "text": [
      "\n",
      "\n",
      "--- Bắt đầu thử nghiệm MLP với kiến trúc (50, 25) trên DỮ LIỆU ĐÃ CÂN BẰNG ---\n",
      "Đang huấn luyện mô hình trên dữ liệu ĐÃ CÂN BẰNG...\n",
      "Huấn luyện hoàn tất.\n",
      "\n",
      "--- Kết quả thực thi trên dữ liệu ĐÃ CÂN BẰNG ---\n",
      "--------------------------------------------------------------------------------\n",
      "Kiến trúc       | Alpha      | Test Acc   | F1 Score (Lớp 1)   | Time (s)  \n",
      "--------------------------------------------------------------------------------\n",
      "(50, 25)        | 0.0001     | 0.913      | 0.634              | 7.61      \n",
      "--------------------------------------------------------------------------------\n",
      "\n",
      "--- Báo cáo phân loại chi tiết cho mô hình trên DỮ LIỆU ĐÃ CÂN BẰNG ---\n",
      "              precision    recall  f1-score   support\n",
      "\n",
      "           0       0.99      0.92      0.95     18292\n",
      "           1       0.49      0.88      0.63      1708\n",
      "\n",
      "    accuracy                           0.91     20000\n",
      "   macro avg       0.74      0.90      0.79     20000\n",
      "weighted avg       0.95      0.91      0.92     20000\n",
      "\n"
     ]
    }
   ],
   "source": [
    "import time\n",
    "from sklearn.neural_network import MLPClassifier\n",
    "from sklearn.metrics import classification_report, f1_score, accuracy_score\n",
    "\n",
    "# --- Bắt đầu thử nghiệm MLP trên DỮ LIỆU ĐÃ CÂN BẰNG (UNDERSAMPLED) ---\n",
    "# --- Chỉ với kiến trúc (50, 25) và alpha=0.0001 ---\n",
    "print(\"\\n\\n--- Bắt đầu thử nghiệm MLP với kiến trúc (50, 25) trên DỮ LIỆU ĐÃ CÂN BẰNG ---\")\n",
    "\n",
    "# --- Định nghĩa các tham số CỐ ĐỊNH ---\n",
    "fixed_architecture_bal = (50, 25)\n",
    "fixed_alpha_bal = 0.0001\n",
    "\n",
    "# --- Huấn luyện và đánh giá một mô hình duy nhất ---\n",
    "start_time = time.time()\n",
    "\n",
    "# Khởi tạo mô hình với các tham số đã chọn\n",
    "model_mlp_bal = MLPClassifier(hidden_layer_sizes=fixed_architecture_bal,\n",
    "                              alpha=fixed_alpha_bal,\n",
    "                              random_state=0,\n",
    "                              max_iter=500)\n",
    "\n",
    "# Huấn luyện mô hình trên dữ liệu ĐÃ CÂN BẰNG\n",
    "print(\"Đang huấn luyện mô hình trên dữ liệu ĐÃ CÂN BẰNG...\")\n",
    "model_mlp_bal.fit(X_train_over, y_train_over)\n",
    "print(\"Huấn luyện hoàn tất.\")\n",
    "\n",
    "duration = time.time() - start_time\n",
    "\n",
    "# Đánh giá trên tập kiểm thử (luôn là tập test gốc)\n",
    "y_test_pred_bal = model_mlp_bal.predict(X_test_processed)\n",
    "acc_test_bal = accuracy_score(y_test, y_test_pred_bal)\n",
    "f1_bal = f1_score(y_test, y_test_pred_bal, pos_label=1)\n",
    "\n",
    "# --- In kết quả ---\n",
    "print(\"\\n--- Kết quả thực thi trên dữ liệu ĐÃ CÂN BẰNG ---\")\n",
    "print(\"-\" * 80)\n",
    "print(f\"{'Kiến trúc':<15} | {'Alpha':<10} | {'Test Acc':<10} | {'F1 Score (Lớp 1)':<18} | {'Time (s)':<10}\")\n",
    "print(\"-\" * 80)\n",
    "print(f\"{str(fixed_architecture_bal):<15} | {fixed_alpha_bal:<10.4f} | {acc_test_bal:<10.3f} | {f1_bal:<18.3f} | {duration:<10.2f}\")\n",
    "print(\"-\" * 80)\n",
    "\n",
    "\n",
    "print(\"\\n--- Báo cáo phân loại chi tiết cho mô hình trên DỮ LIỆU ĐÃ CÂN BẰNG ---\")\n",
    "print(classification_report(y_test, y_test_pred_bal))"
   ]
  }
 ],
 "metadata": {
  "kaggle": {
   "accelerator": "gpu",
   "dataSources": [
    {
     "datasetId": 7557893,
     "sourceId": 12013504,
     "sourceType": "datasetVersion"
    }
   ],
   "dockerImageVersionId": 31041,
   "isGpuEnabled": true,
   "isInternetEnabled": true,
   "language": "python",
   "sourceType": "notebook"
  },
  "kernelspec": {
   "display_name": "Python 3",
   "language": "python",
   "name": "python3"
  },
  "language_info": {
   "codemirror_mode": {
    "name": "ipython",
    "version": 3
   },
   "file_extension": ".py",
   "mimetype": "text/x-python",
   "name": "python",
   "nbconvert_exporter": "python",
   "pygments_lexer": "ipython3",
   "version": "3.11.11"
  },
  "papermill": {
   "default_parameters": {},
   "duration": 254.249013,
   "end_time": "2025-06-20T12:51:40.817226",
   "environment_variables": {},
   "exception": null,
   "input_path": "__notebook__.ipynb",
   "output_path": "__notebook__.ipynb",
   "parameters": {},
   "start_time": "2025-06-20T12:47:26.568213",
   "version": "2.6.0"
  }
 },
 "nbformat": 4,
 "nbformat_minor": 5
}
